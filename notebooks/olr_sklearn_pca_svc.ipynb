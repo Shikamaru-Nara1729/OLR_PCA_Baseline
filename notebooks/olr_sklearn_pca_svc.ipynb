{
 "cells": [
  {
   "cell_type": "markdown",
   "metadata": {},
   "source": [
    "# SVM"
   ]
  },
  {
   "cell_type": "markdown",
   "metadata": {},
   "source": [
    "## Imports and Data Loading"
   ]
  },
  {
   "cell_type": "code",
   "execution_count": 1,
   "metadata": {},
   "outputs": [],
   "source": [
    "import sys\n",
    "sys.path.append('/home/apoorva/Desktop/Work/olr')"
   ]
  },
  {
   "cell_type": "code",
   "execution_count": 2,
   "metadata": {},
   "outputs": [],
   "source": [
    "import numpy as np\n",
    "from sklearn.svm import SVC\n",
    "from sklearn.metrics import confusion_matrix, classification_report\n",
    "from sklearn.model_selection import train_test_split\n",
    "import optuna\n",
    "from sklearn.metrics import f1_score\n",
    "from scripts.utils.load import load_pca_anomaly"
   ]
  },
  {
   "cell_type": "code",
   "execution_count": 2,
   "metadata": {},
   "outputs": [
    {
     "data": {
      "text/plain": [
       "((5960, 5960), (40, 135))"
      ]
     },
     "execution_count": 2,
     "metadata": {},
     "output_type": "execute_result"
    }
   ],
   "source": [
    "pca_x, olr_labels = load_pca_anomaly()\n",
    "pca_x.shape, olr_labels.shape"
   ]
  },
  {
   "cell_type": "code",
   "execution_count": 4,
   "metadata": {},
   "outputs": [
    {
     "data": {
      "text/plain": [
       "(5920, 50)"
      ]
     },
     "execution_count": 4,
     "metadata": {},
     "output_type": "execute_result"
    }
   ],
   "source": [
    "pca_x_50 = pca_x[:, :50]\n",
    "pca_x_50.shape"
   ]
  },
  {
   "cell_type": "code",
   "execution_count": 9,
   "metadata": {},
   "outputs": [],
   "source": [
    "def svm_classifier(X_train, y_train, X_test, y_test):\n",
    "    def objective(trial):\n",
    "        \"\"\"Define the objective function\"\"\"\n",
    "\n",
    "        params = {\n",
    "            'kernel': trial.suggest_categorical('kernel', ['sigmoid', 'rbf', 'poly']),\n",
    "            'C': trial.suggest_float('C', 1e-2, 1e2),\n",
    "            'degree': trial.suggest_int('degree', 2, 8)\n",
    "        }\n",
    "\n",
    "        # Fit the model\n",
    "        optuna_model = SVC(**params)\n",
    "        optuna_model.fit(X_train, y_train)\n",
    "\n",
    "        # Make predictions\n",
    "        y_pred = optuna_model.predict(X_test)\n",
    "\n",
    "        # Evaluate predictions\n",
    "        accuracy = f1_score(y_test, y_pred, average='macro')\n",
    "        return accuracy\n",
    "\n",
    "    study = optuna.create_study(direction='maximize')\n",
    "    study.optimize(objective, n_trials=50, n_jobs=-1)\n",
    "    print('Number of finished trials: {}'.format(len(study.trials)))\n",
    "    print('Best trial:')\n",
    "    trial = study.best_trial\n",
    "\n",
    "    print('  Value: {}'.format(trial.value))\n",
    "    print('  Params: ')\n",
    "\n",
    "    for key, value in trial.params.items():\n",
    "        print('    {}: {}'.format(key, value))\n",
    "\n",
    "    params = trial.params\n",
    "    classifier = SVC(**params)\n",
    "    classifier.fit(X_train, y_train)\n",
    "    y_pred = classifier.predict(X_train)\n",
    "    print(\"Training\\n\")\n",
    "    print(confusion_matrix(y_pred=y_pred, y_true=y_train))\n",
    "    print(classification_report(y_pred=y_pred, y_true=y_train))\n",
    "\n",
    "    print(\"Testing\\n\")\n",
    "    y_pred = classifier.predict(X_test)\n",
    "    print(confusion_matrix(y_pred=y_pred, y_true=y_test))\n",
    "    print(classification_report(y_pred=y_pred, y_true=y_test))"
   ]
  },
  {
   "cell_type": "code",
   "execution_count": 6,
   "metadata": {},
   "outputs": [],
   "source": [
    "def pentad_data(count):\n",
    "    '''\n",
    "    count is 0-indexed\n",
    "    count = 0 corresponds to first leading pentad\n",
    "    count = 1 corresponds to second leading pentad\n",
    "    count = 2 corresponds to third leading pentad\n",
    "    '''\n",
    "    global olr_labels, pca_x\n",
    "    assert count == 0 or count == 1 or count == 2\n",
    "    pca_x_50 = pca_x[:, :50]\n",
    "    pca_x_50 = np.array([pca_x_50[i*40+j:i*40+j+15, :] for i in range(40) for j in range(134 - (5*count))])\n",
    "    labels = np.reshape(np.reshape(olr_labels, (40, 134))[:, (5*count):], (-1))\n",
    "    X_train, X_test, y_train, y_test = train_test_split(pca_x_50, labels, random_state=1337, train_size=0.875, stratify=labels)\n",
    "    X_train = np.reshape(X_train, (X_train.shape[0], -1))\n",
    "    X_test = np.reshape(X_test, (X_test.shape[0], -1))\n",
    "    return X_train, X_test, y_train, y_test"
   ]
  },
  {
   "cell_type": "markdown",
   "metadata": {},
   "source": [
    "## First Pentad"
   ]
  },
  {
   "cell_type": "code",
   "execution_count": 7,
   "metadata": {},
   "outputs": [],
   "source": [
    "X_train, X_test, y_train, y_test = pentad_data(0)"
   ]
  },
  {
   "cell_type": "code",
   "execution_count": 10,
   "metadata": {},
   "outputs": [
    {
     "name": "stderr",
     "output_type": "stream",
     "text": [
      "[I 2024-05-25 03:18:46,387] A new study created in memory with name: no-name-28f41c5b-a881-4fd0-a0ee-6ae5c176f2ea\n",
      "[I 2024-05-25 03:18:58,571] Trial 9 finished with value: 0.34491755044202677 and parameters: {'kernel': 'sigmoid', 'C': 75.1692722918331, 'degree': 8}. Best is trial 9 with value: 0.34491755044202677.\n",
      "[I 2024-05-25 03:18:59,079] Trial 1 finished with value: 0.3222574402902272 and parameters: {'kernel': 'sigmoid', 'C': 57.34220527663144, 'degree': 7}. Best is trial 9 with value: 0.34491755044202677.\n",
      "[I 2024-05-25 03:18:59,312] Trial 4 finished with value: 0.3374156344762375 and parameters: {'kernel': 'sigmoid', 'C': 25.088646932059152, 'degree': 5}. Best is trial 9 with value: 0.34491755044202677.\n",
      "[I 2024-05-25 03:18:59,955] Trial 11 finished with value: 0.3419163450100746 and parameters: {'kernel': 'sigmoid', 'C': 31.326479099077932, 'degree': 5}. Best is trial 9 with value: 0.34491755044202677.\n",
      "[I 2024-05-25 03:19:00,721] Trial 3 finished with value: 0.32822827874409577 and parameters: {'kernel': 'sigmoid', 'C': 75.96712815106851, 'degree': 7}. Best is trial 9 with value: 0.34491755044202677.\n",
      "[I 2024-05-25 03:19:00,849] Trial 10 finished with value: 0.32534685102546634 and parameters: {'kernel': 'sigmoid', 'C': 81.78051717160783, 'degree': 6}. Best is trial 9 with value: 0.34491755044202677.\n",
      "[I 2024-05-25 03:19:02,204] Trial 2 finished with value: 0.45681234554474 and parameters: {'kernel': 'rbf', 'C': 46.43917520514272, 'degree': 3}. Best is trial 2 with value: 0.45681234554474.\n",
      "[I 2024-05-25 03:19:02,251] Trial 0 finished with value: 0.45681234554474 and parameters: {'kernel': 'rbf', 'C': 83.92847253604705, 'degree': 3}. Best is trial 2 with value: 0.45681234554474.\n",
      "[I 2024-05-25 03:19:02,267] Trial 8 finished with value: 0.45681234554474 and parameters: {'kernel': 'rbf', 'C': 84.05091842898993, 'degree': 2}. Best is trial 2 with value: 0.45681234554474.\n",
      "[I 2024-05-25 03:19:02,450] Trial 6 finished with value: 0.45681234554474 and parameters: {'kernel': 'rbf', 'C': 63.27862723220028, 'degree': 4}. Best is trial 2 with value: 0.45681234554474.\n",
      "[I 2024-05-25 03:19:02,518] Trial 5 finished with value: 0.45266093107662025 and parameters: {'kernel': 'rbf', 'C': 4.078040600650889, 'degree': 5}. Best is trial 2 with value: 0.45681234554474.\n",
      "[I 2024-05-25 03:19:04,604] Trial 7 finished with value: 0.4013509882596826 and parameters: {'kernel': 'poly', 'C': 60.5751214145531, 'degree': 7}. Best is trial 2 with value: 0.45681234554474.\n",
      "[I 2024-05-25 03:19:12,994] Trial 15 finished with value: 0.35067417633935455 and parameters: {'kernel': 'sigmoid', 'C': 61.32705768314949, 'degree': 7}. Best is trial 2 with value: 0.45681234554474.\n",
      "[I 2024-05-25 03:19:13,887] Trial 14 finished with value: 0.3125951405663077 and parameters: {'kernel': 'sigmoid', 'C': 75.02546447119461, 'degree': 5}. Best is trial 2 with value: 0.45681234554474.\n",
      "[I 2024-05-25 03:19:16,074] Trial 18 finished with value: 0.3189612660085929 and parameters: {'kernel': 'sigmoid', 'C': 64.56021450813485, 'degree': 5}. Best is trial 2 with value: 0.45681234554474.\n",
      "[I 2024-05-25 03:19:18,344] Trial 13 finished with value: 0.45681234554474 and parameters: {'kernel': 'rbf', 'C': 68.34765475755505, 'degree': 2}. Best is trial 2 with value: 0.45681234554474.\n",
      "[I 2024-05-25 03:19:18,565] Trial 20 finished with value: 0.45750149924949507 and parameters: {'kernel': 'poly', 'C': 71.98130321544383, 'degree': 2}. Best is trial 20 with value: 0.45750149924949507.\n",
      "[I 2024-05-25 03:19:18,739] Trial 12 finished with value: 0.4066867694387987 and parameters: {'kernel': 'poly', 'C': 2.6166563718894773, 'degree': 6}. Best is trial 20 with value: 0.45750149924949507.\n",
      "[I 2024-05-25 03:19:18,900] Trial 16 finished with value: 0.45681234554474 and parameters: {'kernel': 'rbf', 'C': 10.007721609059319, 'degree': 3}. Best is trial 20 with value: 0.45750149924949507.\n",
      "[I 2024-05-25 03:19:18,996] Trial 22 finished with value: 0.45750149924949507 and parameters: {'kernel': 'poly', 'C': 99.20118561892629, 'degree': 2}. Best is trial 20 with value: 0.45750149924949507.\n",
      "[I 2024-05-25 03:19:19,020] Trial 21 finished with value: 0.45230784104023547 and parameters: {'kernel': 'poly', 'C': 2.754389635737489, 'degree': 2}. Best is trial 20 with value: 0.45750149924949507.\n",
      "[I 2024-05-25 03:19:19,153] Trial 17 finished with value: 0.45681234554474 and parameters: {'kernel': 'rbf', 'C': 11.307702069676436, 'degree': 2}. Best is trial 20 with value: 0.45750149924949507.\n",
      "[I 2024-05-25 03:19:19,720] Trial 19 finished with value: 0.45681234554474 and parameters: {'kernel': 'rbf', 'C': 24.433722750725583, 'degree': 4}. Best is trial 20 with value: 0.45750149924949507.\n",
      "[I 2024-05-25 03:19:23,169] Trial 23 finished with value: 0.45681234554474 and parameters: {'kernel': 'rbf', 'C': 97.87748186966921, 'degree': 2}. Best is trial 20 with value: 0.45750149924949507.\n",
      "[I 2024-05-25 03:19:31,310] Trial 24 finished with value: 0.45681234554474 and parameters: {'kernel': 'rbf', 'C': 39.454906450121314, 'degree': 2}. Best is trial 20 with value: 0.45750149924949507.\n",
      "[I 2024-05-25 03:19:32,148] Trial 25 finished with value: 0.45681234554474 and parameters: {'kernel': 'rbf', 'C': 98.96749386859251, 'degree': 2}. Best is trial 20 with value: 0.45750149924949507.\n",
      "[I 2024-05-25 03:19:33,006] Trial 31 finished with value: 0.45750149924949507 and parameters: {'kernel': 'poly', 'C': 99.99400074533744, 'degree': 2}. Best is trial 20 with value: 0.45750149924949507.\n",
      "[I 2024-05-25 03:19:33,481] Trial 26 finished with value: 0.45681234554474 and parameters: {'kernel': 'rbf', 'C': 97.23841272807357, 'degree': 2}. Best is trial 20 with value: 0.45750149924949507.\n",
      "[I 2024-05-25 03:19:34,790] Trial 27 finished with value: 0.45681234554474 and parameters: {'kernel': 'rbf', 'C': 98.87282700857946, 'degree': 3}. Best is trial 20 with value: 0.45750149924949507.\n",
      "[I 2024-05-25 03:19:36,563] Trial 28 finished with value: 0.4439405015200863 and parameters: {'kernel': 'poly', 'C': 99.09657658461047, 'degree': 3}. Best is trial 20 with value: 0.45750149924949507.\n",
      "[I 2024-05-25 03:19:36,677] Trial 30 finished with value: 0.4439405015200863 and parameters: {'kernel': 'poly', 'C': 99.08942431203405, 'degree': 3}. Best is trial 20 with value: 0.45750149924949507.\n",
      "[I 2024-05-25 03:19:36,701] Trial 29 finished with value: 0.4439405015200863 and parameters: {'kernel': 'poly', 'C': 92.22451974064013, 'degree': 3}. Best is trial 20 with value: 0.45750149924949507.\n",
      "[I 2024-05-25 03:19:36,945] Trial 32 finished with value: 0.4439405015200863 and parameters: {'kernel': 'poly', 'C': 99.53952470071033, 'degree': 3}. Best is trial 20 with value: 0.45750149924949507.\n",
      "[I 2024-05-25 03:19:36,993] Trial 33 finished with value: 0.4439405015200863 and parameters: {'kernel': 'poly', 'C': 99.77292725023742, 'degree': 3}. Best is trial 20 with value: 0.45750149924949507.\n",
      "[I 2024-05-25 03:19:37,953] Trial 34 finished with value: 0.4439405015200863 and parameters: {'kernel': 'poly', 'C': 96.51640393541348, 'degree': 3}. Best is trial 20 with value: 0.45750149924949507.\n",
      "[I 2024-05-25 03:19:41,177] Trial 35 finished with value: 0.4439405015200863 and parameters: {'kernel': 'poly', 'C': 97.1392492725604, 'degree': 3}. Best is trial 20 with value: 0.45750149924949507.\n",
      "[I 2024-05-25 03:19:49,043] Trial 36 finished with value: 0.4439405015200863 and parameters: {'kernel': 'poly', 'C': 99.82758531823704, 'degree': 3}. Best is trial 20 with value: 0.45750149924949507.\n",
      "[I 2024-05-25 03:19:50,217] Trial 37 finished with value: 0.4439405015200863 and parameters: {'kernel': 'poly', 'C': 90.19294118344784, 'degree': 3}. Best is trial 20 with value: 0.45750149924949507.\n",
      "[I 2024-05-25 03:19:50,852] Trial 38 finished with value: 0.4439405015200863 and parameters: {'kernel': 'poly', 'C': 92.836890186346, 'degree': 3}. Best is trial 20 with value: 0.45750149924949507.\n",
      "[I 2024-05-25 03:19:51,495] Trial 39 finished with value: 0.4439405015200863 and parameters: {'kernel': 'poly', 'C': 91.47451649967215, 'degree': 3}. Best is trial 20 with value: 0.45750149924949507.\n",
      "[I 2024-05-25 03:19:53,069] Trial 40 finished with value: 0.4439405015200863 and parameters: {'kernel': 'poly', 'C': 84.80365483998366, 'degree': 3}. Best is trial 20 with value: 0.45750149924949507.\n",
      "[I 2024-05-25 03:19:53,478] Trial 42 finished with value: 0.4274401304633451 and parameters: {'kernel': 'poly', 'C': 88.12303378040396, 'degree': 4}. Best is trial 20 with value: 0.45750149924949507.\n",
      "[I 2024-05-25 03:19:53,954] Trial 41 finished with value: 0.4274401304633451 and parameters: {'kernel': 'poly', 'C': 86.10505000185425, 'degree': 4}. Best is trial 20 with value: 0.45750149924949507.\n",
      "[I 2024-05-25 03:19:54,033] Trial 43 finished with value: 0.4274401304633451 and parameters: {'kernel': 'poly', 'C': 88.97655735038948, 'degree': 4}. Best is trial 20 with value: 0.45750149924949507.\n",
      "[I 2024-05-25 03:19:54,207] Trial 45 finished with value: 0.4274401304633451 and parameters: {'kernel': 'poly', 'C': 88.9981212699906, 'degree': 4}. Best is trial 20 with value: 0.45750149924949507.\n",
      "[I 2024-05-25 03:19:54,529] Trial 44 finished with value: 0.4274401304633451 and parameters: {'kernel': 'poly', 'C': 89.66156896117944, 'degree': 4}. Best is trial 20 with value: 0.45750149924949507.\n",
      "[I 2024-05-25 03:19:54,743] Trial 46 finished with value: 0.4274401304633451 and parameters: {'kernel': 'poly', 'C': 86.655573606383, 'degree': 4}. Best is trial 20 with value: 0.45750149924949507.\n",
      "[I 2024-05-25 03:19:57,440] Trial 47 finished with value: 0.4274401304633451 and parameters: {'kernel': 'poly', 'C': 87.99952568754475, 'degree': 4}. Best is trial 20 with value: 0.45750149924949507.\n",
      "[I 2024-05-25 03:20:01,238] Trial 48 finished with value: 0.4274401304633451 and parameters: {'kernel': 'poly', 'C': 88.45748292304252, 'degree': 4}. Best is trial 20 with value: 0.45750149924949507.\n",
      "[I 2024-05-25 03:20:01,630] Trial 49 finished with value: 0.4274401304633451 and parameters: {'kernel': 'poly', 'C': 52.952534379892384, 'degree': 4}. Best is trial 20 with value: 0.45750149924949507.\n"
     ]
    },
    {
     "name": "stdout",
     "output_type": "stream",
     "text": [
      "Number of finished trials: 50\n",
      "Best trial:\n",
      "  Value: 0.45750149924949507\n",
      "  Params: \n",
      "    kernel: poly\n",
      "    C: 71.98130321544383\n",
      "    degree: 2\n",
      "Training\n",
      "\n",
      "[[ 203  381   30]\n",
      " [  69 3254   78]\n",
      " [  34  456  185]]\n",
      "              precision    recall  f1-score   support\n",
      "\n",
      "         0.0       0.66      0.33      0.44       614\n",
      "         1.0       0.80      0.96      0.87      3401\n",
      "         2.0       0.63      0.27      0.38       675\n",
      "\n",
      "    accuracy                           0.78      4690\n",
      "   macro avg       0.70      0.52      0.56      4690\n",
      "weighted avg       0.75      0.78      0.74      4690\n",
      "\n",
      "Testing\n",
      "\n",
      "[[ 22  62   4]\n",
      " [ 34 427  25]\n",
      " [  7  70  19]]\n",
      "              precision    recall  f1-score   support\n",
      "\n",
      "         0.0       0.35      0.25      0.29        88\n",
      "         1.0       0.76      0.88      0.82       486\n",
      "         2.0       0.40      0.20      0.26        96\n",
      "\n",
      "    accuracy                           0.70       670\n",
      "   macro avg       0.50      0.44      0.46       670\n",
      "weighted avg       0.66      0.70      0.67       670\n",
      "\n"
     ]
    }
   ],
   "source": [
    "svm_classifier(X_train, y_train, X_test, y_test)"
   ]
  },
  {
   "cell_type": "markdown",
   "metadata": {},
   "source": [
    "## Second Pentad"
   ]
  },
  {
   "cell_type": "code",
   "execution_count": 11,
   "metadata": {},
   "outputs": [],
   "source": [
    "X_train, X_test, y_train, y_test = pentad_data(1)"
   ]
  },
  {
   "cell_type": "code",
   "execution_count": 12,
   "metadata": {},
   "outputs": [
    {
     "name": "stderr",
     "output_type": "stream",
     "text": [
      "[I 2024-05-25 03:20:10,762] A new study created in memory with name: no-name-dea47288-2802-4f3e-b2fc-c7cc814f5f73\n",
      "[I 2024-05-25 03:20:21,099] Trial 9 finished with value: 0.34908144218489046 and parameters: {'kernel': 'sigmoid', 'C': 27.763689985136185, 'degree': 8}. Best is trial 9 with value: 0.34908144218489046.\n",
      "[I 2024-05-25 03:20:21,478] Trial 3 finished with value: 0.32950412384917177 and parameters: {'kernel': 'sigmoid', 'C': 73.49992051231689, 'degree': 2}. Best is trial 9 with value: 0.34908144218489046.\n",
      "[I 2024-05-25 03:20:21,526] Trial 5 finished with value: 0.3280427960437003 and parameters: {'kernel': 'sigmoid', 'C': 12.579574659841274, 'degree': 3}. Best is trial 9 with value: 0.34908144218489046.\n",
      "[I 2024-05-25 03:20:23,071] Trial 2 finished with value: 0.3432025747312372 and parameters: {'kernel': 'sigmoid', 'C': 33.40828295668278, 'degree': 6}. Best is trial 9 with value: 0.34908144218489046.\n",
      "[I 2024-05-25 03:20:24,681] Trial 6 finished with value: 0.4317032760003729 and parameters: {'kernel': 'rbf', 'C': 27.13165418015174, 'degree': 8}. Best is trial 6 with value: 0.4317032760003729.\n",
      "[I 2024-05-25 03:20:24,703] Trial 10 finished with value: 0.4317032760003729 and parameters: {'kernel': 'rbf', 'C': 17.32851303446308, 'degree': 6}. Best is trial 6 with value: 0.4317032760003729.\n",
      "[I 2024-05-25 03:20:24,856] Trial 4 finished with value: 0.4317032760003729 and parameters: {'kernel': 'rbf', 'C': 94.86276341867912, 'degree': 6}. Best is trial 6 with value: 0.4317032760003729.\n",
      "[I 2024-05-25 03:20:25,210] Trial 0 finished with value: 0.4317032760003729 and parameters: {'kernel': 'rbf', 'C': 14.530801894217088, 'degree': 8}. Best is trial 6 with value: 0.4317032760003729.\n",
      "[I 2024-05-25 03:20:26,529] Trial 8 finished with value: 0.4155153837964442 and parameters: {'kernel': 'poly', 'C': 78.03147322966102, 'degree': 4}. Best is trial 6 with value: 0.4317032760003729.\n",
      "[I 2024-05-25 03:20:26,792] Trial 7 finished with value: 0.3657974305949085 and parameters: {'kernel': 'poly', 'C': 1.0757001551216698, 'degree': 5}. Best is trial 6 with value: 0.4317032760003729.\n",
      "[I 2024-05-25 03:20:26,929] Trial 11 finished with value: 0.3619076269157089 and parameters: {'kernel': 'poly', 'C': 55.86140961685298, 'degree': 8}. Best is trial 6 with value: 0.4317032760003729.\n",
      "[I 2024-05-25 03:20:27,003] Trial 1 finished with value: 0.3744822903037914 and parameters: {'kernel': 'poly', 'C': 96.84515656686246, 'degree': 7}. Best is trial 6 with value: 0.4317032760003729.\n",
      "[I 2024-05-25 03:20:36,610] Trial 18 finished with value: 0.34382712447539143 and parameters: {'kernel': 'sigmoid', 'C': 96.36341431059533, 'degree': 4}. Best is trial 6 with value: 0.4317032760003729.\n",
      "[I 2024-05-25 03:20:37,239] Trial 16 finished with value: 0.3346909827760891 and parameters: {'kernel': 'sigmoid', 'C': 73.1275882230751, 'degree': 7}. Best is trial 6 with value: 0.4317032760003729.\n",
      "[I 2024-05-25 03:20:37,959] Trial 13 finished with value: 0.4317032760003729 and parameters: {'kernel': 'rbf', 'C': 72.96887694130093, 'degree': 6}. Best is trial 6 with value: 0.4317032760003729.\n",
      "[I 2024-05-25 03:20:37,999] Trial 14 finished with value: 0.4317032760003729 and parameters: {'kernel': 'rbf', 'C': 15.936871563951888, 'degree': 8}. Best is trial 6 with value: 0.4317032760003729.\n",
      "[I 2024-05-25 03:20:39,156] Trial 12 finished with value: 0.3785339437940027 and parameters: {'kernel': 'poly', 'C': 63.49044706921472, 'degree': 6}. Best is trial 6 with value: 0.4317032760003729.\n",
      "[I 2024-05-25 03:20:40,687] Trial 15 finished with value: 0.42208512994435754 and parameters: {'kernel': 'poly', 'C': 20.613914725519024, 'degree': 3}. Best is trial 6 with value: 0.4317032760003729.\n",
      "[I 2024-05-25 03:20:41,575] Trial 19 finished with value: 0.4317032760003729 and parameters: {'kernel': 'rbf', 'C': 70.60425975073977, 'degree': 8}. Best is trial 6 with value: 0.4317032760003729.\n",
      "[I 2024-05-25 03:20:42,148] Trial 17 finished with value: 0.42208512994435754 and parameters: {'kernel': 'poly', 'C': 34.61519403821969, 'degree': 3}. Best is trial 6 with value: 0.4317032760003729.\n",
      "[I 2024-05-25 03:20:42,780] Trial 21 finished with value: 0.4317032760003729 and parameters: {'kernel': 'rbf', 'C': 54.09729656393779, 'degree': 8}. Best is trial 6 with value: 0.4317032760003729.\n",
      "[I 2024-05-25 03:20:42,828] Trial 22 finished with value: 0.4317032760003729 and parameters: {'kernel': 'rbf', 'C': 95.93738193604734, 'degree': 6}. Best is trial 6 with value: 0.4317032760003729.\n",
      "[I 2024-05-25 03:20:42,882] Trial 23 finished with value: 0.4317032760003729 and parameters: {'kernel': 'rbf', 'C': 48.28824696538332, 'degree': 6}. Best is trial 6 with value: 0.4317032760003729.\n",
      "[I 2024-05-25 03:20:43,665] Trial 20 finished with value: 0.4155153837964442 and parameters: {'kernel': 'poly', 'C': 74.1621212397087, 'degree': 4}. Best is trial 6 with value: 0.4317032760003729.\n",
      "[I 2024-05-25 03:20:53,292] Trial 24 finished with value: 0.4317032760003729 and parameters: {'kernel': 'rbf', 'C': 48.861992901699395, 'degree': 6}. Best is trial 6 with value: 0.4317032760003729.\n",
      "[I 2024-05-25 03:20:54,043] Trial 25 finished with value: 0.4317032760003729 and parameters: {'kernel': 'rbf', 'C': 49.94127515465049, 'degree': 6}. Best is trial 6 with value: 0.4317032760003729.\n",
      "[I 2024-05-25 03:20:54,379] Trial 27 finished with value: 0.4317032760003729 and parameters: {'kernel': 'rbf', 'C': 47.92789280721038, 'degree': 7}. Best is trial 6 with value: 0.4317032760003729.\n",
      "[I 2024-05-25 03:20:54,565] Trial 26 finished with value: 0.4317032760003729 and parameters: {'kernel': 'rbf', 'C': 45.11491477913525, 'degree': 7}. Best is trial 6 with value: 0.4317032760003729.\n",
      "[I 2024-05-25 03:20:55,887] Trial 28 finished with value: 0.4317032760003729 and parameters: {'kernel': 'rbf', 'C': 44.05399845367163, 'degree': 7}. Best is trial 6 with value: 0.4317032760003729.\n",
      "[I 2024-05-25 03:20:57,038] Trial 29 finished with value: 0.4317032760003729 and parameters: {'kernel': 'rbf', 'C': 42.36219726953533, 'degree': 7}. Best is trial 6 with value: 0.4317032760003729.\n",
      "[I 2024-05-25 03:20:57,859] Trial 30 finished with value: 0.4317032760003729 and parameters: {'kernel': 'rbf', 'C': 45.785121260100105, 'degree': 7}. Best is trial 6 with value: 0.4317032760003729.\n",
      "[I 2024-05-25 03:20:58,054] Trial 31 finished with value: 0.4317032760003729 and parameters: {'kernel': 'rbf', 'C': 45.26027611001206, 'degree': 7}. Best is trial 6 with value: 0.4317032760003729.\n",
      "[I 2024-05-25 03:20:58,526] Trial 32 finished with value: 0.4317032760003729 and parameters: {'kernel': 'rbf', 'C': 43.07150144460191, 'degree': 7}. Best is trial 6 with value: 0.4317032760003729.\n",
      "[I 2024-05-25 03:20:58,572] Trial 33 finished with value: 0.4317032760003729 and parameters: {'kernel': 'rbf', 'C': 40.27322985509673, 'degree': 7}. Best is trial 6 with value: 0.4317032760003729.\n",
      "[I 2024-05-25 03:20:58,892] Trial 34 finished with value: 0.4317032760003729 and parameters: {'kernel': 'rbf', 'C': 38.295068444681455, 'degree': 7}. Best is trial 6 with value: 0.4317032760003729.\n",
      "[I 2024-05-25 03:21:00,170] Trial 35 finished with value: 0.43366401802030197 and parameters: {'kernel': 'rbf', 'C': 2.862056042488483, 'degree': 7}. Best is trial 35 with value: 0.43366401802030197.\n",
      "[I 2024-05-25 03:21:10,038] Trial 36 finished with value: 0.4333739910393854 and parameters: {'kernel': 'rbf', 'C': 3.986547959603909, 'degree': 7}. Best is trial 35 with value: 0.43366401802030197.\n",
      "[I 2024-05-25 03:21:10,599] Trial 38 finished with value: 0.43800201412926865 and parameters: {'kernel': 'rbf', 'C': 3.5163155723635384, 'degree': 7}. Best is trial 38 with value: 0.43800201412926865.\n",
      "[I 2024-05-25 03:21:10,941] Trial 37 finished with value: 0.4426327857457702 and parameters: {'kernel': 'rbf', 'C': 2.149011331759734, 'degree': 7}. Best is trial 37 with value: 0.4426327857457702.\n",
      "[I 2024-05-25 03:21:11,582] Trial 39 finished with value: 0.43800201412926865 and parameters: {'kernel': 'rbf', 'C': 3.6138305983365804, 'degree': 5}. Best is trial 37 with value: 0.4426327857457702.\n",
      "[I 2024-05-25 03:21:12,890] Trial 40 finished with value: 0.4317032760003729 and parameters: {'kernel': 'rbf', 'C': 6.074805101450316, 'degree': 5}. Best is trial 37 with value: 0.4426327857457702.\n",
      "[I 2024-05-25 03:21:13,785] Trial 41 finished with value: 0.4317032760003729 and parameters: {'kernel': 'rbf', 'C': 5.110277925525821, 'degree': 5}. Best is trial 37 with value: 0.4426327857457702.\n",
      "[I 2024-05-25 03:21:14,269] Trial 45 finished with value: 0.4317032760003729 and parameters: {'kernel': 'rbf', 'C': 23.21510349947242, 'degree': 5}. Best is trial 37 with value: 0.4426327857457702.\n",
      "[I 2024-05-25 03:21:14,378] Trial 43 finished with value: 0.42935567398018787 and parameters: {'kernel': 'rbf', 'C': 3.8628841169560513, 'degree': 5}. Best is trial 37 with value: 0.4426327857457702.\n",
      "[I 2024-05-25 03:21:14,417] Trial 42 finished with value: 0.43366401802030197 and parameters: {'kernel': 'rbf', 'C': 2.8070603810149137, 'degree': 5}. Best is trial 37 with value: 0.4426327857457702.\n",
      "[I 2024-05-25 03:21:14,466] Trial 44 finished with value: 0.4317032760003729 and parameters: {'kernel': 'rbf', 'C': 8.134416287886102, 'degree': 5}. Best is trial 37 with value: 0.4426327857457702.\n",
      "[I 2024-05-25 03:21:14,513] Trial 46 finished with value: 0.4317032760003729 and parameters: {'kernel': 'rbf', 'C': 5.030454747091175, 'degree': 5}. Best is trial 37 with value: 0.4426327857457702.\n",
      "[I 2024-05-25 03:21:15,626] Trial 47 finished with value: 0.42209892693351286 and parameters: {'kernel': 'rbf', 'C': 1.052551563043778, 'degree': 5}. Best is trial 37 with value: 0.4426327857457702.\n",
      "[I 2024-05-25 03:21:19,881] Trial 49 finished with value: 0.27927927927927926 and parameters: {'kernel': 'rbf', 'C': 0.10499501921650634, 'degree': 5}. Best is trial 37 with value: 0.4426327857457702.\n",
      "[I 2024-05-25 03:21:20,045] Trial 48 finished with value: 0.30753774152086216 and parameters: {'kernel': 'rbf', 'C': 0.3894592091878337, 'degree': 5}. Best is trial 37 with value: 0.4426327857457702.\n"
     ]
    },
    {
     "name": "stdout",
     "output_type": "stream",
     "text": [
      "Number of finished trials: 50\n",
      "Best trial:\n",
      "  Value: 0.4426327857457702\n",
      "  Params: \n",
      "    kernel: rbf\n",
      "    C: 2.149011331759734\n",
      "    degree: 7\n",
      "Training\n",
      "\n",
      "[[ 172  397   21]\n",
      " [  47 3147   56]\n",
      " [  30  474  171]]\n",
      "              precision    recall  f1-score   support\n",
      "\n",
      "         0.0       0.69      0.29      0.41       590\n",
      "         1.0       0.78      0.97      0.87      3250\n",
      "         2.0       0.69      0.25      0.37       675\n",
      "\n",
      "    accuracy                           0.77      4515\n",
      "   macro avg       0.72      0.50      0.55      4515\n",
      "weighted avg       0.76      0.77      0.73      4515\n",
      "\n",
      "Testing\n",
      "\n",
      "[[ 18  59   7]\n",
      " [ 19 420  26]\n",
      " [  7  73  16]]\n",
      "              precision    recall  f1-score   support\n",
      "\n",
      "         0.0       0.41      0.21      0.28        84\n",
      "         1.0       0.76      0.90      0.83       465\n",
      "         2.0       0.33      0.17      0.22        96\n",
      "\n",
      "    accuracy                           0.70       645\n",
      "   macro avg       0.50      0.43      0.44       645\n",
      "weighted avg       0.65      0.70      0.66       645\n",
      "\n"
     ]
    }
   ],
   "source": [
    "svm_classifier(X_train, y_train, X_test, y_test)"
   ]
  },
  {
   "cell_type": "markdown",
   "metadata": {},
   "source": [
    "## Third Pentad"
   ]
  },
  {
   "cell_type": "code",
   "execution_count": 13,
   "metadata": {},
   "outputs": [],
   "source": [
    "X_train, X_test, y_train, y_test = pentad_data(2)"
   ]
  },
  {
   "cell_type": "code",
   "execution_count": 14,
   "metadata": {},
   "outputs": [
    {
     "name": "stderr",
     "output_type": "stream",
     "text": [
      "[I 2024-05-25 03:21:32,324] A new study created in memory with name: no-name-4622af0a-80fd-4423-b9e0-4684f63d1b24\n",
      "[I 2024-05-25 03:21:43,180] Trial 11 finished with value: 0.3732837723150258 and parameters: {'kernel': 'sigmoid', 'C': 49.93355693446433, 'degree': 5}. Best is trial 11 with value: 0.3732837723150258.\n",
      "[I 2024-05-25 03:21:43,425] Trial 1 finished with value: 0.37896497110349486 and parameters: {'kernel': 'sigmoid', 'C': 63.8635393062005, 'degree': 2}. Best is trial 1 with value: 0.37896497110349486.\n",
      "[I 2024-05-25 03:21:43,432] Trial 4 finished with value: 0.3557095566666644 and parameters: {'kernel': 'sigmoid', 'C': 63.98344862983269, 'degree': 5}. Best is trial 1 with value: 0.37896497110349486.\n",
      "[I 2024-05-25 03:21:43,855] Trial 0 finished with value: 0.3746755929284857 and parameters: {'kernel': 'sigmoid', 'C': 97.90849806333738, 'degree': 6}. Best is trial 1 with value: 0.37896497110349486.\n",
      "[I 2024-05-25 03:21:43,928] Trial 8 finished with value: 0.33735827554067765 and parameters: {'kernel': 'sigmoid', 'C': 97.95529472216026, 'degree': 7}. Best is trial 1 with value: 0.37896497110349486.\n",
      "[I 2024-05-25 03:21:44,067] Trial 3 finished with value: 0.3565694172749136 and parameters: {'kernel': 'sigmoid', 'C': 60.321276306157344, 'degree': 5}. Best is trial 1 with value: 0.37896497110349486.\n",
      "[I 2024-05-25 03:21:44,210] Trial 7 finished with value: 0.3754625623253615 and parameters: {'kernel': 'sigmoid', 'C': 64.5549037775503, 'degree': 7}. Best is trial 1 with value: 0.37896497110349486.\n",
      "[I 2024-05-25 03:21:44,249] Trial 9 finished with value: 0.2778300407651301 and parameters: {'kernel': 'sigmoid', 'C': 0.16263966890301707, 'degree': 7}. Best is trial 1 with value: 0.37896497110349486.\n",
      "[I 2024-05-25 03:21:46,361] Trial 10 finished with value: 0.4455204958560741 and parameters: {'kernel': 'rbf', 'C': 53.452986647404565, 'degree': 5}. Best is trial 10 with value: 0.4455204958560741.\n",
      "[I 2024-05-25 03:21:46,369] Trial 6 finished with value: 0.4455204958560741 and parameters: {'kernel': 'rbf', 'C': 63.84327756756896, 'degree': 8}. Best is trial 10 with value: 0.4455204958560741.\n",
      "[I 2024-05-25 03:21:47,667] Trial 5 finished with value: 0.4507074929316058 and parameters: {'kernel': 'poly', 'C': 56.760460237880196, 'degree': 3}. Best is trial 5 with value: 0.4507074929316058.\n",
      "[I 2024-05-25 03:21:47,767] Trial 2 finished with value: 0.4507074929316058 and parameters: {'kernel': 'poly', 'C': 20.8320885994452, 'degree': 3}. Best is trial 5 with value: 0.4507074929316058.\n",
      "[I 2024-05-25 03:21:54,773] Trial 17 finished with value: 0.38836480716399535 and parameters: {'kernel': 'sigmoid', 'C': 25.75329776864725, 'degree': 3}. Best is trial 5 with value: 0.4507074929316058.\n",
      "[I 2024-05-25 03:21:55,416] Trial 13 finished with value: 0.3429559805432188 and parameters: {'kernel': 'sigmoid', 'C': 45.38321747958517, 'degree': 2}. Best is trial 5 with value: 0.4507074929316058.\n",
      "[I 2024-05-25 03:21:56,063] Trial 15 finished with value: 0.3265100690426059 and parameters: {'kernel': 'sigmoid', 'C': 1.0226347819419037, 'degree': 3}. Best is trial 5 with value: 0.4507074929316058.\n",
      "[I 2024-05-25 03:21:57,788] Trial 12 finished with value: 0.4455204958560741 and parameters: {'kernel': 'rbf', 'C': 96.92259670916377, 'degree': 3}. Best is trial 5 with value: 0.4507074929316058.\n",
      "[I 2024-05-25 03:21:58,363] Trial 16 finished with value: 0.4455204958560741 and parameters: {'kernel': 'rbf', 'C': 73.49986752741195, 'degree': 5}. Best is trial 5 with value: 0.4507074929316058.\n",
      "[I 2024-05-25 03:21:58,955] Trial 14 finished with value: 0.4105213543773854 and parameters: {'kernel': 'poly', 'C': 26.55775116716344, 'degree': 4}. Best is trial 5 with value: 0.4507074929316058.\n",
      "[I 2024-05-25 03:21:59,545] Trial 19 finished with value: 0.4507074929316058 and parameters: {'kernel': 'poly', 'C': 6.835138202204847, 'degree': 3}. Best is trial 5 with value: 0.4507074929316058.\n",
      "[I 2024-05-25 03:21:59,563] Trial 18 finished with value: 0.4105213543773854 and parameters: {'kernel': 'poly', 'C': 95.63714685593018, 'degree': 4}. Best is trial 5 with value: 0.4507074929316058.\n",
      "[I 2024-05-25 03:22:01,054] Trial 21 finished with value: 0.4455204958560741 and parameters: {'kernel': 'rbf', 'C': 29.295662530359735, 'degree': 8}. Best is trial 5 with value: 0.4507074929316058.\n",
      "[I 2024-05-25 03:22:01,074] Trial 20 finished with value: 0.4455204958560741 and parameters: {'kernel': 'rbf', 'C': 75.39293226367421, 'degree': 2}. Best is trial 5 with value: 0.4507074929316058.\n",
      "[I 2024-05-25 03:22:03,285] Trial 22 finished with value: 0.4507074929316058 and parameters: {'kernel': 'poly', 'C': 35.784924145160915, 'degree': 3}. Best is trial 5 with value: 0.4507074929316058.\n",
      "[I 2024-05-25 03:22:03,391] Trial 23 finished with value: 0.4507074929316058 and parameters: {'kernel': 'poly', 'C': 26.43253897467268, 'degree': 3}. Best is trial 5 with value: 0.4507074929316058.\n",
      "[I 2024-05-25 03:22:10,218] Trial 24 finished with value: 0.4507074929316058 and parameters: {'kernel': 'poly', 'C': 34.2207258117955, 'degree': 3}. Best is trial 5 with value: 0.4507074929316058.\n",
      "[I 2024-05-25 03:22:10,781] Trial 25 finished with value: 0.4507074929316058 and parameters: {'kernel': 'poly', 'C': 29.227839062021147, 'degree': 3}. Best is trial 5 with value: 0.4507074929316058.\n",
      "[I 2024-05-25 03:22:11,622] Trial 26 finished with value: 0.4507074929316058 and parameters: {'kernel': 'poly', 'C': 30.245890129624676, 'degree': 3}. Best is trial 5 with value: 0.4507074929316058.\n",
      "[I 2024-05-25 03:22:12,068] Trial 31 finished with value: 0.4410263181807856 and parameters: {'kernel': 'poly', 'C': 35.2847016429146, 'degree': 2}. Best is trial 5 with value: 0.4507074929316058.\n",
      "[I 2024-05-25 03:22:13,380] Trial 27 finished with value: 0.4105213543773854 and parameters: {'kernel': 'poly', 'C': 29.202290532604486, 'degree': 4}. Best is trial 5 with value: 0.4507074929316058.\n",
      "[I 2024-05-25 03:22:13,721] Trial 28 finished with value: 0.4105213543773854 and parameters: {'kernel': 'poly', 'C': 32.95345402565937, 'degree': 4}. Best is trial 5 with value: 0.4507074929316058.\n",
      "[I 2024-05-25 03:22:14,282] Trial 29 finished with value: 0.4105213543773854 and parameters: {'kernel': 'poly', 'C': 29.542648323552438, 'degree': 4}. Best is trial 5 with value: 0.4507074929316058.\n",
      "[I 2024-05-25 03:22:14,410] Trial 32 finished with value: 0.4410263181807856 and parameters: {'kernel': 'poly', 'C': 13.055185552480099, 'degree': 2}. Best is trial 5 with value: 0.4507074929316058.\n",
      "[I 2024-05-25 03:22:14,681] Trial 30 finished with value: 0.4105213543773854 and parameters: {'kernel': 'poly', 'C': 31.93779179414322, 'degree': 4}. Best is trial 5 with value: 0.4507074929316058.\n",
      "[I 2024-05-25 03:22:16,530] Trial 33 finished with value: 0.4105213543773854 and parameters: {'kernel': 'poly', 'C': 13.995397234653062, 'degree': 4}. Best is trial 5 with value: 0.4507074929316058.\n",
      "[I 2024-05-25 03:22:18,807] Trial 34 finished with value: 0.4105213543773854 and parameters: {'kernel': 'poly', 'C': 13.923097454642768, 'degree': 4}. Best is trial 5 with value: 0.4507074929316058.\n",
      "[I 2024-05-25 03:22:19,026] Trial 35 finished with value: 0.4105213543773854 and parameters: {'kernel': 'poly', 'C': 11.624067594623982, 'degree': 4}. Best is trial 5 with value: 0.4507074929316058.\n",
      "[I 2024-05-25 03:22:27,122] Trial 36 finished with value: 0.4105213543773854 and parameters: {'kernel': 'poly', 'C': 14.221462485649454, 'degree': 4}. Best is trial 5 with value: 0.4507074929316058.\n",
      "[I 2024-05-25 03:22:27,657] Trial 37 finished with value: 0.4105213543773854 and parameters: {'kernel': 'poly', 'C': 8.578501983260153, 'degree': 4}. Best is trial 5 with value: 0.4507074929316058.\n",
      "[I 2024-05-25 03:22:27,714] Trial 42 finished with value: 0.4410263181807856 and parameters: {'kernel': 'poly', 'C': 12.368552164484425, 'degree': 2}. Best is trial 5 with value: 0.4507074929316058.\n",
      "[I 2024-05-25 03:22:27,779] Trial 43 finished with value: 0.4410263181807856 and parameters: {'kernel': 'poly', 'C': 15.690091508874898, 'degree': 2}. Best is trial 5 with value: 0.4507074929316058.\n",
      "[I 2024-05-25 03:22:28,248] Trial 38 finished with value: 0.4105213543773854 and parameters: {'kernel': 'poly', 'C': 13.231244382213983, 'degree': 4}. Best is trial 5 with value: 0.4507074929316058.\n",
      "[I 2024-05-25 03:22:28,292] Trial 44 finished with value: 0.4410263181807856 and parameters: {'kernel': 'poly', 'C': 16.142730233704924, 'degree': 2}. Best is trial 5 with value: 0.4507074929316058.\n",
      "[I 2024-05-25 03:22:28,753] Trial 39 finished with value: 0.4105213543773854 and parameters: {'kernel': 'poly', 'C': 15.866236215388515, 'degree': 4}. Best is trial 5 with value: 0.4507074929316058.\n",
      "[I 2024-05-25 03:22:29,250] Trial 40 finished with value: 0.4105213543773854 and parameters: {'kernel': 'poly', 'C': 12.147850023805777, 'degree': 4}. Best is trial 5 with value: 0.4507074929316058.\n",
      "[I 2024-05-25 03:22:29,574] Trial 41 finished with value: 0.37540798937309977 and parameters: {'kernel': 'poly', 'C': 13.131867206100557, 'degree': 6}. Best is trial 5 with value: 0.4507074929316058.\n",
      "[I 2024-05-25 03:22:32,174] Trial 47 finished with value: 0.4410263181807856 and parameters: {'kernel': 'poly', 'C': 18.541082242952463, 'degree': 2}. Best is trial 5 with value: 0.4507074929316058.\n",
      "[I 2024-05-25 03:22:32,216] Trial 45 finished with value: 0.37540798937309977 and parameters: {'kernel': 'poly', 'C': 16.590608016599646, 'degree': 6}. Best is trial 5 with value: 0.4507074929316058.\n",
      "[I 2024-05-25 03:22:33,325] Trial 46 finished with value: 0.37540798937309977 and parameters: {'kernel': 'poly', 'C': 40.878759494990184, 'degree': 6}. Best is trial 5 with value: 0.4507074929316058.\n",
      "[I 2024-05-25 03:22:35,765] Trial 49 finished with value: 0.4410263181807856 and parameters: {'kernel': 'poly', 'C': 19.980935957279414, 'degree': 2}. Best is trial 5 with value: 0.4507074929316058.\n",
      "[I 2024-05-25 03:22:36,569] Trial 48 finished with value: 0.37540798937309977 and parameters: {'kernel': 'poly', 'C': 40.63151721686333, 'degree': 6}. Best is trial 5 with value: 0.4507074929316058.\n"
     ]
    },
    {
     "name": "stdout",
     "output_type": "stream",
     "text": [
      "Number of finished trials: 50\n",
      "Best trial:\n",
      "  Value: 0.4507074929316058\n",
      "  Params: \n",
      "    kernel: poly\n",
      "    C: 56.760460237880196\n",
      "    degree: 3\n",
      "Training\n",
      "\n",
      "[[ 160  378   30]\n",
      " [  39 2991   67]\n",
      " [  25  448  202]]\n",
      "              precision    recall  f1-score   support\n",
      "\n",
      "         0.0       0.71      0.28      0.40       568\n",
      "         1.0       0.78      0.97      0.87      3097\n",
      "         2.0       0.68      0.30      0.41       675\n",
      "\n",
      "    accuracy                           0.77      4340\n",
      "   macro avg       0.72      0.52      0.56      4340\n",
      "weighted avg       0.76      0.77      0.73      4340\n",
      "\n",
      "Testing\n",
      "\n",
      "[[ 21  57   3]\n",
      " [ 20 395  28]\n",
      " [  7  74  15]]\n",
      "              precision    recall  f1-score   support\n",
      "\n",
      "         0.0       0.44      0.26      0.33        81\n",
      "         1.0       0.75      0.89      0.82       443\n",
      "         2.0       0.33      0.16      0.21        96\n",
      "\n",
      "    accuracy                           0.70       620\n",
      "   macro avg       0.50      0.44      0.45       620\n",
      "weighted avg       0.64      0.70      0.66       620\n",
      "\n"
     ]
    }
   ],
   "source": [
    "svm_classifier(X_train, y_train, X_test, y_test)"
   ]
  }
 ],
 "metadata": {
  "kernelspec": {
   "display_name": "tf_clone",
   "language": "python",
   "name": "python3"
  },
  "language_info": {
   "codemirror_mode": {
    "name": "ipython",
    "version": 3
   },
   "file_extension": ".py",
   "mimetype": "text/x-python",
   "name": "python",
   "nbconvert_exporter": "python",
   "pygments_lexer": "ipython3",
   "version": "3.10.13"
  }
 },
 "nbformat": 4,
 "nbformat_minor": 2
}
