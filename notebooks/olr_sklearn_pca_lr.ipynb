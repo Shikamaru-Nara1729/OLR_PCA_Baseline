{
 "cells": [
  {
   "cell_type": "markdown",
   "metadata": {},
   "source": [
    "# Logistic Regression"
   ]
  },
  {
   "cell_type": "markdown",
   "metadata": {},
   "source": [
    "## Imports"
   ]
  },
  {
   "cell_type": "code",
   "execution_count": 1,
   "metadata": {},
   "outputs": [],
   "source": [
    "import sys\n",
    "sys.path.append('/home/apoorva/Desktop/Work/olr')"
   ]
  },
  {
   "cell_type": "code",
   "execution_count": null,
   "metadata": {},
   "outputs": [],
   "source": [
    "import numpy as np\n",
    "from sklearn.linear_model import LogisticRegression\n",
    "from sklearn.svm import SVC\n",
    "from sklearn.metrics import confusion_matrix, classification_report\n",
    "from sklearn.model_selection import train_test_split, RepeatedStratifiedKFold, GridSearchCV, cross_val_score\n",
    "from xgboost import XGBClassifier\n",
    "import optuna\n",
    "from sklearn.metrics import f1_score\n",
    "from scripts.utils.load import load_pca_anomaly"
   ]
  },
  {
   "cell_type": "markdown",
   "metadata": {},
   "source": [
    "## Loading Data"
   ]
  },
  {
   "cell_type": "code",
   "execution_count": 3,
   "metadata": {},
   "outputs": [],
   "source": [
    "pca_x, olr_labels = load_pca_anomaly()\n",
    "np.save('../../datasets/pca_x', pca_x)"
   ]
  },
  {
   "cell_type": "code",
   "execution_count": 4,
   "metadata": {},
   "outputs": [
    {
     "data": {
      "text/plain": [
       "((5920, 5920), (40, 134))"
      ]
     },
     "execution_count": 4,
     "metadata": {},
     "output_type": "execute_result"
    }
   ],
   "source": [
    "pca_x.shape, olr_labels.shape"
   ]
  },
  {
   "cell_type": "code",
   "execution_count": 5,
   "metadata": {},
   "outputs": [
    {
     "data": {
      "text/plain": [
       "(5920, 50)"
      ]
     },
     "execution_count": 5,
     "metadata": {},
     "output_type": "execute_result"
    }
   ],
   "source": [
    "pca_x_50 = pca_x[:, :50]\n",
    "pca_x_50.shape"
   ]
  },
  {
   "cell_type": "code",
   "execution_count": null,
   "metadata": {},
   "outputs": [],
   "source": [
    "def log_reg(X_train, y_train, X_test, y_test):\n",
    "    def objective(trial):\n",
    "        \"\"\"Define the objective function\"\"\"\n",
    "\n",
    "        params = {\n",
    "            'solver': trial.suggest_categorical('solver', ['newton-cg', 'lbfgs', 'saga']),\n",
    "            'penalty': trial.suggest_categorical('penalty', [None, 'l1', 'l2', 'elasticnet']),\n",
    "            'C': trial.suggest_loguniform('C', 1e-2, 1e2),\n",
    "            'l1_ratio': trial.suggest_uniform('l1_ratio', 0, 1.0)\n",
    "        }\n",
    "\n",
    "        if (params['solver'] == 'newton-cg' or params['solver'] == 'lbfgs') and (\n",
    "            params['penalty'] == 'l1' or params['penalty'] == 'elasticnet'):\n",
    "            return 0\n",
    "\n",
    "        # Fit the model\n",
    "        optuna_model = LogisticRegression(**params)\n",
    "        optuna_model.fit(X_train, y_train)\n",
    "\n",
    "        # Make predictions\n",
    "        y_pred = optuna_model.predict(X_test)\n",
    "\n",
    "        # Evaluate predictions\n",
    "        accuracy = f1_score(y_test, y_pred, average='macro')\n",
    "        return accuracy\n",
    "\n",
    "    study = optuna.create_study(direction='maximize')\n",
    "    study.optimize(objective, n_trials=50, n_jobs=-1)\n",
    "    print('Number of finished trials: {}'.format(len(study.trials)))\n",
    "    print('Best trial:')\n",
    "    trial = study.best_trial\n",
    "\n",
    "    print('  Value: {}'.format(trial.value))\n",
    "    print('  Params: ')\n",
    "\n",
    "    for key, value in trial.params.items():\n",
    "        print('    {}: {}'.format(key, value))\n",
    "\n",
    "    params = trial.params\n",
    "    classifier = LogisticRegression(**params)\n",
    "    classifier.fit(X_train, y_train)\n",
    "    y_pred = classifier.predict(X_train)\n",
    "    print(\"Training\\n\")\n",
    "    print(confusion_matrix(y_pred=y_pred, y_true=y_train))\n",
    "    print(classification_report(y_pred=y_pred, y_true=y_train))\n",
    "\n",
    "    print(\"Testing\\n\")\n",
    "    y_pred = classifier.predict(X_test)\n",
    "    print(confusion_matrix(y_pred=y_pred, y_true=y_test))\n",
    "    print(classification_report(y_pred=y_pred, y_true=y_test))"
   ]
  },
  {
   "cell_type": "code",
   "execution_count": null,
   "metadata": {},
   "outputs": [],
   "source": [
    "def pentad_data(count):\n",
    "    '''\n",
    "    count is 0-indexed\n",
    "    count = 0 corresponds to first leading pentad\n",
    "    count = 1 corresponds to second leading pentad\n",
    "    count = 2 corresponds to third leading pentad\n",
    "    '''\n",
    "    global olr_labels, pca_x\n",
    "    assert count == 0 or count == 1 or count == 2\n",
    "    pca_x_50 = pca_x[:, :50]\n",
    "    pca_x_50 = np.array([pca_x_50[i*40+j:i*40+j+15, :] for i in range(40) for j in range(134 - (5*count))])\n",
    "    labels = np.reshape(np.reshape(olr_labels, (40, 134))[:, (5*count):], (-1))\n",
    "    X_train, X_test, y_train, y_test = train_test_split(pca_x_50, labels, random_state=1337, train_size=0.875, stratify=labels)\n",
    "    X_train = np.reshape(X_train, (X_train.shape[0], -1))\n",
    "    X_test = np.reshape(X_test, (X_test.shape[0], -1))\n",
    "    return X_train, X_test, y_train, y_test"
   ]
  },
  {
   "cell_type": "markdown",
   "metadata": {},
   "source": [
    "## First Pentad"
   ]
  },
  {
   "cell_type": "code",
   "execution_count": 42,
   "metadata": {},
   "outputs": [],
   "source": [
    "X_train, X_test, y_train, y_test = pentad_data(0)"
   ]
  },
  {
   "cell_type": "code",
   "execution_count": 44,
   "metadata": {},
   "outputs": [
    {
     "name": "stderr",
     "output_type": "stream",
     "text": [
      "[I 2024-05-25 02:06:57,821] A new study created in memory with name: no-name-9e36e937-b5c3-43ff-ae3e-56ecc94a5a16\n",
      "[I 2024-05-25 02:07:08,087] Trial 0 finished with value: 0.36453468041839643 and parameters: {'solver': 'saga', 'penalty': 'elasticnet', 'C': 0.03154594406020433, 'l1_ratio': 0.3900815899612645}. Best is trial 0 with value: 0.36453468041839643.\n",
      "[I 2024-05-25 02:08:00,648] Trial 1 finished with value: 0.37509011232257966 and parameters: {'solver': 'newton-cg', 'penalty': 'l2', 'C': 0.012684310063229629, 'l1_ratio': 0.6033460349150164}. Best is trial 1 with value: 0.37509011232257966.\n",
      "[I 2024-05-25 02:08:01,215] Trial 2 finished with value: 0.36492031789398943 and parameters: {'solver': 'lbfgs', 'penalty': None, 'C': 0.23776959225495936, 'l1_ratio': 0.8731210305385908}. Best is trial 1 with value: 0.37509011232257966.\n",
      "[I 2024-05-25 02:08:01,218] Trial 3 finished with value: 0.0 and parameters: {'solver': 'lbfgs', 'penalty': 'l1', 'C': 99.29118478987908, 'l1_ratio': 0.691015040661632}. Best is trial 1 with value: 0.37509011232257966.\n",
      "[I 2024-05-25 02:08:54,575] Trial 4 finished with value: 0.37492786723998933 and parameters: {'solver': 'newton-cg', 'penalty': None, 'C': 2.5463022880598305, 'l1_ratio': 0.19042064832760586}. Best is trial 1 with value: 0.37509011232257966.\n",
      "[I 2024-05-25 02:08:54,577] Trial 5 finished with value: 0.0 and parameters: {'solver': 'newton-cg', 'penalty': 'elasticnet', 'C': 10.037259743359908, 'l1_ratio': 0.4616235070164669}. Best is trial 1 with value: 0.37509011232257966.\n",
      "[I 2024-05-25 02:09:04,878] Trial 6 finished with value: 0.3643918225615215 and parameters: {'solver': 'saga', 'penalty': 'elasticnet', 'C': 33.601419651294954, 'l1_ratio': 0.4964391646910148}. Best is trial 1 with value: 0.37509011232257966.\n",
      "[I 2024-05-25 02:09:55,975] Trial 7 finished with value: 0.37492786723998933 and parameters: {'solver': 'newton-cg', 'penalty': None, 'C': 0.014269828227843912, 'l1_ratio': 0.9860267738569259}. Best is trial 1 with value: 0.37509011232257966.\n",
      "[I 2024-05-25 02:09:56,543] Trial 8 finished with value: 0.36492031789398943 and parameters: {'solver': 'lbfgs', 'penalty': None, 'C': 0.6596100430096368, 'l1_ratio': 0.8032972919743716}. Best is trial 1 with value: 0.37509011232257966.\n",
      "[I 2024-05-25 02:10:49,977] Trial 9 finished with value: 0.37509011232257966 and parameters: {'solver': 'newton-cg', 'penalty': 'l2', 'C': 1.4806603219869363, 'l1_ratio': 0.6048624299106948}. Best is trial 1 with value: 0.37509011232257966.\n",
      "[I 2024-05-25 02:11:43,860] Trial 10 finished with value: 0.37509011232257966 and parameters: {'solver': 'newton-cg', 'penalty': 'l2', 'C': 0.11370426678978682, 'l1_ratio': 0.06102727832295507}. Best is trial 1 with value: 0.37509011232257966.\n",
      "[I 2024-05-25 02:12:39,437] Trial 11 finished with value: 0.37509011232257966 and parameters: {'solver': 'newton-cg', 'penalty': 'l2', 'C': 2.891108045373819, 'l1_ratio': 0.6980676253617708}. Best is trial 1 with value: 0.37509011232257966.\n",
      "[I 2024-05-25 02:13:33,993] Trial 12 finished with value: 0.37509011232257966 and parameters: {'solver': 'newton-cg', 'penalty': 'l2', 'C': 0.10685608117230717, 'l1_ratio': 0.6246920056481972}. Best is trial 1 with value: 0.37509011232257966.\n",
      "[I 2024-05-25 02:14:26,730] Trial 13 finished with value: 0.37509011232257966 and parameters: {'solver': 'newton-cg', 'penalty': 'l2', 'C': 0.8557207440998433, 'l1_ratio': 0.25304648929238654}. Best is trial 1 with value: 0.37509011232257966.\n",
      "[I 2024-05-25 02:15:19,313] Trial 14 finished with value: 0.37071313619813817 and parameters: {'solver': 'newton-cg', 'penalty': 'l2', 'C': 6.598825046925898, 'l1_ratio': 0.6017061662757472}. Best is trial 1 with value: 0.37509011232257966.\n",
      "[I 2024-05-25 02:15:30,296] Trial 15 finished with value: 0.36600846466991865 and parameters: {'solver': 'saga', 'penalty': 'l1', 'C': 0.010218766007815043, 'l1_ratio': 0.3627829238364586}. Best is trial 1 with value: 0.37509011232257966.\n",
      "[I 2024-05-25 02:16:21,684] Trial 16 finished with value: 0.374245575253414 and parameters: {'solver': 'newton-cg', 'penalty': 'l2', 'C': 0.20780365771542747, 'l1_ratio': 0.7918748760822942}. Best is trial 1 with value: 0.37509011232257966.\n",
      "[I 2024-05-25 02:17:12,908] Trial 17 finished with value: 0.37492786723998933 and parameters: {'solver': 'newton-cg', 'penalty': 'l2', 'C': 0.04028049178086017, 'l1_ratio': 0.5620974303742041}. Best is trial 1 with value: 0.37509011232257966.\n",
      "[I 2024-05-25 02:17:13,486] Trial 18 finished with value: 0.3584768333852099 and parameters: {'solver': 'lbfgs', 'penalty': 'l2', 'C': 0.47209725614963866, 'l1_ratio': 0.31703957719963755}. Best is trial 1 with value: 0.37509011232257966.\n",
      "[I 2024-05-25 02:17:23,788] Trial 19 finished with value: 0.36383386157540615 and parameters: {'solver': 'saga', 'penalty': 'l1', 'C': 1.9058559848445829, 'l1_ratio': 0.4603361481135938}. Best is trial 1 with value: 0.37509011232257966.\n",
      "[I 2024-05-25 02:18:15,524] Trial 20 finished with value: 0.37509011232257966 and parameters: {'solver': 'newton-cg', 'penalty': 'l2', 'C': 11.618697393914095, 'l1_ratio': 0.7253267002316299}. Best is trial 1 with value: 0.37509011232257966.\n",
      "[I 2024-05-25 02:19:08,572] Trial 21 finished with value: 0.37509011232257966 and parameters: {'solver': 'newton-cg', 'penalty': 'l2', 'C': 0.07200078917970376, 'l1_ratio': 0.006987919658449693}. Best is trial 1 with value: 0.37509011232257966.\n",
      "[I 2024-05-25 02:20:00,641] Trial 22 finished with value: 0.37509011232257966 and parameters: {'solver': 'newton-cg', 'penalty': 'l2', 'C': 0.024863045016604787, 'l1_ratio': 0.030579175070402993}. Best is trial 1 with value: 0.37509011232257966.\n",
      "[I 2024-05-25 02:20:55,240] Trial 23 finished with value: 0.37509011232257966 and parameters: {'solver': 'newton-cg', 'penalty': 'l2', 'C': 0.21429917656489908, 'l1_ratio': 0.1076977292863015}. Best is trial 1 with value: 0.37509011232257966.\n",
      "[I 2024-05-25 02:21:49,776] Trial 24 finished with value: 0.37509011232257966 and parameters: {'solver': 'newton-cg', 'penalty': 'l2', 'C': 0.07425815079800542, 'l1_ratio': 0.5525725343440686}. Best is trial 1 with value: 0.37509011232257966.\n",
      "[I 2024-05-25 02:22:43,912] Trial 25 finished with value: 0.37509011232257966 and parameters: {'solver': 'newton-cg', 'penalty': 'l2', 'C': 0.39292886532587457, 'l1_ratio': 0.17336755639093826}. Best is trial 1 with value: 0.37509011232257966.\n",
      "[I 2024-05-25 02:23:37,255] Trial 26 finished with value: 0.37509011232257966 and parameters: {'solver': 'newton-cg', 'penalty': 'l2', 'C': 1.5575114719356316, 'l1_ratio': 0.40850794090146636}. Best is trial 1 with value: 0.37509011232257966.\n",
      "[I 2024-05-25 02:23:37,276] Trial 27 finished with value: 0.0 and parameters: {'solver': 'newton-cg', 'penalty': 'elasticnet', 'C': 0.13307531406394948, 'l1_ratio': 0.9547901262744313}. Best is trial 1 with value: 0.37509011232257966.\n",
      "[I 2024-05-25 02:23:47,613] Trial 28 finished with value: 0.3676923203868274 and parameters: {'solver': 'saga', 'penalty': 'l1', 'C': 0.0517596558184217, 'l1_ratio': 0.6489741172587865}. Best is trial 1 with value: 0.37509011232257966.\n",
      "[I 2024-05-25 02:23:47,633] Trial 29 finished with value: 0.0 and parameters: {'solver': 'lbfgs', 'penalty': 'elasticnet', 'C': 0.02283634006293022, 'l1_ratio': 0.3297283149845032}. Best is trial 1 with value: 0.37509011232257966.\n",
      "[I 2024-05-25 02:23:52,104] Trial 30 finished with value: 0.3643918225615215 and parameters: {'solver': 'saga', 'penalty': 'l2', 'C': 0.015559511668031233, 'l1_ratio': 0.5501944590514976}. Best is trial 1 with value: 0.37509011232257966.\n",
      "[I 2024-05-25 02:24:45,605] Trial 31 finished with value: 0.37509011232257966 and parameters: {'solver': 'newton-cg', 'penalty': 'l2', 'C': 4.389205762377981, 'l1_ratio': 0.7403832970787915}. Best is trial 1 with value: 0.37509011232257966.\n",
      "[I 2024-05-25 02:25:34,315] Trial 32 finished with value: 0.374245575253414 and parameters: {'solver': 'newton-cg', 'penalty': 'l2', 'C': 1.5121307419967214, 'l1_ratio': 0.8650524047969039}. Best is trial 1 with value: 0.37509011232257966.\n",
      "[I 2024-05-25 02:26:26,868] Trial 33 finished with value: 0.37509011232257966 and parameters: {'solver': 'newton-cg', 'penalty': 'l2', 'C': 3.6164081100543157, 'l1_ratio': 0.6789292713636481}. Best is trial 1 with value: 0.37509011232257966.\n",
      "[I 2024-05-25 02:27:17,945] Trial 34 finished with value: 0.37492786723998933 and parameters: {'solver': 'newton-cg', 'penalty': None, 'C': 23.351560270897696, 'l1_ratio': 0.7710223092214017}. Best is trial 1 with value: 0.37509011232257966.\n",
      "[I 2024-05-25 02:27:18,525] Trial 35 finished with value: 0.3617166292354262 and parameters: {'solver': 'lbfgs', 'penalty': 'l2', 'C': 0.8752655644467094, 'l1_ratio': 0.8915138987803974}. Best is trial 1 with value: 0.37509011232257966.\n",
      "[I 2024-05-25 02:27:18,546] Trial 36 finished with value: 0.0 and parameters: {'solver': 'newton-cg', 'penalty': 'l1', 'C': 3.1767345984848703, 'l1_ratio': 0.6722069476313577}. Best is trial 1 with value: 0.37509011232257966.\n",
      "[I 2024-05-25 02:27:18,567] Trial 37 finished with value: 0.0 and parameters: {'solver': 'newton-cg', 'penalty': 'elasticnet', 'C': 0.389509654437164, 'l1_ratio': 0.4919184837930333}. Best is trial 1 with value: 0.37509011232257966.\n",
      "[I 2024-05-25 02:28:09,574] Trial 38 finished with value: 0.37492786723998933 and parameters: {'solver': 'newton-cg', 'penalty': None, 'C': 6.632663873630736, 'l1_ratio': 0.431370097496323}. Best is trial 1 with value: 0.37509011232257966.\n",
      "[I 2024-05-25 02:28:10,155] Trial 39 finished with value: 0.36492031789398943 and parameters: {'solver': 'lbfgs', 'penalty': 'l2', 'C': 17.020110091251635, 'l1_ratio': 0.6021393858303652}. Best is trial 1 with value: 0.37509011232257966.\n",
      "[I 2024-05-25 02:29:01,161] Trial 40 finished with value: 0.37509011232257966 and parameters: {'solver': 'newton-cg', 'penalty': 'l2', 'C': 0.13517803269919276, 'l1_ratio': 0.8302043477663847}. Best is trial 1 with value: 0.37509011232257966.\n",
      "[I 2024-05-25 02:29:53,791] Trial 41 finished with value: 0.37509011232257966 and parameters: {'solver': 'newton-cg', 'penalty': 'l2', 'C': 0.10983512476203379, 'l1_ratio': 0.6211811199771676}. Best is trial 1 with value: 0.37509011232257966.\n",
      "[I 2024-05-25 02:30:48,574] Trial 42 finished with value: 0.37509011232257966 and parameters: {'solver': 'newton-cg', 'penalty': 'l2', 'C': 1.2771819974248437, 'l1_ratio': 0.7075920963229106}. Best is trial 1 with value: 0.37509011232257966.\n",
      "[I 2024-05-25 02:31:41,640] Trial 43 finished with value: 0.37509011232257966 and parameters: {'solver': 'newton-cg', 'penalty': 'l2', 'C': 0.683462298555368, 'l1_ratio': 0.5287219683794678}. Best is trial 1 with value: 0.37509011232257966.\n",
      "[I 2024-05-25 02:32:35,248] Trial 44 finished with value: 0.37509011232257966 and parameters: {'solver': 'newton-cg', 'penalty': 'l2', 'C': 0.01005673934019843, 'l1_ratio': 0.6183928691926688}. Best is trial 1 with value: 0.37509011232257966.\n",
      "[I 2024-05-25 02:33:26,219] Trial 45 finished with value: 0.37492786723998933 and parameters: {'solver': 'newton-cg', 'penalty': None, 'C': 0.2782591156292978, 'l1_ratio': 0.5824095287981479}. Best is trial 1 with value: 0.37509011232257966.\n",
      "[I 2024-05-25 02:33:30,721] Trial 46 finished with value: 0.36383386157540615 and parameters: {'solver': 'saga', 'penalty': 'l2', 'C': 2.1771379960319073, 'l1_ratio': 0.5158741082886337}. Best is trial 1 with value: 0.37509011232257966.\n",
      "[I 2024-05-25 02:34:20,252] Trial 47 finished with value: 0.37509011232257966 and parameters: {'solver': 'newton-cg', 'penalty': 'l2', 'C': 62.006447952560634, 'l1_ratio': 0.6493681602142313}. Best is trial 1 with value: 0.37509011232257966.\n",
      "[I 2024-05-25 02:34:20,273] Trial 48 finished with value: 0.0 and parameters: {'solver': 'newton-cg', 'penalty': 'l1', 'C': 0.0343759308276708, 'l1_ratio': 0.7473908342974582}. Best is trial 1 with value: 0.37509011232257966.\n",
      "[I 2024-05-25 02:34:20,294] Trial 49 finished with value: 0.0 and parameters: {'solver': 'lbfgs', 'penalty': 'elasticnet', 'C': 0.581313177741789, 'l1_ratio': 0.48161277230188554}. Best is trial 1 with value: 0.37509011232257966.\n"
     ]
    },
    {
     "name": "stdout",
     "output_type": "stream",
     "text": [
      "Number of finished trials: 50\n",
      "Best trial:\n",
      "  Value: 0.37509011232257966\n",
      "  Params: \n",
      "    solver: newton-cg\n",
      "    penalty: l2\n",
      "    C: 0.012684310063229629\n",
      "    l1_ratio: 0.6033460349150164\n",
      "Training\n",
      "\n",
      "[[ 184  408   22]\n",
      " [  97 3214   90]\n",
      " [  29  496  150]]\n",
      "              precision    recall  f1-score   support\n",
      "\n",
      "         0.0       0.59      0.30      0.40       614\n",
      "         1.0       0.78      0.95      0.85      3401\n",
      "         2.0       0.57      0.22      0.32       675\n",
      "\n",
      "    accuracy                           0.76      4690\n",
      "   macro avg       0.65      0.49      0.52      4690\n",
      "weighted avg       0.73      0.76      0.72      4690\n",
      "\n",
      "Testing\n",
      "\n",
      "[[ 16  66   6]\n",
      " [ 40 406  40]\n",
      " [  9  77  10]]\n",
      "              precision    recall  f1-score   support\n",
      "\n",
      "         0.0       0.25      0.18      0.21        88\n",
      "         1.0       0.74      0.84      0.78       486\n",
      "         2.0       0.18      0.10      0.13        96\n",
      "\n",
      "    accuracy                           0.64       670\n",
      "   macro avg       0.39      0.37      0.38       670\n",
      "weighted avg       0.59      0.64      0.62       670\n",
      "\n"
     ]
    }
   ],
   "source": [
    "log_reg(X_train, y_train, X_test, y_test)"
   ]
  },
  {
   "cell_type": "markdown",
   "metadata": {},
   "source": [
    "## Second Pentad"
   ]
  },
  {
   "cell_type": "code",
   "execution_count": 45,
   "metadata": {},
   "outputs": [],
   "source": [
    "X_train, X_test, y_train, y_test = pentad_data(1)"
   ]
  },
  {
   "cell_type": "code",
   "execution_count": 46,
   "metadata": {},
   "outputs": [
    {
     "name": "stderr",
     "output_type": "stream",
     "text": [
      "[I 2024-05-25 02:37:06,912] A new study created in memory with name: no-name-31527724-6874-4343-b812-990a9319b69c\n",
      "[I 2024-05-25 02:37:07,456] Trial 0 finished with value: 0.3720474300831443 and parameters: {'solver': 'lbfgs', 'penalty': 'l2', 'C': 10.894072999346664, 'l1_ratio': 0.3765257253537706}. Best is trial 0 with value: 0.3720474300831443.\n",
      "[I 2024-05-25 02:37:07,458] Trial 1 finished with value: 0.0 and parameters: {'solver': 'newton-cg', 'penalty': 'l1', 'C': 0.5836151466245671, 'l1_ratio': 0.9672368908032913}. Best is trial 0 with value: 0.3720474300831443.\n",
      "[I 2024-05-25 02:37:11,784] Trial 2 finished with value: 0.37370882603619804 and parameters: {'solver': 'saga', 'penalty': None, 'C': 0.8738566576064879, 'l1_ratio': 0.4647559102289136}. Best is trial 2 with value: 0.37370882603619804.\n",
      "[I 2024-05-25 02:37:11,787] Trial 3 finished with value: 0.0 and parameters: {'solver': 'lbfgs', 'penalty': 'elasticnet', 'C': 30.372906569160246, 'l1_ratio': 0.05308316583313777}. Best is trial 2 with value: 0.37370882603619804.\n",
      "[I 2024-05-25 02:37:16,106] Trial 4 finished with value: 0.3721305069532927 and parameters: {'solver': 'saga', 'penalty': 'l2', 'C': 0.06196866322115841, 'l1_ratio': 0.9237091938512569}. Best is trial 2 with value: 0.37370882603619804.\n",
      "[I 2024-05-25 02:37:20,429] Trial 5 finished with value: 0.37370882603619804 and parameters: {'solver': 'saga', 'penalty': 'l2', 'C': 0.21960664653239945, 'l1_ratio': 0.0665959703551362}. Best is trial 2 with value: 0.37370882603619804.\n",
      "[I 2024-05-25 02:37:20,431] Trial 6 finished with value: 0.0 and parameters: {'solver': 'newton-cg', 'penalty': 'elasticnet', 'C': 7.563731451952298, 'l1_ratio': 0.10107684398563443}. Best is trial 2 with value: 0.37370882603619804.\n",
      "[I 2024-05-25 02:37:20,979] Trial 7 finished with value: 0.3688409548526641 and parameters: {'solver': 'lbfgs', 'penalty': 'l2', 'C': 0.06092361560595954, 'l1_ratio': 0.8564763775939976}. Best is trial 2 with value: 0.37370882603619804.\n",
      "[I 2024-05-25 02:37:30,942] Trial 8 finished with value: 0.37551965230536655 and parameters: {'solver': 'saga', 'penalty': 'l1', 'C': 0.055033409573269625, 'l1_ratio': 0.27965492041114004}. Best is trial 8 with value: 0.37551965230536655.\n",
      "[I 2024-05-25 02:37:40,918] Trial 9 finished with value: 0.37551965230536655 and parameters: {'solver': 'saga', 'penalty': 'elasticnet', 'C': 6.738847838556435, 'l1_ratio': 0.4197425464170462}. Best is trial 8 with value: 0.37551965230536655.\n",
      "[I 2024-05-25 02:37:51,282] Trial 10 finished with value: 0.37735451439734913 and parameters: {'solver': 'saga', 'penalty': 'l1', 'C': 0.013505844282706118, 'l1_ratio': 0.6719706072613677}. Best is trial 10 with value: 0.37735451439734913.\n",
      "[I 2024-05-25 02:38:01,868] Trial 11 finished with value: 0.3799217934796601 and parameters: {'solver': 'saga', 'penalty': 'l1', 'C': 0.010604714105066899, 'l1_ratio': 0.6800221709348485}. Best is trial 11 with value: 0.3799217934796601.\n",
      "[I 2024-05-25 02:38:12,401] Trial 12 finished with value: 0.3799217934796601 and parameters: {'solver': 'saga', 'penalty': 'l1', 'C': 0.010677048394912878, 'l1_ratio': 0.6949509396546094}. Best is trial 11 with value: 0.3799217934796601.\n",
      "[I 2024-05-25 02:38:22,927] Trial 13 finished with value: 0.3799217934796601 and parameters: {'solver': 'saga', 'penalty': 'l1', 'C': 0.010443253165841503, 'l1_ratio': 0.6817611264500266}. Best is trial 11 with value: 0.3799217934796601.\n",
      "[I 2024-05-25 02:38:33,001] Trial 14 finished with value: 0.3733443044255888 and parameters: {'solver': 'saga', 'penalty': 'l1', 'C': 0.029140634452742252, 'l1_ratio': 0.6533102320590373}. Best is trial 11 with value: 0.3799217934796601.\n",
      "[I 2024-05-25 02:39:23,578] Trial 15 finished with value: 0.354882397635232 and parameters: {'solver': 'newton-cg', 'penalty': None, 'C': 0.2674239437133131, 'l1_ratio': 0.7751094203451399}. Best is trial 11 with value: 0.3799217934796601.\n",
      "[I 2024-05-25 02:39:33,347] Trial 16 finished with value: 0.37551965230536655 and parameters: {'solver': 'saga', 'penalty': 'l1', 'C': 0.13127927069495945, 'l1_ratio': 0.5613631398657746}. Best is trial 11 with value: 0.3799217934796601.\n",
      "[I 2024-05-25 02:39:43,186] Trial 17 finished with value: 0.3721305069532927 and parameters: {'solver': 'saga', 'penalty': 'l1', 'C': 96.51593601669704, 'l1_ratio': 0.802545958679385}. Best is trial 11 with value: 0.3799217934796601.\n",
      "[I 2024-05-25 02:39:43,205] Trial 18 finished with value: 0.0 and parameters: {'solver': 'newton-cg', 'penalty': 'l1', 'C': 0.023169199996769252, 'l1_ratio': 0.5421953170054346}. Best is trial 11 with value: 0.3799217934796601.\n",
      "[I 2024-05-25 02:39:43,767] Trial 19 finished with value: 0.3720474300831443 and parameters: {'solver': 'lbfgs', 'penalty': None, 'C': 1.4960031203962618, 'l1_ratio': 0.27158121527824997}. Best is trial 11 with value: 0.3799217934796601.\n",
      "[I 2024-05-25 02:39:53,569] Trial 20 finished with value: 0.37710356728361133 and parameters: {'solver': 'saga', 'penalty': 'l1', 'C': 2.1776808389161806, 'l1_ratio': 0.7440625880854674}. Best is trial 11 with value: 0.3799217934796601.\n",
      "[I 2024-05-25 02:40:04,097] Trial 21 finished with value: 0.3799217934796601 and parameters: {'solver': 'saga', 'penalty': 'l1', 'C': 0.010139106418201798, 'l1_ratio': 0.64293343241032}. Best is trial 11 with value: 0.3799217934796601.\n",
      "[I 2024-05-25 02:40:14,190] Trial 22 finished with value: 0.37490206492389255 and parameters: {'solver': 'saga', 'penalty': 'l1', 'C': 0.02357490607635055, 'l1_ratio': 0.6025238422489485}. Best is trial 11 with value: 0.3799217934796601.\n",
      "[I 2024-05-25 02:40:24,663] Trial 23 finished with value: 0.3799217934796601 and parameters: {'solver': 'saga', 'penalty': 'l1', 'C': 0.01149245328498653, 'l1_ratio': 0.7131460029301284}. Best is trial 11 with value: 0.3799217934796601.\n",
      "[I 2024-05-25 02:40:34,709] Trial 24 finished with value: 0.37245497789132065 and parameters: {'solver': 'saga', 'penalty': 'l1', 'C': 0.03380464394406066, 'l1_ratio': 0.861071063940618}. Best is trial 11 with value: 0.3799217934796601.\n",
      "[I 2024-05-25 02:40:44,527] Trial 25 finished with value: 0.37551965230536655 and parameters: {'solver': 'saga', 'penalty': 'l1', 'C': 0.1156088541840577, 'l1_ratio': 0.5057733775494321}. Best is trial 11 with value: 0.3799217934796601.\n",
      "[I 2024-05-25 02:40:54,708] Trial 26 finished with value: 0.3765725507036331 and parameters: {'solver': 'saga', 'penalty': 'l1', 'C': 0.020274152734739485, 'l1_ratio': 0.8143707187267724}. Best is trial 11 with value: 0.3799217934796601.\n",
      "[I 2024-05-25 02:40:59,032] Trial 27 finished with value: 0.37710356728361133 and parameters: {'solver': 'saga', 'penalty': None, 'C': 0.010123285837086613, 'l1_ratio': 0.6911421721880194}. Best is trial 11 with value: 0.3799217934796601.\n",
      "[I 2024-05-25 02:40:59,052] Trial 28 finished with value: 0.0 and parameters: {'solver': 'lbfgs', 'penalty': 'elasticnet', 'C': 0.09884649614465381, 'l1_ratio': 0.5788788820250196}. Best is trial 11 with value: 0.3799217934796601.\n",
      "[I 2024-05-25 02:41:50,099] Trial 29 finished with value: 0.35483324446238057 and parameters: {'solver': 'newton-cg', 'penalty': 'l2', 'C': 0.3559297356919021, 'l1_ratio': 0.8811759928288868}. Best is trial 11 with value: 0.3799217934796601.\n",
      "[I 2024-05-25 02:41:50,119] Trial 30 finished with value: 0.0 and parameters: {'solver': 'lbfgs', 'penalty': 'l1', 'C': 0.0404980587341129, 'l1_ratio': 0.3309647871816798}. Best is trial 11 with value: 0.3799217934796601.\n",
      "[I 2024-05-25 02:42:00,650] Trial 31 finished with value: 0.3799217934796601 and parameters: {'solver': 'saga', 'penalty': 'l1', 'C': 0.010005465502667283, 'l1_ratio': 0.6208573635327032}. Best is trial 11 with value: 0.3799217934796601.\n",
      "[I 2024-05-25 02:42:10,888] Trial 32 finished with value: 0.3750137035379741 and parameters: {'solver': 'saga', 'penalty': 'l1', 'C': 0.017389213116399967, 'l1_ratio': 0.7343147403873416}. Best is trial 11 with value: 0.3799217934796601.\n",
      "[I 2024-05-25 02:42:21,132] Trial 33 finished with value: 0.3750137035379741 and parameters: {'solver': 'saga', 'penalty': 'l1', 'C': 0.01751766854456759, 'l1_ratio': 0.9686698552839785}. Best is trial 11 with value: 0.3799217934796601.\n",
      "[I 2024-05-25 02:42:31,103] Trial 34 finished with value: 0.3733443044255888 and parameters: {'solver': 'saga', 'penalty': 'l1', 'C': 0.03789003666794074, 'l1_ratio': 0.5031755153824015}. Best is trial 11 with value: 0.3799217934796601.\n",
      "[I 2024-05-25 02:42:40,978] Trial 35 finished with value: 0.37710356728361133 and parameters: {'solver': 'saga', 'penalty': 'l1', 'C': 0.06663020253536557, 'l1_ratio': 0.6407325693699341}. Best is trial 11 with value: 0.3799217934796601.\n",
      "[I 2024-05-25 02:42:45,278] Trial 36 finished with value: 0.37370882603619804 and parameters: {'solver': 'saga', 'penalty': None, 'C': 0.010046579466010872, 'l1_ratio': 0.4553725498380878}. Best is trial 11 with value: 0.3799217934796601.\n",
      "[I 2024-05-25 02:42:45,299] Trial 37 finished with value: 0.0 and parameters: {'solver': 'newton-cg', 'penalty': 'elasticnet', 'C': 2.9757766583994423, 'l1_ratio': 0.7554377513377968}. Best is trial 11 with value: 0.3799217934796601.\n",
      "[I 2024-05-25 02:42:49,613] Trial 38 finished with value: 0.37370882603619804 and parameters: {'solver': 'saga', 'penalty': 'l2', 'C': 0.43167793417389166, 'l1_ratio': 0.6864320229423925}. Best is trial 11 with value: 0.3799217934796601.\n",
      "[I 2024-05-25 02:42:49,633] Trial 39 finished with value: 0.0 and parameters: {'solver': 'lbfgs', 'penalty': 'l1', 'C': 0.17053648024649842, 'l1_ratio': 0.802583945882663}. Best is trial 11 with value: 0.3799217934796601.\n",
      "[I 2024-05-25 02:42:59,439] Trial 40 finished with value: 0.37710356728361133 and parameters: {'solver': 'saga', 'penalty': 'l1', 'C': 0.08845787712771212, 'l1_ratio': 0.9127967939400354}. Best is trial 11 with value: 0.3799217934796601.\n",
      "[I 2024-05-25 02:43:09,758] Trial 41 finished with value: 0.37735451439734913 and parameters: {'solver': 'saga', 'penalty': 'l1', 'C': 0.015368856378931053, 'l1_ratio': 0.7008192922971435}. Best is trial 11 with value: 0.3799217934796601.\n",
      "[I 2024-05-25 02:43:19,703] Trial 42 finished with value: 0.37710356728361133 and parameters: {'solver': 'saga', 'penalty': 'l1', 'C': 0.04387328400753303, 'l1_ratio': 0.6156347165320225}. Best is trial 11 with value: 0.3799217934796601.\n",
      "[I 2024-05-25 02:43:30,035] Trial 43 finished with value: 0.37735451439734913 and parameters: {'solver': 'saga', 'penalty': 'l1', 'C': 0.014367764136822819, 'l1_ratio': 0.7052645052419948}. Best is trial 11 with value: 0.3799217934796601.\n",
      "[I 2024-05-25 02:43:34,370] Trial 44 finished with value: 0.3721305069532927 and parameters: {'solver': 'saga', 'penalty': 'l2', 'C': 0.031068099821273322, 'l1_ratio': 0.6509148940834644}. Best is trial 11 with value: 0.3799217934796601.\n",
      "[I 2024-05-25 02:43:44,225] Trial 45 finished with value: 0.37370882603619804 and parameters: {'solver': 'saga', 'penalty': 'elasticnet', 'C': 20.01770160316402, 'l1_ratio': 0.5348691604654168}. Best is trial 11 with value: 0.3799217934796601.\n",
      "[I 2024-05-25 02:43:54,318] Trial 46 finished with value: 0.3733443044255888 and parameters: {'solver': 'saga', 'penalty': 'l1', 'C': 0.024815016126864858, 'l1_ratio': 0.7361033344469188}. Best is trial 11 with value: 0.3799217934796601.\n",
      "[I 2024-05-25 02:43:54,339] Trial 47 finished with value: 0.0 and parameters: {'solver': 'newton-cg', 'penalty': 'l1', 'C': 0.012523208769294993, 'l1_ratio': 0.8399074356476693}. Best is trial 11 with value: 0.3799217934796601.\n",
      "[I 2024-05-25 02:44:04,174] Trial 48 finished with value: 0.37710356728361133 and parameters: {'solver': 'saga', 'penalty': 'l1', 'C': 0.07229238588833208, 'l1_ratio': 0.003592788919935086}. Best is trial 11 with value: 0.3799217934796601.\n",
      "[I 2024-05-25 02:44:08,484] Trial 49 finished with value: 0.37710356728361133 and parameters: {'solver': 'saga', 'penalty': None, 'C': 0.018722412450530766, 'l1_ratio': 0.40855110476402795}. Best is trial 11 with value: 0.3799217934796601.\n"
     ]
    },
    {
     "name": "stdout",
     "output_type": "stream",
     "text": [
      "Number of finished trials: 50\n",
      "Best trial:\n",
      "  Value: 0.3799217934796601\n",
      "  Params: \n",
      "    solver: saga\n",
      "    penalty: l1\n",
      "    C: 0.010604714105066899\n",
      "    l1_ratio: 0.6800221709348485\n",
      "Training\n",
      "\n",
      "[[ 258  291   41]\n",
      " [ 331 2626  293]\n",
      " [  61  355  259]]\n",
      "              precision    recall  f1-score   support\n",
      "\n",
      "         0.0       0.40      0.44      0.42       590\n",
      "         1.0       0.80      0.81      0.81      3250\n",
      "         2.0       0.44      0.38      0.41       675\n",
      "\n",
      "    accuracy                           0.70      4515\n",
      "   macro avg       0.55      0.54      0.54      4515\n",
      "weighted avg       0.69      0.70      0.70      4515\n",
      "\n",
      "Testing\n",
      "\n",
      "[[ 22  44  18]\n",
      " [ 70 319  76]\n",
      " [ 12  64  20]]\n",
      "              precision    recall  f1-score   support\n",
      "\n",
      "         0.0       0.21      0.26      0.23        84\n",
      "         1.0       0.75      0.69      0.72       465\n",
      "         2.0       0.18      0.21      0.19        96\n",
      "\n",
      "    accuracy                           0.56       645\n",
      "   macro avg       0.38      0.39      0.38       645\n",
      "weighted avg       0.59      0.56      0.57       645\n",
      "\n"
     ]
    }
   ],
   "source": [
    "log_reg(X_train, y_train, X_test, y_test)"
   ]
  },
  {
   "cell_type": "markdown",
   "metadata": {},
   "source": [
    "## Third Pentad"
   ]
  },
  {
   "cell_type": "code",
   "execution_count": 47,
   "metadata": {},
   "outputs": [
    {
     "name": "stderr",
     "output_type": "stream",
     "text": [
      "[I 2024-05-25 02:44:19,058] A new study created in memory with name: no-name-475d1462-04ad-4dfa-bfe2-48b5b7fe7935\n",
      "[I 2024-05-25 02:45:08,365] Trial 0 finished with value: 0.37453637979953763 and parameters: {'solver': 'newton-cg', 'penalty': 'l2', 'C': 10.01237770997742, 'l1_ratio': 0.61418437404981}. Best is trial 0 with value: 0.37453637979953763.\n",
      "[I 2024-05-25 02:45:08,881] Trial 1 finished with value: 0.3560166324361915 and parameters: {'solver': 'lbfgs', 'penalty': 'l2', 'C': 0.0372290479477451, 'l1_ratio': 0.1040555387272406}. Best is trial 0 with value: 0.37453637979953763.\n",
      "[I 2024-05-25 02:45:18,356] Trial 2 finished with value: 0.3682848474948555 and parameters: {'solver': 'saga', 'penalty': 'elasticnet', 'C': 10.759601690496519, 'l1_ratio': 0.5849265151363039}. Best is trial 0 with value: 0.37453637979953763.\n",
      "[I 2024-05-25 02:46:11,123] Trial 3 finished with value: 0.3735834407110054 and parameters: {'solver': 'newton-cg', 'penalty': 'l2', 'C': 0.7659299961514403, 'l1_ratio': 0.07884398193825215}. Best is trial 0 with value: 0.37453637979953763.\n",
      "[I 2024-05-25 02:46:15,270] Trial 4 finished with value: 0.36129412505689223 and parameters: {'solver': 'saga', 'penalty': None, 'C': 0.7870972296613472, 'l1_ratio': 0.5957384338109007}. Best is trial 0 with value: 0.37453637979953763.\n",
      "[I 2024-05-25 02:46:15,782] Trial 5 finished with value: 0.3593369037158238 and parameters: {'solver': 'lbfgs', 'penalty': None, 'C': 0.5278157655038578, 'l1_ratio': 0.416671477963232}. Best is trial 0 with value: 0.37453637979953763.\n",
      "[I 2024-05-25 02:46:15,784] Trial 6 finished with value: 0.0 and parameters: {'solver': 'newton-cg', 'penalty': 'elasticnet', 'C': 0.013731462513140929, 'l1_ratio': 0.755166045179808}. Best is trial 0 with value: 0.37453637979953763.\n",
      "[I 2024-05-25 02:46:15,786] Trial 7 finished with value: 0.0 and parameters: {'solver': 'lbfgs', 'penalty': 'elasticnet', 'C': 0.1401836077112189, 'l1_ratio': 0.7223660921820966}. Best is trial 0 with value: 0.37453637979953763.\n",
      "[I 2024-05-25 02:46:19,931] Trial 8 finished with value: 0.3682848474948555 and parameters: {'solver': 'saga', 'penalty': None, 'C': 14.998020586901289, 'l1_ratio': 0.4006600940238869}. Best is trial 0 with value: 0.37453637979953763.\n",
      "[I 2024-05-25 02:46:29,387] Trial 9 finished with value: 0.36129412505689223 and parameters: {'solver': 'saga', 'penalty': 'l1', 'C': 10.19723816220381, 'l1_ratio': 0.7991100460536752}. Best is trial 0 with value: 0.37453637979953763.\n",
      "[I 2024-05-25 02:47:17,511] Trial 10 finished with value: 0.37549569513815206 and parameters: {'solver': 'newton-cg', 'penalty': 'l2', 'C': 98.2212506894142, 'l1_ratio': 0.26898332467151104}. Best is trial 10 with value: 0.37549569513815206.\n",
      "[I 2024-05-25 02:48:06,821] Trial 11 finished with value: 0.37453637979953763 and parameters: {'solver': 'newton-cg', 'penalty': 'l2', 'C': 94.3916003939792, 'l1_ratio': 0.9706704117769593}. Best is trial 10 with value: 0.37549569513815206.\n",
      "[I 2024-05-25 02:48:53,652] Trial 12 finished with value: 0.37453637979953763 and parameters: {'solver': 'newton-cg', 'penalty': 'l2', 'C': 95.66843686691331, 'l1_ratio': 0.2833887608171744}. Best is trial 10 with value: 0.37549569513815206.\n",
      "[I 2024-05-25 02:49:41,927] Trial 13 finished with value: 0.37549569513815206 and parameters: {'solver': 'newton-cg', 'penalty': 'l2', 'C': 4.100116154896212, 'l1_ratio': 0.24478893186206627}. Best is trial 10 with value: 0.37549569513815206.\n",
      "[I 2024-05-25 02:49:41,946] Trial 14 finished with value: 0.0 and parameters: {'solver': 'newton-cg', 'penalty': 'l1', 'C': 3.186639014515131, 'l1_ratio': 0.265717130352906}. Best is trial 10 with value: 0.37549569513815206.\n",
      "[I 2024-05-25 02:50:27,821] Trial 15 finished with value: 0.37549569513815206 and parameters: {'solver': 'newton-cg', 'penalty': 'l2', 'C': 31.07193355641086, 'l1_ratio': 0.2225428106693469}. Best is trial 10 with value: 0.37549569513815206.\n",
      "[I 2024-05-25 02:51:16,909] Trial 16 finished with value: 0.3752608600906768 and parameters: {'solver': 'newton-cg', 'penalty': 'l2', 'C': 3.4025658538970585, 'l1_ratio': 0.0004574460461728713}. Best is trial 10 with value: 0.37549569513815206.\n",
      "[I 2024-05-25 02:52:03,749] Trial 17 finished with value: 0.3789192850299006 and parameters: {'solver': 'newton-cg', 'penalty': 'l2', 'C': 2.9825342235204158, 'l1_ratio': 0.34911284357976685}. Best is trial 17 with value: 0.3789192850299006.\n",
      "[I 2024-05-25 02:52:03,768] Trial 18 finished with value: 0.0 and parameters: {'solver': 'newton-cg', 'penalty': 'l1', 'C': 0.19888118137702268, 'l1_ratio': 0.4449846823168516}. Best is trial 17 with value: 0.3789192850299006.\n",
      "[I 2024-05-25 02:52:04,305] Trial 19 finished with value: 0.3560166324361915 and parameters: {'solver': 'lbfgs', 'penalty': 'l2', 'C': 34.20289249800339, 'l1_ratio': 0.33786148218289525}. Best is trial 17 with value: 0.3789192850299006.\n",
      "[I 2024-05-25 02:52:52,276] Trial 20 finished with value: 0.3735834407110054 and parameters: {'solver': 'newton-cg', 'penalty': 'l2', 'C': 2.0287376340637424, 'l1_ratio': 0.14546982500152839}. Best is trial 17 with value: 0.3789192850299006.\n",
      "[I 2024-05-25 02:53:40,874] Trial 21 finished with value: 0.37453637979953763 and parameters: {'solver': 'newton-cg', 'penalty': 'l2', 'C': 2.3054507274919143, 'l1_ratio': 0.19598271301824471}. Best is trial 17 with value: 0.3789192850299006.\n",
      "[I 2024-05-25 02:54:29,630] Trial 22 finished with value: 0.37453637979953763 and parameters: {'solver': 'newton-cg', 'penalty': 'l2', 'C': 0.21622820136426835, 'l1_ratio': 0.33493439310161555}. Best is trial 17 with value: 0.3789192850299006.\n",
      "[I 2024-05-25 02:55:17,440] Trial 23 finished with value: 0.37453637979953763 and parameters: {'solver': 'newton-cg', 'penalty': 'l2', 'C': 4.392478688348971, 'l1_ratio': 0.4926828166372009}. Best is trial 17 with value: 0.3789192850299006.\n",
      "[I 2024-05-25 02:56:08,540] Trial 24 finished with value: 0.3789192850299006 and parameters: {'solver': 'newton-cg', 'penalty': 'l2', 'C': 28.447978100400935, 'l1_ratio': 0.35363913644516665}. Best is trial 17 with value: 0.3789192850299006.\n",
      "[I 2024-05-25 02:56:57,272] Trial 25 finished with value: 0.37453637979953763 and parameters: {'solver': 'newton-cg', 'penalty': 'l2', 'C': 38.62444474363178, 'l1_ratio': 0.3355598540587769}. Best is trial 17 with value: 0.3789192850299006.\n",
      "[I 2024-05-25 02:56:57,293] Trial 26 finished with value: 0.0 and parameters: {'solver': 'newton-cg', 'penalty': 'l1', 'C': 52.96697900575393, 'l1_ratio': 0.4711411402926468}. Best is trial 17 with value: 0.3789192850299006.\n",
      "[I 2024-05-25 02:57:46,365] Trial 27 finished with value: 0.3813121416379219 and parameters: {'solver': 'newton-cg', 'penalty': None, 'C': 20.032631178427625, 'l1_ratio': 0.548458785807949}. Best is trial 27 with value: 0.3813121416379219.\n",
      "[I 2024-05-25 02:57:46,897] Trial 28 finished with value: 0.3593369037158238 and parameters: {'solver': 'lbfgs', 'penalty': None, 'C': 20.409952546513164, 'l1_ratio': 0.5359132732368733}. Best is trial 27 with value: 0.3813121416379219.\n",
      "[I 2024-05-25 02:57:51,035] Trial 29 finished with value: 0.3682848474948555 and parameters: {'solver': 'saga', 'penalty': None, 'C': 7.12589203391874, 'l1_ratio': 0.676891878727154}. Best is trial 27 with value: 0.3813121416379219.\n",
      "[I 2024-05-25 02:58:39,887] Trial 30 finished with value: 0.3813121416379219 and parameters: {'solver': 'newton-cg', 'penalty': None, 'C': 6.569300557147275, 'l1_ratio': 0.5469187896911814}. Best is trial 27 with value: 0.3813121416379219.\n",
      "[I 2024-05-25 02:59:28,834] Trial 31 finished with value: 0.3813121416379219 and parameters: {'solver': 'newton-cg', 'penalty': None, 'C': 6.526527444238003, 'l1_ratio': 0.5319926658925699}. Best is trial 27 with value: 0.3813121416379219.\n",
      "[I 2024-05-25 03:00:17,768] Trial 32 finished with value: 0.3813121416379219 and parameters: {'solver': 'newton-cg', 'penalty': None, 'C': 5.677393007096107, 'l1_ratio': 0.5413086775006324}. Best is trial 27 with value: 0.3813121416379219.\n",
      "[I 2024-05-25 03:01:06,697] Trial 33 finished with value: 0.3813121416379219 and parameters: {'solver': 'newton-cg', 'penalty': None, 'C': 6.974800120738417, 'l1_ratio': 0.6582952510496758}. Best is trial 27 with value: 0.3813121416379219.\n",
      "[I 2024-05-25 03:01:55,601] Trial 34 finished with value: 0.3813121416379219 and parameters: {'solver': 'newton-cg', 'penalty': None, 'C': 14.83458507639401, 'l1_ratio': 0.5681781166381339}. Best is trial 27 with value: 0.3813121416379219.\n",
      "[I 2024-05-25 03:02:44,507] Trial 35 finished with value: 0.3813121416379219 and parameters: {'solver': 'newton-cg', 'penalty': None, 'C': 6.294076319155303, 'l1_ratio': 0.5292814183970709}. Best is trial 27 with value: 0.3813121416379219.\n",
      "[I 2024-05-25 03:02:48,659] Trial 36 finished with value: 0.36466435607221664 and parameters: {'solver': 'saga', 'penalty': None, 'C': 1.3364139469594438, 'l1_ratio': 0.6207218205314131}. Best is trial 27 with value: 0.3813121416379219.\n",
      "[I 2024-05-25 03:02:49,188] Trial 37 finished with value: 0.3593369037158238 and parameters: {'solver': 'lbfgs', 'penalty': None, 'C': 1.193385821181471, 'l1_ratio': 0.8404711976595794}. Best is trial 27 with value: 0.3813121416379219.\n",
      "[I 2024-05-25 03:03:37,988] Trial 38 finished with value: 0.3813121416379219 and parameters: {'solver': 'newton-cg', 'penalty': None, 'C': 15.991186285412764, 'l1_ratio': 0.6322868688005925}. Best is trial 27 with value: 0.3813121416379219.\n",
      "[I 2024-05-25 03:04:26,916] Trial 39 finished with value: 0.3813121416379219 and parameters: {'solver': 'newton-cg', 'penalty': None, 'C': 9.571168586639729, 'l1_ratio': 0.5609042688120263}. Best is trial 27 with value: 0.3813121416379219.\n",
      "[I 2024-05-25 03:04:26,937] Trial 40 finished with value: 0.0 and parameters: {'solver': 'lbfgs', 'penalty': 'elasticnet', 'C': 0.474123434073762, 'l1_ratio': 0.7166441531587945}. Best is trial 27 with value: 0.3813121416379219.\n",
      "[I 2024-05-25 03:05:15,842] Trial 41 finished with value: 0.3813121416379219 and parameters: {'solver': 'newton-cg', 'penalty': None, 'C': 10.993729593655807, 'l1_ratio': 0.6580390530452156}. Best is trial 27 with value: 0.3813121416379219.\n",
      "[I 2024-05-25 03:06:04,815] Trial 42 finished with value: 0.3813121416379219 and parameters: {'solver': 'newton-cg', 'penalty': None, 'C': 5.373895712916153, 'l1_ratio': 0.5968842060871049}. Best is trial 27 with value: 0.3813121416379219.\n",
      "[I 2024-05-25 03:06:53,707] Trial 43 finished with value: 0.3813121416379219 and parameters: {'solver': 'newton-cg', 'penalty': None, 'C': 7.609540054815325, 'l1_ratio': 0.5129799303369178}. Best is trial 27 with value: 0.3813121416379219.\n",
      "[I 2024-05-25 03:06:57,875] Trial 44 finished with value: 0.36129412505689223 and parameters: {'solver': 'saga', 'penalty': None, 'C': 1.8554122733318432, 'l1_ratio': 0.4296652050887174}. Best is trial 27 with value: 0.3813121416379219.\n",
      "[I 2024-05-25 03:07:47,706] Trial 45 finished with value: 0.3813121416379219 and parameters: {'solver': 'newton-cg', 'penalty': None, 'C': 23.73664443636389, 'l1_ratio': 0.8202993059091823}. Best is trial 27 with value: 0.3813121416379219.\n",
      "[I 2024-05-25 03:08:36,666] Trial 46 finished with value: 0.3813121416379219 and parameters: {'solver': 'newton-cg', 'penalty': None, 'C': 0.687622789793787, 'l1_ratio': 0.7144401518561947}. Best is trial 27 with value: 0.3813121416379219.\n",
      "[I 2024-05-25 03:08:36,688] Trial 47 finished with value: 0.0 and parameters: {'solver': 'newton-cg', 'penalty': 'elasticnet', 'C': 54.34755174070452, 'l1_ratio': 0.7601221484700388}. Best is trial 27 with value: 0.3813121416379219.\n",
      "[I 2024-05-25 03:09:25,740] Trial 48 finished with value: 0.3813121416379219 and parameters: {'solver': 'newton-cg', 'penalty': None, 'C': 0.030372883366255654, 'l1_ratio': 0.8765367150138517}. Best is trial 27 with value: 0.3813121416379219.\n",
      "[I 2024-05-25 03:09:29,910] Trial 49 finished with value: 0.36129412505689223 and parameters: {'solver': 'saga', 'penalty': None, 'C': 11.870076698514529, 'l1_ratio': 0.3911912053548299}. Best is trial 27 with value: 0.3813121416379219.\n"
     ]
    },
    {
     "name": "stdout",
     "output_type": "stream",
     "text": [
      "Number of finished trials: 50\n",
      "Best trial:\n",
      "  Value: 0.3813121416379219\n",
      "  Params: \n",
      "    solver: newton-cg\n",
      "    penalty: None\n",
      "    C: 20.032631178427625\n",
      "    l1_ratio: 0.548458785807949\n",
      "Training\n",
      "\n",
      "[[ 166  364   38]\n",
      " [  84 2915   98]\n",
      " [  27  474  174]]\n",
      "              precision    recall  f1-score   support\n",
      "\n",
      "         0.0       0.60      0.29      0.39       568\n",
      "         1.0       0.78      0.94      0.85      3097\n",
      "         2.0       0.56      0.26      0.35       675\n",
      "\n",
      "    accuracy                           0.75      4340\n",
      "   macro avg       0.65      0.50      0.53      4340\n",
      "weighted avg       0.72      0.75      0.71      4340\n",
      "\n",
      "Testing\n",
      "\n",
      "[[ 17  61   3]\n",
      " [ 39 361  43]\n",
      " [  9  76  11]]\n",
      "              precision    recall  f1-score   support\n",
      "\n",
      "         0.0       0.26      0.21      0.23        81\n",
      "         1.0       0.72      0.81      0.77       443\n",
      "         2.0       0.19      0.11      0.14        96\n",
      "\n",
      "    accuracy                           0.63       620\n",
      "   macro avg       0.39      0.38      0.38       620\n",
      "weighted avg       0.58      0.63      0.60       620\n",
      "\n"
     ]
    }
   ],
   "source": [
    "X_train, X_test, y_train, y_test = pentad_data(2)\n",
    "log_reg(X_train, y_train, X_test, y_test)"
   ]
  }
 ],
 "metadata": {
  "kernelspec": {
   "display_name": "dip",
   "language": "python",
   "name": "python3"
  },
  "language_info": {
   "codemirror_mode": {
    "name": "ipython",
    "version": 3
   },
   "file_extension": ".py",
   "mimetype": "text/x-python",
   "name": "python",
   "nbconvert_exporter": "python",
   "pygments_lexer": "ipython3",
   "version": "3.10.13"
  },
  "orig_nbformat": 4
 },
 "nbformat": 4,
 "nbformat_minor": 2
}
