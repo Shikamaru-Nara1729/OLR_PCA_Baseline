{
 "cells": [
  {
   "cell_type": "code",
   "execution_count": 1,
   "metadata": {},
   "outputs": [],
   "source": [
    "import sys\n",
    "sys.path.append('/home/apoorva/Desktop/Work/olr/')"
   ]
  },
  {
   "cell_type": "code",
   "execution_count": 2,
   "metadata": {},
   "outputs": [
    {
     "name": "stderr",
     "output_type": "stream",
     "text": [
      "/home/apoorva/anaconda3/envs/tf_clone/lib/python3.10/site-packages/tqdm/auto.py:21: TqdmWarning: IProgress not found. Please update jupyter and ipywidgets. See https://ipywidgets.readthedocs.io/en/stable/user_install.html\n",
      "  from .autonotebook import tqdm as notebook_tqdm\n"
     ]
    }
   ],
   "source": [
    "import numpy as np\n",
    "from sklearn.metrics import confusion_matrix, classification_report\n",
    "from sklearn.model_selection import train_test_split\n",
    "from xgboost import XGBClassifier\n",
    "import optuna\n",
    "from sklearn.metrics import f1_score\n",
    "from scripts.utils.load import load_pca_anomaly"
   ]
  },
  {
   "cell_type": "code",
   "execution_count": null,
   "metadata": {},
   "outputs": [],
   "source": [
    "pca_x, olr_labels = load_pca_anomaly()"
   ]
  },
  {
   "cell_type": "code",
   "execution_count": 3,
   "metadata": {},
   "outputs": [
    {
     "data": {
      "text/plain": [
       "((5920, 5920), (40, 134))"
      ]
     },
     "execution_count": 3,
     "metadata": {},
     "output_type": "execute_result"
    }
   ],
   "source": [
    "pca_x.shape, olr_labels.shape"
   ]
  },
  {
   "cell_type": "code",
   "execution_count": 4,
   "metadata": {},
   "outputs": [
    {
     "data": {
      "text/plain": [
       "(5920, 50)"
      ]
     },
     "execution_count": 4,
     "metadata": {},
     "output_type": "execute_result"
    }
   ],
   "source": [
    "pca_x_50 = pca_x[:, :50]\n",
    "pca_x_50.shape"
   ]
  },
  {
   "cell_type": "code",
   "execution_count": 5,
   "metadata": {},
   "outputs": [],
   "source": [
    "def xgb(X_train, y_train, X_test, y_test):\n",
    "    def objective(trial):\n",
    "        \"\"\"Define the objective function\"\"\"\n",
    "\n",
    "        params = {\n",
    "            'max_depth': trial.suggest_int('max_depth', 1, 9),\n",
    "            'learning_rate': trial.suggest_float('learning_rate', 0.01, 1.0, log=True),\n",
    "            'n_estimators': trial.suggest_int('n_estimators', 50, 500),\n",
    "            'min_child_weight': trial.suggest_int('min_child_weight', 1, 10),\n",
    "            'gamma': trial.suggest_float('gamma', 1e-8, 1.0, log=True),\n",
    "            'subsample': trial.suggest_float('subsample', 0.01, 1.0, log=True),\n",
    "            'colsample_bytree': trial.suggest_float('colsample_bytree', 0.01, 1.0, log=True),\n",
    "            'reg_alpha': trial.suggest_float('reg_alpha', 1e-8, 1.0, log=True),\n",
    "            'reg_lambda': trial.suggest_float('reg_lambda', 1e-8, 1.0, log=True),\n",
    "            'eval_metric': 'mlogloss'\n",
    "        }\n",
    "\n",
    "        # Fit the model\n",
    "        optuna_model = XGBClassifier(**params)\n",
    "        optuna_model.fit(X_train, y_train)\n",
    "\n",
    "        # Make predictions\n",
    "        y_pred = optuna_model.predict(X_test)\n",
    "\n",
    "        # Evaluate predictions\n",
    "        accuracy = f1_score(y_test, y_pred, average='macro')\n",
    "        return accuracy\n",
    "\n",
    "    study = optuna.create_study(direction='maximize')\n",
    "    study.optimize(objective, n_trials=50)\n",
    "    print('Number of finished trials: {}'.format(len(study.trials)))\n",
    "    print('Best trial:')\n",
    "    trial = study.best_trial\n",
    "\n",
    "    print('  Value: {}'.format(trial.value))\n",
    "    print('  Params: ')\n",
    "\n",
    "    for key, value in trial.params.items():\n",
    "        print('    {}: {}'.format(key, value))\n",
    "    params = trial.params\n",
    "    model = XGBClassifier(**params)\n",
    "    model.fit(X_train, y_train)\n",
    "\n",
    "    y_pred = model.predict(X_train)\n",
    "    print(\"Training\\n\")\n",
    "    print(confusion_matrix(y_pred=y_pred, y_true=y_train))\n",
    "    print(classification_report(y_pred=y_pred, y_true=y_train))\n",
    "\n",
    "    y_pred = model.predict(X_test)\n",
    "    print(\"Testing\\n\")\n",
    "    print(confusion_matrix(y_pred=y_pred, y_true=y_test))\n",
    "    print(classification_report(y_pred=y_pred, y_true=y_test))"
   ]
  },
  {
   "cell_type": "code",
   "execution_count": 6,
   "metadata": {},
   "outputs": [],
   "source": [
    "def pentad_data(count):\n",
    "    '''\n",
    "    count is 0-indexed\n",
    "    count = 0 corresponds to first leading pentad\n",
    "    count = 1 corresponds to second leading pentad\n",
    "    count = 2 corresponds to third leading pentad\n",
    "    '''\n",
    "    global olr_labels, pca_x\n",
    "    assert count == 0 or count == 1 or count == 2\n",
    "    pca_x_50 = pca_x[:, :50]\n",
    "    pca_x_50 = np.array([pca_x_50[i*40+j:i*40+j+15, :] for i in range(40) for j in range(134 - (5*count))])\n",
    "    labels = np.reshape(np.reshape(olr_labels, (40, 134))[:, (5*count):], (-1))\n",
    "    X_train, X_test, y_train, y_test = train_test_split(pca_x_50, labels, random_state=1337, train_size=0.875, stratify=labels)\n",
    "    X_train = np.reshape(X_train, (X_train.shape[0], -1))\n",
    "    X_test = np.reshape(X_test, (X_test.shape[0], -1))\n",
    "    return X_train, X_test, y_train, y_test"
   ]
  },
  {
   "cell_type": "markdown",
   "metadata": {},
   "source": [
    "# XGBoost-Optuna"
   ]
  },
  {
   "cell_type": "markdown",
   "metadata": {},
   "source": [
    "## First Pentad"
   ]
  },
  {
   "cell_type": "code",
   "execution_count": 7,
   "metadata": {},
   "outputs": [
    {
     "name": "stderr",
     "output_type": "stream",
     "text": [
      "[I 2024-05-25 03:28:45,872] A new study created in memory with name: no-name-9d67b130-70e4-4998-ab04-2c313332ced5\n"
     ]
    },
    {
     "name": "stderr",
     "output_type": "stream",
     "text": [
      "[I 2024-05-25 03:29:24,460] Trial 0 finished with value: 0.3581055525480625 and parameters: {'max_depth': 7, 'learning_rate': 0.5821693355023613, 'n_estimators': 456, 'min_child_weight': 5, 'gamma': 0.009729813145320136, 'subsample': 0.17940244936564992, 'colsample_bytree': 0.018394605734343348, 'reg_alpha': 0.00017203484646750018, 'reg_lambda': 0.45634054428021686}. Best is trial 0 with value: 0.3581055525480625.\n",
      "[I 2024-05-25 03:29:57,079] Trial 1 finished with value: 0.35673206087713866 and parameters: {'max_depth': 7, 'learning_rate': 0.5104840972918051, 'n_estimators': 358, 'min_child_weight': 9, 'gamma': 0.0005804237126166922, 'subsample': 0.27104362473328364, 'colsample_bytree': 0.27228768368566925, 'reg_alpha': 3.4144573024364596e-05, 'reg_lambda': 1.0370418634532727e-08}. Best is trial 0 with value: 0.3581055525480625.\n",
      "[I 2024-05-25 03:30:15,208] Trial 2 finished with value: 0.3502615246196201 and parameters: {'max_depth': 7, 'learning_rate': 0.8281635732527914, 'n_estimators': 157, 'min_child_weight': 2, 'gamma': 1.1175030816600322e-06, 'subsample': 0.39230656898793254, 'colsample_bytree': 0.0470302713927524, 'reg_alpha': 0.2535174412743529, 'reg_lambda': 0.057720656156448544}. Best is trial 0 with value: 0.3581055525480625.\n",
      "[I 2024-05-25 03:30:21,396] Trial 3 finished with value: 0.30187653642373996 and parameters: {'max_depth': 3, 'learning_rate': 0.048837259228860674, 'n_estimators': 172, 'min_child_weight': 4, 'gamma': 0.016599786626411636, 'subsample': 0.48858336163059624, 'colsample_bytree': 0.014058583350479586, 'reg_alpha': 0.025599775460316433, 'reg_lambda': 1.3325790525285358e-05}. Best is trial 0 with value: 0.3581055525480625.\n",
      "[I 2024-05-25 03:30:27,286] Trial 4 finished with value: 0.28027681660899656 and parameters: {'max_depth': 7, 'learning_rate': 0.010416831015229342, 'n_estimators': 58, 'min_child_weight': 2, 'gamma': 9.999044348716336e-06, 'subsample': 0.32455209924260736, 'colsample_bytree': 0.014254314323275352, 'reg_alpha': 0.8036525088979314, 'reg_lambda': 0.00012428970620416793}. Best is trial 0 with value: 0.3581055525480625.\n",
      "[I 2024-05-25 03:30:51,697] Trial 5 finished with value: 0.33381948730430544 and parameters: {'max_depth': 6, 'learning_rate': 0.014375348101796142, 'n_estimators': 298, 'min_child_weight': 3, 'gamma': 1.5021217518540195e-08, 'subsample': 0.11664905102873804, 'colsample_bytree': 0.3952290961714725, 'reg_alpha': 0.00010747322365304062, 'reg_lambda': 0.00965734242896076}. Best is trial 0 with value: 0.3581055525480625.\n",
      "[I 2024-05-25 03:31:11,571] Trial 6 finished with value: 0.3198149435212681 and parameters: {'max_depth': 8, 'learning_rate': 0.019092940672448783, 'n_estimators': 331, 'min_child_weight': 4, 'gamma': 0.0027794073880717304, 'subsample': 0.027937753154255104, 'colsample_bytree': 0.49426064304136447, 'reg_alpha': 0.00011003773813535972, 'reg_lambda': 2.5268975558462228e-06}. Best is trial 0 with value: 0.3581055525480625.\n",
      "[I 2024-05-25 03:32:03,503] Trial 7 finished with value: 0.3792160681012428 and parameters: {'max_depth': 8, 'learning_rate': 0.37739796561720423, 'n_estimators': 272, 'min_child_weight': 2, 'gamma': 1.9384540182194187e-07, 'subsample': 0.28089149807746266, 'colsample_bytree': 0.643121119651666, 'reg_alpha': 0.00026568397970886797, 'reg_lambda': 3.837178996479013e-06}. Best is trial 7 with value: 0.3792160681012428.\n",
      "[I 2024-05-25 03:32:07,975] Trial 8 finished with value: 0.3438434357162272 and parameters: {'max_depth': 4, 'learning_rate': 0.0956917523763242, 'n_estimators': 90, 'min_child_weight': 3, 'gamma': 5.7004440550257684e-05, 'subsample': 0.07667449767149707, 'colsample_bytree': 0.018945080151006762, 'reg_alpha': 2.9977067071103582e-06, 'reg_lambda': 0.07924227198762236}. Best is trial 7 with value: 0.3792160681012428.\n",
      "[I 2024-05-25 03:32:19,101] Trial 9 finished with value: 0.3753374081472356 and parameters: {'max_depth': 5, 'learning_rate': 0.7503977424748931, 'n_estimators': 176, 'min_child_weight': 10, 'gamma': 5.436859174790429e-08, 'subsample': 0.5972377789726275, 'colsample_bytree': 0.0371012181764488, 'reg_alpha': 0.0004493045036297007, 'reg_lambda': 0.04411863095993264}. Best is trial 7 with value: 0.3792160681012428.\n",
      "[I 2024-05-25 03:32:29,443] Trial 10 finished with value: 0.3815176748641547 and parameters: {'max_depth': 1, 'learning_rate': 0.1887215252361063, 'n_estimators': 490, 'min_child_weight': 7, 'gamma': 6.42544212029936e-07, 'subsample': 0.04534672352979485, 'colsample_bytree': 0.9509464497851697, 'reg_alpha': 1.6043852463841446e-08, 'reg_lambda': 5.0518800452416675e-08}. Best is trial 10 with value: 0.3815176748641547.\n",
      "[I 2024-05-25 03:32:38,943] Trial 11 finished with value: 0.3131782238931597 and parameters: {'max_depth': 1, 'learning_rate': 0.22421440047592717, 'n_estimators': 487, 'min_child_weight': 7, 'gamma': 4.3720630532041284e-07, 'subsample': 0.010043253324412214, 'colsample_bytree': 0.9817175193573084, 'reg_alpha': 2.1066965941915154e-08, 'reg_lambda': 6.450818032803392e-08}. Best is trial 10 with value: 0.3815176748641547.\n",
      "[I 2024-05-25 03:33:03,235] Trial 12 finished with value: 0.35528245853468826 and parameters: {'max_depth': 9, 'learning_rate': 0.22119814959721049, 'n_estimators': 401, 'min_child_weight': 7, 'gamma': 1.8999354602350399e-06, 'subsample': 0.05669497716205115, 'colsample_bytree': 0.9409723571902695, 'reg_alpha': 2.366618315028172e-08, 'reg_lambda': 7.938402724815616e-07}. Best is trial 10 with value: 0.3815176748641547.\n",
      "[I 2024-05-25 03:33:07,922] Trial 13 finished with value: 0.35184185853828714 and parameters: {'max_depth': 1, 'learning_rate': 0.24390263962430672, 'n_estimators': 236, 'min_child_weight': 7, 'gamma': 0.18691302796235412, 'subsample': 0.03505686086284565, 'colsample_bytree': 0.11838077908400248, 'reg_alpha': 1.5205888365021061e-06, 'reg_lambda': 0.00026077363152088567}. Best is trial 10 with value: 0.3815176748641547.\n",
      "[I 2024-05-25 03:33:17,916] Trial 14 finished with value: 0.3638332147101482 and parameters: {'max_depth': 3, 'learning_rate': 0.07970032832693076, 'n_estimators': 268, 'min_child_weight': 1, 'gamma': 1.492128774953295e-07, 'subsample': 0.016120189186846604, 'colsample_bytree': 0.16256339319760915, 'reg_alpha': 0.004389672496273831, 'reg_lambda': 1.936062178727726e-07}. Best is trial 10 with value: 0.3815176748641547.\n",
      "[I 2024-05-25 03:34:01,126] Trial 15 finished with value: 0.34491337408034134 and parameters: {'max_depth': 9, 'learning_rate': 0.34011062741116266, 'n_estimators': 427, 'min_child_weight': 6, 'gamma': 1.4538162385820674e-05, 'subsample': 0.1460795157896579, 'colsample_bytree': 0.525770838680596, 'reg_alpha': 9.967085206510339e-07, 'reg_lambda': 1.3032256430266478e-05}. Best is trial 10 with value: 0.3815176748641547.\n",
      "[I 2024-05-25 03:34:11,709] Trial 16 finished with value: 0.39321687329737265 and parameters: {'max_depth': 2, 'learning_rate': 0.1478481400466408, 'n_estimators': 374, 'min_child_weight': 9, 'gamma': 2.3266191812000312e-08, 'subsample': 0.7642927577109786, 'colsample_bytree': 0.2734019584356056, 'reg_alpha': 1.4812876709113068e-07, 'reg_lambda': 1.4901057607659953e-08}. Best is trial 16 with value: 0.39321687329737265.\n",
      "[I 2024-05-25 03:34:25,545] Trial 17 finished with value: 0.35587783637429027 and parameters: {'max_depth': 2, 'learning_rate': 0.03937456985017462, 'n_estimators': 500, 'min_child_weight': 9, 'gamma': 1.6250703859936838e-08, 'subsample': 0.8308843793213387, 'colsample_bytree': 0.22077150923874617, 'reg_alpha': 2.2514510404498253e-07, 'reg_lambda': 1.3791838576501159e-08}. Best is trial 16 with value: 0.39321687329737265.\n",
      "[I 2024-05-25 03:34:36,722] Trial 18 finished with value: 0.3672809497406832 and parameters: {'max_depth': 2, 'learning_rate': 0.14529811966126358, 'n_estimators': 376, 'min_child_weight': 8, 'gamma': 7.772734618542617e-06, 'subsample': 0.04497071885693364, 'colsample_bytree': 0.0706739393880363, 'reg_alpha': 1.0364464485327259e-08, 'reg_lambda': 1.9426742363043032e-07}. Best is trial 16 with value: 0.39321687329737265.\n",
      "[I 2024-05-25 03:34:50,810] Trial 19 finished with value: 0.3789876688581428 and parameters: {'max_depth': 2, 'learning_rate': 0.14809352403163076, 'n_estimators': 465, 'min_child_weight': 10, 'gamma': 9.91055499254799e-05, 'subsample': 0.02253201780512494, 'colsample_bytree': 0.34733636148545294, 'reg_alpha': 1.1857398677255115e-07, 'reg_lambda': 0.00047439374967533536}. Best is trial 16 with value: 0.39321687329737265.\n",
      "[I 2024-05-25 03:35:13,158] Trial 20 finished with value: 0.37311822529390204 and parameters: {'max_depth': 4, 'learning_rate': 0.04855440729320551, 'n_estimators': 436, 'min_child_weight': 8, 'gamma': 6.966044777542246e-08, 'subsample': 0.07680015149914263, 'colsample_bytree': 0.15866560088991352, 'reg_alpha': 5.418493548671597e-06, 'reg_lambda': 5.36761704450974e-08}. Best is trial 16 with value: 0.39321687329737265.\n",
      "[I 2024-05-25 03:35:18,007] Trial 21 finished with value: 0.37221180514863866 and parameters: {'max_depth': 1, 'learning_rate': 0.3441067221436099, 'n_estimators': 231, 'min_child_weight': 6, 'gamma': 3.9542377049067067e-07, 'subsample': 0.8787335382176846, 'colsample_bytree': 0.5415922995537328, 'reg_alpha': 0.0024616103689007658, 'reg_lambda': 1.4938263066816279e-06}. Best is trial 16 with value: 0.39321687329737265.\n",
      "[I 2024-05-25 03:35:43,622] Trial 22 finished with value: 0.39816986305718577 and parameters: {'max_depth': 5, 'learning_rate': 0.1453798459687509, 'n_estimators': 323, 'min_child_weight': 8, 'gamma': 1.4628245918876655e-08, 'subsample': 0.1983861404653176, 'colsample_bytree': 0.7769135257473336, 'reg_alpha': 9.174743977114377e-08, 'reg_lambda': 1.1583405326414423e-05}. Best is trial 22 with value: 0.39816986305718577.\n",
      "[I 2024-05-25 03:35:59,149] Trial 23 finished with value: 0.40234703611344785 and parameters: {'max_depth': 3, 'learning_rate': 0.14347174625181222, 'n_estimators': 339, 'min_child_weight': 8, 'gamma': 1.0104987055363148e-08, 'subsample': 0.18814798990910434, 'colsample_bytree': 0.7185747017510726, 'reg_alpha': 1.4169662948766694e-07, 'reg_lambda': 2.568288570351377e-07}. Best is trial 23 with value: 0.40234703611344785.\n",
      "[I 2024-05-25 03:36:16,888] Trial 24 finished with value: 0.3713038664918458 and parameters: {'max_depth': 4, 'learning_rate': 0.07556024527285439, 'n_estimators': 330, 'min_child_weight': 9, 'gamma': 1.6414512381492567e-08, 'subsample': 0.16915967984296026, 'colsample_bytree': 0.26936487764458555, 'reg_alpha': 1.6942894185274065e-07, 'reg_lambda': 2.726156793490413e-05}. Best is trial 23 with value: 0.40234703611344785.\n",
      "[I 2024-05-25 03:36:47,120] Trial 25 finished with value: 0.3832444013706691 and parameters: {'max_depth': 5, 'learning_rate': 0.1298086873761585, 'n_estimators': 389, 'min_child_weight': 8, 'gamma': 4.682702328044964e-08, 'subsample': 0.2180691805283845, 'colsample_bytree': 0.679485345750488, 'reg_alpha': 1.687401736775851e-05, 'reg_lambda': 3.078280975966381e-07}. Best is trial 23 with value: 0.40234703611344785.\n",
      "[I 2024-05-25 03:37:00,442] Trial 26 finished with value: 0.3552838848905102 and parameters: {'max_depth': 3, 'learning_rate': 0.029981811588746084, 'n_estimators': 327, 'min_child_weight': 10, 'gamma': 1.294672110039363e-08, 'subsample': 0.6052715979355817, 'colsample_bytree': 0.37662294453272543, 'reg_alpha': 9.802546691757878e-08, 'reg_lambda': 0.0014730274377399782}. Best is trial 23 with value: 0.40234703611344785.\n",
      "[I 2024-05-25 03:37:14,864] Trial 27 finished with value: 0.40568229826784963 and parameters: {'max_depth': 3, 'learning_rate': 0.10777391585481415, 'n_estimators': 352, 'min_child_weight': 9, 'gamma': 0.87829207054939, 'subsample': 0.10806869839501314, 'colsample_bytree': 0.20464512194408915, 'reg_alpha': 5.108014777063087e-07, 'reg_lambda': 8.715038465796059e-07}. Best is trial 27 with value: 0.40568229826784963.\n",
      "[I 2024-05-25 03:37:35,350] Trial 28 finished with value: 0.3976334680078531 and parameters: {'max_depth': 6, 'learning_rate': 0.06211808366237358, 'n_estimators': 293, 'min_child_weight': 8, 'gamma': 0.062242647270841396, 'subsample': 0.11018696883308637, 'colsample_bytree': 0.18117568187620706, 'reg_alpha': 5.803505032003128e-07, 'reg_lambda': 4.870791036997225e-05}. Best is trial 27 with value: 0.40568229826784963.\n",
      "[I 2024-05-25 03:37:49,553] Trial 29 finished with value: 0.39219193187540236 and parameters: {'max_depth': 5, 'learning_rate': 0.10847408918340055, 'n_estimators': 221, 'min_child_weight': 5, 'gamma': 0.5658135890677393, 'subsample': 0.21558256329844444, 'colsample_bytree': 0.09251212677484094, 'reg_alpha': 7.197817306784967e-06, 'reg_lambda': 5.655986739240962e-06}. Best is trial 27 with value: 0.40568229826784963.\n",
      "[I 2024-05-25 03:38:14,374] Trial 30 finished with value: 0.3615955088657761 and parameters: {'max_depth': 4, 'learning_rate': 0.10208083839341203, 'n_estimators': 418, 'min_child_weight': 6, 'gamma': 0.0013963308301701764, 'subsample': 0.08132738663945659, 'colsample_bytree': 0.7281363160719395, 'reg_alpha': 5.041595416525202e-07, 'reg_lambda': 6.717324945046464e-07}. Best is trial 27 with value: 0.40568229826784963.\n",
      "[I 2024-05-25 03:38:36,151] Trial 31 finished with value: 0.39241986035816084 and parameters: {'max_depth': 6, 'learning_rate': 0.06620650339592721, 'n_estimators': 302, 'min_child_weight': 8, 'gamma': 0.03199795540897696, 'subsample': 0.11904492909147074, 'colsample_bytree': 0.1755964371546242, 'reg_alpha': 4.6858663659192146e-08, 'reg_lambda': 5.341036516889424e-05}. Best is trial 27 with value: 0.40568229826784963.\n",
      "[I 2024-05-25 03:39:01,254] Trial 32 finished with value: 0.3823090701187095 and parameters: {'max_depth': 6, 'learning_rate': 0.056963274160789466, 'n_estimators': 343, 'min_child_weight': 9, 'gamma': 0.07777593353587278, 'subsample': 0.1395266149941195, 'colsample_bytree': 0.1316359029343792, 'reg_alpha': 7.572747012269773e-07, 'reg_lambda': 1.3856612611761267e-05}. Best is trial 27 with value: 0.40568229826784963.\n",
      "[I 2024-05-25 03:39:20,749] Trial 33 finished with value: 0.38001441352124493 and parameters: {'max_depth': 5, 'learning_rate': 0.027250801723881873, 'n_estimators': 310, 'min_child_weight': 8, 'gamma': 0.5687592379351952, 'subsample': 0.20621236780778718, 'colsample_bytree': 0.07944349727385526, 'reg_alpha': 3.4956282220768563e-07, 'reg_lambda': 7.335219282002257e-05}. Best is trial 27 with value: 0.40568229826784963.\n",
      "[I 2024-05-25 03:39:43,793] Trial 34 finished with value: 0.3952973940345991 and parameters: {'max_depth': 6, 'learning_rate': 0.08450761677574584, 'n_estimators': 361, 'min_child_weight': 9, 'gamma': 0.00038071313397522943, 'subsample': 0.09126077798322586, 'colsample_bytree': 0.055162702605892025, 'reg_alpha': 3.596614846882042e-05, 'reg_lambda': 6.241288349225971e-06}. Best is trial 27 with value: 0.40568229826784963.\n",
      "[I 2024-05-25 03:39:55,018] Trial 35 finished with value: 0.3967446970004514 and parameters: {'max_depth': 3, 'learning_rate': 0.1762883800042646, 'n_estimators': 282, 'min_child_weight': 7, 'gamma': 0.004107994911645848, 'subsample': 0.37250337051590565, 'colsample_bytree': 0.22202697621084996, 'reg_alpha': 2.132632976424323e-06, 'reg_lambda': 1.0895731157745728e-06}. Best is trial 27 with value: 0.40568229826784963.\n",
      "[I 2024-05-25 03:40:14,472] Trial 36 finished with value: 0.3842857029633335 and parameters: {'max_depth': 7, 'learning_rate': 0.038392278390018256, 'n_estimators': 250, 'min_child_weight': 10, 'gamma': 0.1476317639433423, 'subsample': 0.12055544867207067, 'colsample_bytree': 0.44097460629881896, 'reg_alpha': 5.060490612947435e-08, 'reg_lambda': 0.0006593756915247063}. Best is trial 27 with value: 0.40568229826784963.\n",
      "[I 2024-05-25 03:40:29,198] Trial 37 finished with value: 0.3865750697336419 and parameters: {'max_depth': 3, 'learning_rate': 0.11008683162529909, 'n_estimators': 350, 'min_child_weight': 8, 'gamma': 0.8749835127890925, 'subsample': 0.05858732155688906, 'colsample_bytree': 0.3324545339071963, 'reg_alpha': 1.9535349917823275e-05, 'reg_lambda': 0.004390885091361284}. Best is trial 27 with value: 0.40568229826784963.\n",
      "[I 2024-05-25 03:40:38,859] Trial 38 finished with value: 0.3862184041691139 and parameters: {'max_depth': 4, 'learning_rate': 0.2735896711601464, 'n_estimators': 197, 'min_child_weight': 9, 'gamma': 2.0195173927332585e-06, 'subsample': 0.2817344915044542, 'colsample_bytree': 0.028208719406055783, 'reg_alpha': 6.039296796837507e-08, 'reg_lambda': 0.0001603785176073005}. Best is trial 27 with value: 0.40568229826784963.\n",
      "[I 2024-05-25 03:41:17,879] Trial 39 finished with value: 0.3765834778232304 and parameters: {'max_depth': 8, 'learning_rate': 0.061720138184627835, 'n_estimators': 315, 'min_child_weight': 5, 'gamma': 0.0157421144272263, 'subsample': 0.16330636082996133, 'colsample_bytree': 0.7494603077193441, 'reg_alpha': 4.3884944053997315e-07, 'reg_lambda': 3.405193185667656e-05}. Best is trial 27 with value: 0.40568229826784963.\n",
      "[I 2024-05-25 03:41:27,495] Trial 40 finished with value: 0.3770017590628452 and parameters: {'max_depth': 6, 'learning_rate': 0.4673432400357596, 'n_estimators': 133, 'min_child_weight': 6, 'gamma': 0.00039084316909502584, 'subsample': 0.10777999390815193, 'colsample_bytree': 0.21267575053615873, 'reg_alpha': 0.15512536517855816, 'reg_lambda': 2.69135508012377e-06}. Best is trial 27 with value: 0.40568229826784963.\n",
      "[I 2024-05-25 03:41:38,881] Trial 41 finished with value: 0.4090466149382361 and parameters: {'max_depth': 3, 'learning_rate': 0.18268651366344776, 'n_estimators': 285, 'min_child_weight': 8, 'gamma': 0.002998293326224193, 'subsample': 0.35144208731398047, 'colsample_bytree': 0.23895341821871915, 'reg_alpha': 2.0435257900668234e-06, 'reg_lambda': 8.393075923753608e-07}. Best is trial 41 with value: 0.4090466149382361.\n",
      "[I 2024-05-25 03:41:50,466] Trial 42 finished with value: 0.37566934611541863 and parameters: {'max_depth': 3, 'learning_rate': 0.1798493222911296, 'n_estimators': 286, 'min_child_weight': 8, 'gamma': 0.03859117187386295, 'subsample': 0.36645700568230316, 'colsample_bytree': 0.27650123083831735, 'reg_alpha': 4.056458089497116e-06, 'reg_lambda': 3.8231959137041603e-07}. Best is trial 41 with value: 0.4090466149382361.\n",
      "[I 2024-05-25 03:42:07,790] Trial 43 finished with value: 0.3894676575518768 and parameters: {'max_depth': 5, 'learning_rate': 0.12304452845470233, 'n_estimators': 263, 'min_child_weight': 7, 'gamma': 0.009104091766036496, 'subsample': 0.46381438924308427, 'colsample_bytree': 0.11492707495936148, 'reg_alpha': 1.108058217101635e-06, 'reg_lambda': 1.2202236775847074e-07}. Best is trial 41 with value: 0.4090466149382361.\n",
      "[I 2024-05-25 03:42:39,461] Trial 44 finished with value: 0.38083362104840507 and parameters: {'max_depth': 7, 'learning_rate': 0.08934483663209929, 'n_estimators': 302, 'min_child_weight': 8, 'gamma': 0.2307726008225901, 'subsample': 0.2670403349496196, 'colsample_bytree': 0.5929943812451179, 'reg_alpha': 3.108075939096835e-08, 'reg_lambda': 9.589523468950128e-06}. Best is trial 41 with value: 0.4090466149382361.\n",
      "[I 2024-05-25 03:42:58,373] Trial 45 finished with value: 0.3638879588971609 and parameters: {'max_depth': 4, 'learning_rate': 0.26487209182343974, 'n_estimators': 361, 'min_child_weight': 9, 'gamma': 0.0049682323107224655, 'subsample': 0.19057210556326795, 'colsample_bytree': 0.14694650402490164, 'reg_alpha': 2.8415929230437276e-07, 'reg_lambda': 2.3076991754727228e-06}. Best is trial 41 with value: 0.4090466149382361.\n",
      "[I 2024-05-25 03:43:10,608] Trial 46 finished with value: 0.3912932865587618 and parameters: {'max_depth': 2, 'learning_rate': 0.2020957037892877, 'n_estimators': 399, 'min_child_weight': 10, 'gamma': 0.054090750312519226, 'subsample': 0.23974240207921618, 'colsample_bytree': 0.4450848639403643, 'reg_alpha': 1.2725283052687774e-05, 'reg_lambda': 4.1326609983854825e-07}. Best is trial 41 with value: 0.4090466149382361.\n",
      "[I 2024-05-25 03:43:26,584] Trial 47 finished with value: 0.38211481773341505 and parameters: {'max_depth': 3, 'learning_rate': 0.5632142361709901, 'n_estimators': 332, 'min_child_weight': 7, 'gamma': 0.0010580733559594404, 'subsample': 0.3100536933554308, 'colsample_bytree': 0.8424901510519899, 'reg_alpha': 4.4133694460465e-05, 'reg_lambda': 2.6464993845293502e-08}. Best is trial 41 with value: 0.4090466149382361.\n",
      "[I 2024-05-25 03:43:38,615] Trial 48 finished with value: 0.3580465393387284 and parameters: {'max_depth': 5, 'learning_rate': 0.17387695585994098, 'n_estimators': 207, 'min_child_weight': 7, 'gamma': 0.12734957471734445, 'subsample': 0.06487040553888382, 'colsample_bytree': 0.21032460684584792, 'reg_alpha': 2.887200080264554e-06, 'reg_lambda': 1.1636280035815099e-07}. Best is trial 41 with value: 0.4090466149382361.\n",
      "[I 2024-05-25 03:43:48,171] Trial 49 finished with value: 0.40032774152842343 and parameters: {'max_depth': 3, 'learning_rate': 0.2935545382846299, 'n_estimators': 252, 'min_child_weight': 8, 'gamma': 0.34678531659058726, 'subsample': 0.4587553078785947, 'colsample_bytree': 0.09735879048277485, 'reg_alpha': 8.570329599085846e-08, 'reg_lambda': 3.575446275775179e-06}. Best is trial 41 with value: 0.4090466149382361.\n"
     ]
    },
    {
     "name": "stdout",
     "output_type": "stream",
     "text": [
      "Number of finished trials: 50\n",
      "Best trial:\n",
      "  Value: 0.4090466149382361\n",
      "  Params: \n",
      "    max_depth: 3\n",
      "    learning_rate: 0.18268651366344776\n",
      "    n_estimators: 285\n",
      "    min_child_weight: 8\n",
      "    gamma: 0.002998293326224193\n",
      "    subsample: 0.35144208731398047\n",
      "    colsample_bytree: 0.23895341821871915\n",
      "    reg_alpha: 2.0435257900668234e-06\n",
      "    reg_lambda: 8.393075923753608e-07\n",
      "Training\n",
      "\n",
      "[[ 217  360   37]\n",
      " [  91 3206  104]\n",
      " [  36  429  210]]\n",
      "              precision    recall  f1-score   support\n",
      "\n",
      "         0.0       0.63      0.35      0.45       614\n",
      "         1.0       0.80      0.94      0.87      3401\n",
      "         2.0       0.60      0.31      0.41       675\n",
      "\n",
      "    accuracy                           0.77      4690\n",
      "   macro avg       0.68      0.54      0.58      4690\n",
      "weighted avg       0.75      0.77      0.75      4690\n",
      "\n",
      "Testing\n",
      "\n",
      "[[ 21  59   8]\n",
      " [ 42 397  47]\n",
      " [  8  73  15]]\n",
      "              precision    recall  f1-score   support\n",
      "\n",
      "         0.0       0.30      0.24      0.26        88\n",
      "         1.0       0.75      0.82      0.78       486\n",
      "         2.0       0.21      0.16      0.18        96\n",
      "\n",
      "    accuracy                           0.65       670\n",
      "   macro avg       0.42      0.40      0.41       670\n",
      "weighted avg       0.61      0.65      0.63       670\n",
      "\n"
     ]
    }
   ],
   "source": [
    "X_train, X_test, y_train, y_test = pentad_data(0)\n",
    "xgb(X_train, y_train, X_test, y_test)"
   ]
  },
  {
   "cell_type": "markdown",
   "metadata": {},
   "source": [
    "## Second Pentad"
   ]
  },
  {
   "cell_type": "code",
   "execution_count": 8,
   "metadata": {},
   "outputs": [
    {
     "name": "stderr",
     "output_type": "stream",
     "text": [
      "[I 2024-05-25 03:43:59,557] A new study created in memory with name: no-name-9c1462b3-f27f-4602-bfbd-ef1196ffb89c\n"
     ]
    },
    {
     "name": "stderr",
     "output_type": "stream",
     "text": [
      "[I 2024-05-25 03:44:23,147] Trial 0 finished with value: 0.3864953527520923 and parameters: {'max_depth': 6, 'learning_rate': 0.11370108516672386, 'n_estimators': 385, 'min_child_weight': 4, 'gamma': 0.0014006354834385979, 'subsample': 0.04705108907769987, 'colsample_bytree': 0.031035524438344276, 'reg_alpha': 1.2443599916453006e-05, 'reg_lambda': 0.05340986782636175}. Best is trial 0 with value: 0.3864953527520923.\n",
      "[I 2024-05-25 03:44:31,974] Trial 1 finished with value: 0.3570035500666701 and parameters: {'max_depth': 4, 'learning_rate': 0.7407058284827324, 'n_estimators': 424, 'min_child_weight': 3, 'gamma': 3.8538605089335395e-08, 'subsample': 0.022803349585781903, 'colsample_bytree': 0.8422379662535426, 'reg_alpha': 0.000630230055800853, 'reg_lambda': 7.716708949874697e-05}. Best is trial 0 with value: 0.3864953527520923.\n",
      "[I 2024-05-25 03:44:42,253] Trial 2 finished with value: 0.2981230008200926 and parameters: {'max_depth': 2, 'learning_rate': 0.04219390862670692, 'n_estimators': 418, 'min_child_weight': 4, 'gamma': 0.0010372810105307455, 'subsample': 0.9391609072555428, 'colsample_bytree': 0.023979921558356532, 'reg_alpha': 0.0006933769405430555, 'reg_lambda': 7.776662797002457e-06}. Best is trial 0 with value: 0.3864953527520923.\n",
      "[I 2024-05-25 03:45:05,154] Trial 3 finished with value: 0.27927927927927926 and parameters: {'max_depth': 9, 'learning_rate': 0.015804370144400687, 'n_estimators': 452, 'min_child_weight': 8, 'gamma': 0.9509892728947069, 'subsample': 0.05290136184002679, 'colsample_bytree': 0.011423411540340624, 'reg_alpha': 8.4187120806447e-06, 'reg_lambda': 1.7482464727988935e-08}. Best is trial 0 with value: 0.3864953527520923.\n",
      "[I 2024-05-25 03:45:56,644] Trial 4 finished with value: 0.35116582706683747 and parameters: {'max_depth': 7, 'learning_rate': 0.5598601443852985, 'n_estimators': 477, 'min_child_weight': 2, 'gamma': 0.009460575737869, 'subsample': 0.4514090169569534, 'colsample_bytree': 0.04384641404836725, 'reg_alpha': 0.0012765592117873986, 'reg_lambda': 7.533510949249412e-06}. Best is trial 0 with value: 0.3864953527520923.\n",
      "[I 2024-05-25 03:46:00,041] Trial 5 finished with value: 0.306140032768278 and parameters: {'max_depth': 5, 'learning_rate': 0.07838381327138916, 'n_estimators': 69, 'min_child_weight': 8, 'gamma': 1.1160044529102511e-08, 'subsample': 0.03151804366395525, 'colsample_bytree': 0.5444560006854217, 'reg_alpha': 6.277184375831934e-07, 'reg_lambda': 1.550684794428231e-05}. Best is trial 0 with value: 0.3864953527520923.\n",
      "[I 2024-05-25 03:46:08,011] Trial 6 finished with value: 0.3607660191929855 and parameters: {'max_depth': 7, 'learning_rate': 0.1758127678825376, 'n_estimators': 77, 'min_child_weight': 3, 'gamma': 0.0006259109407246854, 'subsample': 0.1637653945203784, 'colsample_bytree': 0.3057077441970776, 'reg_alpha': 0.0002001823752624398, 'reg_lambda': 5.037238389038716e-06}. Best is trial 0 with value: 0.3864953527520923.\n",
      "[I 2024-05-25 03:46:11,871] Trial 7 finished with value: 0.3561367563395961 and parameters: {'max_depth': 2, 'learning_rate': 0.24552598977499301, 'n_estimators': 141, 'min_child_weight': 3, 'gamma': 0.40048866053011994, 'subsample': 0.49642267124293366, 'colsample_bytree': 0.274963475892363, 'reg_alpha': 2.2560535961111596e-05, 'reg_lambda': 2.4233764989472636e-08}. Best is trial 0 with value: 0.3864953527520923.\n",
      "[I 2024-05-25 03:46:20,537] Trial 8 finished with value: 0.3396937801915487 and parameters: {'max_depth': 3, 'learning_rate': 0.0626144943580736, 'n_estimators': 249, 'min_child_weight': 5, 'gamma': 0.0011024007882066103, 'subsample': 0.43025686428415705, 'colsample_bytree': 0.02652039143360837, 'reg_alpha': 0.13752198971858923, 'reg_lambda': 5.291011077496803e-07}. Best is trial 0 with value: 0.3864953527520923.\n",
      "[I 2024-05-25 03:46:37,115] Trial 9 finished with value: 0.36136063959407805 and parameters: {'max_depth': 4, 'learning_rate': 0.25295995342281863, 'n_estimators': 352, 'min_child_weight': 8, 'gamma': 0.1161974434166972, 'subsample': 0.31598691593405476, 'colsample_bytree': 0.022382305942362082, 'reg_alpha': 0.08778242627332848, 'reg_lambda': 0.07200234246350962}. Best is trial 0 with value: 0.3864953527520923.\n",
      "[I 2024-05-25 03:46:49,374] Trial 10 finished with value: 0.32239243433354464 and parameters: {'max_depth': 7, 'learning_rate': 0.019592557317899738, 'n_estimators': 281, 'min_child_weight': 1, 'gamma': 4.049893288858199e-06, 'subsample': 0.012115141749780475, 'colsample_bytree': 0.09796265827923728, 'reg_alpha': 1.019093777787964e-08, 'reg_lambda': 0.08647663114030986}. Best is trial 0 with value: 0.3864953527520923.\n",
      "[I 2024-05-25 03:47:08,164] Trial 11 finished with value: 0.3976356578891549 and parameters: {'max_depth': 5, 'learning_rate': 0.25958087592456947, 'n_estimators': 330, 'min_child_weight': 10, 'gamma': 0.030523703123524724, 'subsample': 0.12629115705566632, 'colsample_bytree': 0.07163753123485614, 'reg_alpha': 0.11631223960746294, 'reg_lambda': 0.08762674366165053}. Best is trial 11 with value: 0.3976356578891549.\n",
      "[I 2024-05-25 03:47:27,393] Trial 12 finished with value: 0.400326110553834 and parameters: {'max_depth': 6, 'learning_rate': 0.14736297949279398, 'n_estimators': 334, 'min_child_weight': 10, 'gamma': 4.2090145793520645e-06, 'subsample': 0.09411397300722979, 'colsample_bytree': 0.08006204822367026, 'reg_alpha': 8.468254366682211e-07, 'reg_lambda': 0.0028347902895180703}. Best is trial 12 with value: 0.400326110553834.\n",
      "[I 2024-05-25 03:47:45,848] Trial 13 finished with value: 0.3639215643081623 and parameters: {'max_depth': 9, 'learning_rate': 0.34470282683286985, 'n_estimators': 286, 'min_child_weight': 10, 'gamma': 5.994113088393391e-06, 'subsample': 0.13398880958623569, 'colsample_bytree': 0.09143575060280715, 'reg_alpha': 1.7236794595774877e-07, 'reg_lambda': 0.0020160430437263076}. Best is trial 12 with value: 0.400326110553834.\n",
      "[I 2024-05-25 03:47:57,566] Trial 14 finished with value: 0.39479232937320935 and parameters: {'max_depth': 5, 'learning_rate': 0.15634530127354193, 'n_estimators': 215, 'min_child_weight': 10, 'gamma': 1.3596305305719916e-05, 'subsample': 0.08323888665861875, 'colsample_bytree': 0.1595381940343148, 'reg_alpha': 0.010850353909501457, 'reg_lambda': 0.00251229622452267}. Best is trial 12 with value: 0.400326110553834.\n",
      "[I 2024-05-25 03:48:23,789] Trial 15 finished with value: 0.3791596342719373 and parameters: {'max_depth': 6, 'learning_rate': 0.46134189519177426, 'n_estimators': 339, 'min_child_weight': 7, 'gamma': 2.239769428614592e-07, 'subsample': 0.23765422785845242, 'colsample_bytree': 0.08181417593106201, 'reg_alpha': 0.43833641335438567, 'reg_lambda': 0.7736971511445909}. Best is trial 12 with value: 0.400326110553834.\n",
      "[I 2024-05-25 03:48:27,383] Trial 16 finished with value: 0.27927927927927926 and parameters: {'max_depth': 1, 'learning_rate': 0.03651983667195485, 'n_estimators': 198, 'min_child_weight': 10, 'gamma': 7.620311688984255e-07, 'subsample': 0.08500745002322656, 'colsample_bytree': 0.05266763777395987, 'reg_alpha': 3.7059040119106195e-07, 'reg_lambda': 0.0015213573232994223}. Best is trial 12 with value: 0.400326110553834.\n",
      "[I 2024-05-25 03:48:44,080] Trial 17 finished with value: 0.34980811531801376 and parameters: {'max_depth': 8, 'learning_rate': 0.9267548827050358, 'n_estimators': 320, 'min_child_weight': 9, 'gamma': 8.660402617565705e-05, 'subsample': 0.1728563320628999, 'colsample_bytree': 0.18849860970085874, 'reg_alpha': 0.011256188609526903, 'reg_lambda': 0.007788445764767117}. Best is trial 12 with value: 0.400326110553834.\n",
      "[I 2024-05-25 03:49:06,794] Trial 18 finished with value: 0.39055221377318755 and parameters: {'max_depth': 5, 'learning_rate': 0.10571020409397466, 'n_estimators': 382, 'min_child_weight': 7, 'gamma': 0.02751285882598123, 'subsample': 0.10175053059172978, 'colsample_bytree': 0.05903385506883357, 'reg_alpha': 1.0020359009100194e-08, 'reg_lambda': 0.9721899101338686}. Best is trial 12 with value: 0.400326110553834.\n",
      "[I 2024-05-25 03:49:15,542] Trial 19 finished with value: 0.36591283694880355 and parameters: {'max_depth': 4, 'learning_rate': 0.33131994365370343, 'n_estimators': 188, 'min_child_weight': 6, 'gamma': 9.037473307833642e-05, 'subsample': 0.052319553302320534, 'colsample_bytree': 0.1694153023467393, 'reg_alpha': 2.4664170173406928e-06, 'reg_lambda': 0.0003107173474736471}. Best is trial 12 with value: 0.400326110553834.\n",
      "[I 2024-05-25 03:49:25,478] Trial 20 finished with value: 0.3442547286867547 and parameters: {'max_depth': 6, 'learning_rate': 0.1612556454827531, 'n_estimators': 315, 'min_child_weight': 9, 'gamma': 0.011581286041270926, 'subsample': 0.021202503342062178, 'colsample_bytree': 0.017286437965398804, 'reg_alpha': 5.797002106996304e-08, 'reg_lambda': 0.013620689566919118}. Best is trial 12 with value: 0.400326110553834.\n",
      "[I 2024-05-25 03:49:38,034] Trial 21 finished with value: 0.4018812935290515 and parameters: {'max_depth': 5, 'learning_rate': 0.15991783534000792, 'n_estimators': 227, 'min_child_weight': 10, 'gamma': 7.888040931527639e-06, 'subsample': 0.09049750972296149, 'colsample_bytree': 0.14748890219064764, 'reg_alpha': 0.013697980440629868, 'reg_lambda': 0.00035596722125355015}. Best is trial 21 with value: 0.4018812935290515.\n",
      "[I 2024-05-25 03:49:51,898] Trial 22 finished with value: 0.37633262912954296 and parameters: {'max_depth': 5, 'learning_rate': 0.2013573995533972, 'n_estimators': 235, 'min_child_weight': 9, 'gamma': 1.0811507212157818e-06, 'subsample': 0.1140728036852778, 'colsample_bytree': 0.13271316118536514, 'reg_alpha': 0.008343416493461263, 'reg_lambda': 0.00025609707941691103}. Best is trial 21 with value: 0.4018812935290515.\n",
      "[I 2024-05-25 03:50:00,141] Trial 23 finished with value: 0.3070112893642305 and parameters: {'max_depth': 6, 'learning_rate': 0.055094910390504175, 'n_estimators': 147, 'min_child_weight': 10, 'gamma': 3.0411252271878237e-05, 'subsample': 0.068148480776749, 'colsample_bytree': 0.06813430685749018, 'reg_alpha': 0.04766973343362506, 'reg_lambda': 0.01882098814271369}. Best is trial 21 with value: 0.4018812935290515.\n",
      "[I 2024-05-25 03:50:10,443] Trial 24 finished with value: 0.38510767471270396 and parameters: {'max_depth': 3, 'learning_rate': 0.10837969687448458, 'n_estimators': 263, 'min_child_weight': 9, 'gamma': 1.443363089364177e-06, 'subsample': 0.19606584586019973, 'colsample_bytree': 0.25747027900538993, 'reg_alpha': 0.42574384876756854, 'reg_lambda': 0.0006209284572854774}. Best is trial 21 with value: 0.4018812935290515.\n",
      "[I 2024-05-25 03:50:23,566] Trial 25 finished with value: 0.3727907610546297 and parameters: {'max_depth': 4, 'learning_rate': 0.36035819280843573, 'n_estimators': 377, 'min_child_weight': 7, 'gamma': 2.6992133704594327e-05, 'subsample': 0.03602698509258335, 'colsample_bytree': 0.04364452226591787, 'reg_alpha': 0.002698573354351966, 'reg_lambda': 8.857824823400723e-05}. Best is trial 21 with value: 0.4018812935290515.\n",
      "[I 2024-05-25 03:50:50,950] Trial 26 finished with value: 0.35588237337836054 and parameters: {'max_depth': 8, 'learning_rate': 0.136363993651839, 'n_estimators': 297, 'min_child_weight': 10, 'gamma': 2.2003937358456172e-07, 'subsample': 0.2770398560338914, 'colsample_bytree': 0.12264892629609815, 'reg_alpha': 0.9190525899515736, 'reg_lambda': 0.12919737118111144}. Best is trial 21 with value: 0.4018812935290515.\n",
      "[I 2024-05-25 03:50:57,083] Trial 27 finished with value: 0.35327515466907716 and parameters: {'max_depth': 3, 'learning_rate': 0.08240501134397446, 'n_estimators': 150, 'min_child_weight': 8, 'gamma': 0.0003102066024083262, 'subsample': 0.13883775231961568, 'colsample_bytree': 0.46634599607512184, 'reg_alpha': 9.434208583781259e-05, 'reg_lambda': 0.004933666096123745}. Best is trial 21 with value: 0.4018812935290515.\n",
      "[I 2024-05-25 03:51:14,096] Trial 28 finished with value: 0.36463571296009484 and parameters: {'max_depth': 5, 'learning_rate': 0.26043114303433496, 'n_estimators': 357, 'min_child_weight': 9, 'gamma': 1.9698337977089012e-07, 'subsample': 0.06728327572000735, 'colsample_bytree': 0.035681217391371804, 'reg_alpha': 0.03145879450488145, 'reg_lambda': 3.685104515965017e-05}. Best is trial 21 with value: 0.4018812935290515.\n",
      "[I 2024-05-25 03:51:29,781] Trial 29 finished with value: 0.3778111487180278 and parameters: {'max_depth': 7, 'learning_rate': 0.46093422977052206, 'n_estimators': 499, 'min_child_weight': 6, 'gamma': 0.00019315527046838543, 'subsample': 0.03981470342112013, 'colsample_bytree': 0.07806748620934272, 'reg_alpha': 3.6327404395240737e-05, 'reg_lambda': 0.23772634946944862}. Best is trial 21 with value: 0.4018812935290515.\n",
      "[I 2024-05-25 03:51:55,161] Trial 30 finished with value: 0.37092283337151727 and parameters: {'max_depth': 6, 'learning_rate': 0.03196184486638727, 'n_estimators': 402, 'min_child_weight': 10, 'gamma': 4.214708283705991e-06, 'subsample': 0.10333323412868532, 'colsample_bytree': 0.11305804738175389, 'reg_alpha': 2.172731960525066e-06, 'reg_lambda': 0.04293811030150128}. Best is trial 21 with value: 0.4018812935290515.\n",
      "[I 2024-05-25 03:52:07,017] Trial 31 finished with value: 0.3761622108156762 and parameters: {'max_depth': 5, 'learning_rate': 0.14201528690069076, 'n_estimators': 222, 'min_child_weight': 10, 'gamma': 1.7274107027991878e-05, 'subsample': 0.07749921594485984, 'colsample_bytree': 0.1599597439687286, 'reg_alpha': 0.007769264611255303, 'reg_lambda': 0.001655436830350252}. Best is trial 21 with value: 0.4018812935290515.\n",
      "[I 2024-05-25 03:52:17,247] Trial 32 finished with value: 0.3843374285703513 and parameters: {'max_depth': 5, 'learning_rate': 0.2226608773233775, 'n_estimators': 211, 'min_child_weight': 9, 'gamma': 9.634825137587995e-06, 'subsample': 0.057403590808702006, 'colsample_bytree': 0.17804871867589317, 'reg_alpha': 0.0181953006716472, 'reg_lambda': 0.0037218428949990535}. Best is trial 21 with value: 0.4018812935290515.\n",
      "[I 2024-05-25 03:52:25,884] Trial 33 finished with value: 0.3822883429658592 and parameters: {'max_depth': 4, 'learning_rate': 0.1349886137279929, 'n_estimators': 172, 'min_child_weight': 10, 'gamma': 4.596651329875756e-05, 'subsample': 0.09126813251449935, 'colsample_bytree': 0.22809797245578653, 'reg_alpha': 0.0017963259022259262, 'reg_lambda': 0.0005810927832642596}. Best is trial 21 with value: 0.4018812935290515.\n",
      "[I 2024-05-25 03:52:34,524] Trial 34 finished with value: 0.33882323163087064 and parameters: {'max_depth': 6, 'learning_rate': 0.07825385635760793, 'n_estimators': 115, 'min_child_weight': 9, 'gamma': 2.163596073271998e-06, 'subsample': 0.1462571144512058, 'colsample_bytree': 0.3593260074931304, 'reg_alpha': 0.00028798725277531784, 'reg_lambda': 0.025502944173314144}. Best is trial 21 with value: 0.4018812935290515.\n",
      "[I 2024-05-25 03:52:40,366] Trial 35 finished with value: 0.3379732851563837 and parameters: {'max_depth': 5, 'learning_rate': 0.6548233627200047, 'n_estimators': 253, 'min_child_weight': 8, 'gamma': 0.0030682910221392374, 'subsample': 0.02633418085281442, 'colsample_bytree': 0.1289790889524011, 'reg_alpha': 0.004384624143884917, 'reg_lambda': 0.0001609986163469058}. Best is trial 21 with value: 0.4018812935290515.\n",
      "[I 2024-05-25 03:53:04,678] Trial 36 finished with value: 0.363037105084205 and parameters: {'max_depth': 4, 'learning_rate': 0.17476816073086715, 'n_estimators': 425, 'min_child_weight': 10, 'gamma': 1.3852038685239877e-05, 'subsample': 0.2143185849665875, 'colsample_bytree': 0.736043076302862, 'reg_alpha': 0.21815102588642568, 'reg_lambda': 3.540904917383917e-05}. Best is trial 21 with value: 0.4018812935290515.\n",
      "[I 2024-05-25 03:53:19,592] Trial 37 finished with value: 0.38163778963032674 and parameters: {'max_depth': 8, 'learning_rate': 0.11968598456710187, 'n_estimators': 311, 'min_child_weight': 8, 'gamma': 6.144457643426814e-07, 'subsample': 0.04555945458711692, 'colsample_bytree': 0.05587404251502781, 'reg_alpha': 0.0006746841657888069, 'reg_lambda': 2.2028966183990253e-06}. Best is trial 21 with value: 0.4018812935290515.\n",
      "[I 2024-05-25 03:53:52,391] Trial 38 finished with value: 0.3794810063570971 and parameters: {'max_depth': 6, 'learning_rate': 0.2980428582357166, 'n_estimators': 449, 'min_child_weight': 4, 'gamma': 4.1412622967015674e-08, 'subsample': 0.12240859926877197, 'colsample_bytree': 0.073126772365461, 'reg_alpha': 0.048245530505842724, 'reg_lambda': 0.25368990337721053}. Best is trial 21 with value: 0.4018812935290515.\n",
      "[I 2024-05-25 03:53:56,481] Trial 39 finished with value: 0.28673744523087297 and parameters: {'max_depth': 3, 'learning_rate': 0.08771444580159554, 'n_estimators': 107, 'min_child_weight': 9, 'gamma': 0.09450888497696655, 'subsample': 0.06636175728274081, 'colsample_bytree': 0.040629717771151826, 'reg_alpha': 4.8012048347872835e-06, 'reg_lambda': 0.010616083659097284}. Best is trial 21 with value: 0.4018812935290515.\n",
      "[I 2024-05-25 03:54:22,154] Trial 40 finished with value: 0.3575418837301891 and parameters: {'max_depth': 7, 'learning_rate': 0.05446305769530776, 'n_estimators': 226, 'min_child_weight': 10, 'gamma': 0.0003603443111662313, 'subsample': 0.7110429066068048, 'colsample_bytree': 0.3924754222540429, 'reg_alpha': 7.93357042581704e-05, 'reg_lambda': 0.0010741123091354851}. Best is trial 21 with value: 0.4018812935290515.\n",
      "[I 2024-05-25 03:54:44,563] Trial 41 finished with value: 0.37087160556842 and parameters: {'max_depth': 5, 'learning_rate': 0.10352999404603291, 'n_estimators': 381, 'min_child_weight': 7, 'gamma': 0.03234455215634925, 'subsample': 0.09930023839653078, 'colsample_bytree': 0.058167955234614974, 'reg_alpha': 1.0478429947887015e-08, 'reg_lambda': 0.5438004043422122}. Best is trial 21 with value: 0.4018812935290515.\n",
      "[I 2024-05-25 03:55:07,265] Trial 42 finished with value: 0.3762661031761441 and parameters: {'max_depth': 6, 'learning_rate': 0.17382695733390455, 'n_estimators': 339, 'min_child_weight': 5, 'gamma': 0.005961848812689961, 'subsample': 0.08447854012374809, 'colsample_bytree': 0.09779643811771223, 'reg_alpha': 7.156892572884112e-08, 'reg_lambda': 0.9508820772446767}. Best is trial 21 with value: 0.4018812935290515.\n",
      "[I 2024-05-25 03:55:30,560] Trial 43 finished with value: 0.3694621746305305 and parameters: {'max_depth': 5, 'learning_rate': 0.2128260345893909, 'n_estimators': 404, 'min_child_weight': 7, 'gamma': 0.36142875013244663, 'subsample': 0.11234205704312887, 'colsample_bytree': 0.06197152074242609, 'reg_alpha': 3.230385337982208e-08, 'reg_lambda': 0.04549302580329271}. Best is trial 21 with value: 0.4018812935290515.\n",
      "[I 2024-05-25 03:55:47,656] Trial 44 finished with value: 0.39020432351447604 and parameters: {'max_depth': 4, 'learning_rate': 0.06715553509070758, 'n_estimators': 359, 'min_child_weight': 8, 'gamma': 0.021535594373394994, 'subsample': 0.16405486293276764, 'colsample_bytree': 0.032765974308843406, 'reg_alpha': 9.207521876200527e-07, 'reg_lambda': 0.34848756114162754}. Best is trial 21 with value: 0.4018812935290515.\n",
      "[I 2024-05-25 03:56:07,010] Trial 45 finished with value: 0.35098668575641373 and parameters: {'max_depth': 5, 'learning_rate': 0.40853105014852664, 'n_estimators': 265, 'min_child_weight': 2, 'gamma': 0.0023463105455787414, 'subsample': 0.34310807789015, 'colsample_bytree': 0.22265459206005037, 'reg_alpha': 0.12883100888599006, 'reg_lambda': 0.1468461477663672}. Best is trial 21 with value: 0.4018812935290515.\n",
      "[I 2024-05-25 03:56:20,493] Trial 46 finished with value: 0.4143957356860583 and parameters: {'max_depth': 5, 'learning_rate': 0.09691643484055391, 'n_estimators': 286, 'min_child_weight': 9, 'gamma': 0.9247357806545483, 'subsample': 0.05418253443274064, 'colsample_bytree': 0.05003591739365998, 'reg_alpha': 1.5969654931312175e-05, 'reg_lambda': 0.033878590287384526}. Best is trial 46 with value: 0.4143957356860583.\n",
      "[I 2024-05-25 03:56:29,483] Trial 47 finished with value: 0.27927927927927926 and parameters: {'max_depth': 4, 'learning_rate': 0.010957416915236514, 'n_estimators': 286, 'min_child_weight': 10, 'gamma': 0.8393746625703351, 'subsample': 0.018337221452568147, 'colsample_bytree': 0.0170534935352383, 'reg_alpha': 1.2563069124542382e-05, 'reg_lambda': 0.004149265192070741}. Best is trial 46 with value: 0.4143957356860583.\n",
      "[I 2024-05-25 03:56:39,478] Trial 48 finished with value: 0.3696535911016172 and parameters: {'max_depth': 6, 'learning_rate': 0.26863073443070457, 'n_estimators': 241, 'min_child_weight': 9, 'gamma': 0.13598344691266132, 'subsample': 0.04578246787687466, 'colsample_bytree': 0.08574209704623816, 'reg_alpha': 0.00019593584543780478, 'reg_lambda': 0.02380833915908475}. Best is trial 46 with value: 0.4143957356860583.\n",
      "[I 2024-05-25 03:56:55,929] Trial 49 finished with value: 0.3250327620608202 and parameters: {'max_depth': 7, 'learning_rate': 0.04446801994331468, 'n_estimators': 327, 'min_child_weight': 10, 'gamma': 3.420422898211807e-06, 'subsample': 0.055846881217016815, 'colsample_bytree': 0.04806128038757867, 'reg_alpha': 3.1250414390783966e-07, 'reg_lambda': 4.510881771556562e-08}. Best is trial 46 with value: 0.4143957356860583.\n"
     ]
    },
    {
     "name": "stdout",
     "output_type": "stream",
     "text": [
      "Number of finished trials: 50\n",
      "Best trial:\n",
      "  Value: 0.4143957356860583\n",
      "  Params: \n",
      "    max_depth: 5\n",
      "    learning_rate: 0.09691643484055391\n",
      "    n_estimators: 286\n",
      "    min_child_weight: 9\n",
      "    gamma: 0.9247357806545483\n",
      "    subsample: 0.05418253443274064\n",
      "    colsample_bytree: 0.05003591739365998\n",
      "    reg_alpha: 1.5969654931312175e-05\n",
      "    reg_lambda: 0.033878590287384526\n",
      "Training\n",
      "\n",
      "[[ 114  440   36]\n",
      " [  52 3121   77]\n",
      " [  29  513  133]]\n",
      "              precision    recall  f1-score   support\n",
      "\n",
      "         0.0       0.58      0.19      0.29       590\n",
      "         1.0       0.77      0.96      0.85      3250\n",
      "         2.0       0.54      0.20      0.29       675\n",
      "\n",
      "    accuracy                           0.75      4515\n",
      "   macro avg       0.63      0.45      0.48      4515\n",
      "weighted avg       0.71      0.75      0.69      4515\n",
      "\n",
      "Testing\n",
      "\n",
      "[[ 14  63   7]\n",
      " [ 14 418  33]\n",
      " [  5  77  14]]\n",
      "              precision    recall  f1-score   support\n",
      "\n",
      "         0.0       0.42      0.17      0.24        84\n",
      "         1.0       0.75      0.90      0.82       465\n",
      "         2.0       0.26      0.15      0.19        96\n",
      "\n",
      "    accuracy                           0.69       645\n",
      "   macro avg       0.48      0.40      0.41       645\n",
      "weighted avg       0.63      0.69      0.65       645\n",
      "\n"
     ]
    }
   ],
   "source": [
    "X_train, X_test, y_train, y_test = pentad_data(1)\n",
    "xgb(X_train, y_train, X_test, y_test)"
   ]
  },
  {
   "cell_type": "markdown",
   "metadata": {},
   "source": [
    "## Third Pentad"
   ]
  },
  {
   "cell_type": "code",
   "execution_count": 9,
   "metadata": {},
   "outputs": [
    {
     "name": "stderr",
     "output_type": "stream",
     "text": [
      "[I 2024-05-25 03:57:09,421] A new study created in memory with name: no-name-ef50ac40-8347-43b2-a7da-72d8ec6b8428\n"
     ]
    },
    {
     "name": "stderr",
     "output_type": "stream",
     "text": [
      "[I 2024-05-25 03:57:22,390] Trial 0 finished with value: 0.38324889025823605 and parameters: {'max_depth': 3, 'learning_rate': 0.3958103895276559, 'n_estimators': 380, 'min_child_weight': 1, 'gamma': 0.00018587074493888798, 'subsample': 0.08076672556216737, 'colsample_bytree': 0.019035456576298564, 'reg_alpha': 0.032049299134038645, 'reg_lambda': 4.193518708773556e-06}. Best is trial 0 with value: 0.38324889025823605.\n",
      "[I 2024-05-25 03:57:36,657] Trial 1 finished with value: 0.3472838874680307 and parameters: {'max_depth': 6, 'learning_rate': 0.07483511763793442, 'n_estimators': 457, 'min_child_weight': 7, 'gamma': 0.41962322316264644, 'subsample': 0.016417470510183576, 'colsample_bytree': 0.7046475018196833, 'reg_alpha': 0.00012699859813369445, 'reg_lambda': 0.9274622041774321}. Best is trial 0 with value: 0.38324889025823605.\n",
      "[I 2024-05-25 03:58:07,005] Trial 2 finished with value: 0.3639180307018448 and parameters: {'max_depth': 6, 'learning_rate': 0.032224635394821725, 'n_estimators': 354, 'min_child_weight': 2, 'gamma': 1.369335079978772e-05, 'subsample': 0.4458740362395864, 'colsample_bytree': 0.03687022169403512, 'reg_alpha': 0.20473635824103062, 'reg_lambda': 0.0006121570343801712}. Best is trial 0 with value: 0.38324889025823605.\n",
      "[I 2024-05-25 03:58:38,393] Trial 3 finished with value: 0.3268061512368094 and parameters: {'max_depth': 6, 'learning_rate': 0.08311836810548329, 'n_estimators': 274, 'min_child_weight': 5, 'gamma': 0.020372788879979453, 'subsample': 0.37556957926395046, 'colsample_bytree': 0.8336612760299879, 'reg_alpha': 0.3179824878982575, 'reg_lambda': 4.34065727660995e-05}. Best is trial 0 with value: 0.38324889025823605.\n",
      "[I 2024-05-25 03:58:44,308] Trial 4 finished with value: 0.2778300407651301 and parameters: {'max_depth': 3, 'learning_rate': 0.020399423201221022, 'n_estimators': 161, 'min_child_weight': 6, 'gamma': 0.00026131137293682044, 'subsample': 0.027432923497732388, 'colsample_bytree': 0.017465210275965856, 'reg_alpha': 3.468333103740802e-08, 'reg_lambda': 0.0011175107898861742}. Best is trial 0 with value: 0.38324889025823605.\n",
      "[I 2024-05-25 03:58:54,033] Trial 5 finished with value: 0.3889688710163199 and parameters: {'max_depth': 2, 'learning_rate': 0.25497483917893954, 'n_estimators': 356, 'min_child_weight': 1, 'gamma': 2.998628790690854e-08, 'subsample': 0.07753282047181341, 'colsample_bytree': 0.5088293600849079, 'reg_alpha': 0.41372845780450507, 'reg_lambda': 6.608589458830144e-07}. Best is trial 5 with value: 0.3889688710163199.\n",
      "[I 2024-05-25 03:59:02,969] Trial 6 finished with value: 0.3169874040950587 and parameters: {'max_depth': 3, 'learning_rate': 0.03806550251151618, 'n_estimators': 265, 'min_child_weight': 4, 'gamma': 3.958720794866827e-06, 'subsample': 0.3853262738852079, 'colsample_bytree': 0.0783234821921449, 'reg_alpha': 2.6754509282936426e-08, 'reg_lambda': 0.0005983207738142258}. Best is trial 5 with value: 0.3889688710163199.\n",
      "[I 2024-05-25 03:59:10,030] Trial 7 finished with value: 0.2778300407651301 and parameters: {'max_depth': 1, 'learning_rate': 0.014946672517207098, 'n_estimators': 421, 'min_child_weight': 5, 'gamma': 0.00045762587669150934, 'subsample': 0.09347231070290683, 'colsample_bytree': 0.031268077431994216, 'reg_alpha': 7.241103559580814e-05, 'reg_lambda': 0.18405274870516186}. Best is trial 5 with value: 0.3889688710163199.\n",
      "[I 2024-05-25 03:59:23,931] Trial 8 finished with value: 0.3459975564505182 and parameters: {'max_depth': 9, 'learning_rate': 0.17321919090346602, 'n_estimators': 452, 'min_child_weight': 3, 'gamma': 6.567352093271042e-08, 'subsample': 0.010404685860379811, 'colsample_bytree': 0.24945822928880018, 'reg_alpha': 7.434012274953614e-07, 'reg_lambda': 0.026415407511483215}. Best is trial 5 with value: 0.3889688710163199.\n",
      "[I 2024-05-25 03:59:35,233] Trial 9 finished with value: 0.38214709667676067 and parameters: {'max_depth': 7, 'learning_rate': 0.08007240105089466, 'n_estimators': 234, 'min_child_weight': 2, 'gamma': 0.020343240552144568, 'subsample': 0.015005179461023074, 'colsample_bytree': 0.15667485036100082, 'reg_alpha': 1.8352535325339907e-07, 'reg_lambda': 0.00040241689639210784}. Best is trial 5 with value: 0.3889688710163199.\n",
      "[I 2024-05-25 03:59:37,181] Trial 10 finished with value: 0.3265434804207264 and parameters: {'max_depth': 1, 'learning_rate': 0.8723859610330441, 'n_estimators': 105, 'min_child_weight': 10, 'gamma': 1.1638763587650172e-08, 'subsample': 0.04899181083386052, 'colsample_bytree': 0.3424136067699573, 'reg_alpha': 0.0026160620374271427, 'reg_lambda': 2.6822778062347376e-08}. Best is trial 5 with value: 0.3889688710163199.\n",
      "[I 2024-05-25 03:59:49,460] Trial 11 finished with value: 0.34870171775713504 and parameters: {'max_depth': 3, 'learning_rate': 0.3918849187991019, 'n_estimators': 366, 'min_child_weight': 1, 'gamma': 5.454474981261671e-07, 'subsample': 0.16001623648350177, 'colsample_bytree': 0.07264221135126125, 'reg_alpha': 0.02157597424658533, 'reg_lambda': 4.807664491565717e-07}. Best is trial 5 with value: 0.3889688710163199.\n",
      "[I 2024-05-25 04:00:04,746] Trial 12 finished with value: 0.3314506571859513 and parameters: {'max_depth': 4, 'learning_rate': 0.28409865581005656, 'n_estimators': 341, 'min_child_weight': 1, 'gamma': 6.166314376434767e-05, 'subsample': 0.1341389007360854, 'colsample_bytree': 0.014919697823701105, 'reg_alpha': 0.007718635355381936, 'reg_lambda': 2.825666636569731e-06}. Best is trial 5 with value: 0.3889688710163199.\n",
      "[I 2024-05-25 04:00:14,285] Trial 13 finished with value: 0.3739855929763099 and parameters: {'max_depth': 2, 'learning_rate': 0.8159868103009115, 'n_estimators': 381, 'min_child_weight': 8, 'gamma': 0.002584665485547262, 'subsample': 0.05930180499554222, 'colsample_bytree': 0.010486219987417935, 'reg_alpha': 0.5520135309219469, 'reg_lambda': 2.596707465290665e-06}. Best is trial 5 with value: 0.3889688710163199.\n",
      "[I 2024-05-25 04:00:42,219] Trial 14 finished with value: 0.335515873015873 and parameters: {'max_depth': 4, 'learning_rate': 0.3621746815139883, 'n_estimators': 500, 'min_child_weight': 3, 'gamma': 8.072356049086362e-07, 'subsample': 0.2053242643698757, 'colsample_bytree': 0.42561552766058725, 'reg_alpha': 0.0003156177339513072, 'reg_lambda': 1.4089435485254509e-08}. Best is trial 5 with value: 0.3889688710163199.\n",
      "[I 2024-05-25 04:00:49,779] Trial 15 finished with value: 0.366288622799728 and parameters: {'max_depth': 2, 'learning_rate': 0.1830917938448015, 'n_estimators': 306, 'min_child_weight': 1, 'gamma': 1.9994284368387018e-05, 'subsample': 0.8791396081374586, 'colsample_bytree': 0.13351456738210382, 'reg_alpha': 0.06448083793447812, 'reg_lambda': 2.1583598916866042e-07}. Best is trial 5 with value: 0.3889688710163199.\n",
      "[I 2024-05-25 04:00:57,490] Trial 16 finished with value: 0.3523611335492524 and parameters: {'max_depth': 4, 'learning_rate': 0.5054861507202734, 'n_estimators': 191, 'min_child_weight': 3, 'gamma': 3.1114515229210584e-07, 'subsample': 0.046767216518670364, 'colsample_bytree': 0.03746539118466643, 'reg_alpha': 8.367650874556335e-06, 'reg_lambda': 2.3305863516588097e-05}. Best is trial 5 with value: 0.3889688710163199.\n",
      "[I 2024-05-25 04:01:08,589] Trial 17 finished with value: 0.3828745132699643 and parameters: {'max_depth': 2, 'learning_rate': 0.18609356273546196, 'n_estimators': 408, 'min_child_weight': 10, 'gamma': 0.0011402999318367024, 'subsample': 0.081180543157612, 'colsample_bytree': 0.202420108188773, 'reg_alpha': 0.9592577017045295, 'reg_lambda': 2.817915087292053e-06}. Best is trial 5 with value: 0.3889688710163199.\n",
      "[I 2024-05-25 04:01:11,062] Trial 18 finished with value: 0.3592844317409925 and parameters: {'max_depth': 5, 'learning_rate': 0.5797885743096284, 'n_estimators': 52, 'min_child_weight': 2, 'gamma': 1.5067668674840893e-08, 'subsample': 0.02690877891888995, 'colsample_bytree': 0.051311897111488064, 'reg_alpha': 0.001113447947240632, 'reg_lambda': 2.0391015909765493e-07}. Best is trial 5 with value: 0.3889688710163199.\n",
      "[I 2024-05-25 04:01:16,487] Trial 19 finished with value: 0.35707517338674716 and parameters: {'max_depth': 1, 'learning_rate': 0.12176923902146392, 'n_estimators': 304, 'min_child_weight': 4, 'gamma': 0.012862822891027997, 'subsample': 0.03164059499061863, 'colsample_bytree': 0.4506812900849495, 'reg_alpha': 0.03166792686078726, 'reg_lambda': 2.8565200697581e-05}. Best is trial 5 with value: 0.3889688710163199.\n",
      "[I 2024-05-25 04:01:27,638] Trial 20 finished with value: 0.3595850616704639 and parameters: {'max_depth': 3, 'learning_rate': 0.2491360325841866, 'n_estimators': 324, 'min_child_weight': 1, 'gamma': 0.44160756291384756, 'subsample': 0.19508459367830275, 'colsample_bytree': 0.11314993618327068, 'reg_alpha': 1.2118219799441107e-05, 'reg_lambda': 0.008950301785312828}. Best is trial 5 with value: 0.3889688710163199.\n",
      "[I 2024-05-25 04:01:38,446] Trial 21 finished with value: 0.40498487598306115 and parameters: {'max_depth': 2, 'learning_rate': 0.16463977113933081, 'n_estimators': 402, 'min_child_weight': 10, 'gamma': 0.0010333773433836774, 'subsample': 0.08473296929079997, 'colsample_bytree': 0.22189825515096231, 'reg_alpha': 0.5543479960270666, 'reg_lambda': 3.4768048906903438e-06}. Best is trial 21 with value: 0.40498487598306115.\n",
      "[I 2024-05-25 04:01:49,788] Trial 22 finished with value: 0.34477355072121224 and parameters: {'max_depth': 2, 'learning_rate': 0.2947012507253898, 'n_estimators': 409, 'min_child_weight': 8, 'gamma': 0.0001277857822565866, 'subsample': 0.07468294430626543, 'colsample_bytree': 0.560861919020113, 'reg_alpha': 0.12708574379561585, 'reg_lambda': 7.776519066924891e-06}. Best is trial 21 with value: 0.40498487598306115.\n",
      "[I 2024-05-25 04:02:02,900] Trial 23 finished with value: 0.38033128686082324 and parameters: {'max_depth': 2, 'learning_rate': 0.11750936655688486, 'n_estimators': 493, 'min_child_weight': 9, 'gamma': 0.0031018124448522907, 'subsample': 0.12276425223205158, 'colsample_bytree': 0.2597367457025888, 'reg_alpha': 0.004239367130952754, 'reg_lambda': 5.622288354885399e-07}. Best is trial 21 with value: 0.40498487598306115.\n",
      "[I 2024-05-25 04:02:11,491] Trial 24 finished with value: 0.3115600420251583 and parameters: {'max_depth': 1, 'learning_rate': 0.05321010357889215, 'n_estimators': 443, 'min_child_weight': 6, 'gamma': 4.4916595220108285e-06, 'subsample': 0.26869458208617913, 'colsample_bytree': 0.9568940189567529, 'reg_alpha': 0.01961866795384174, 'reg_lambda': 9.754582555415115e-08}. Best is trial 21 with value: 0.40498487598306115.\n",
      "[I 2024-05-25 04:02:21,524] Trial 25 finished with value: 0.33724646394329655 and parameters: {'max_depth': 4, 'learning_rate': 0.586849861060594, 'n_estimators': 383, 'min_child_weight': 4, 'gamma': 7.487122446300478e-05, 'subsample': 0.039449639475780694, 'colsample_bytree': 0.1604820344180107, 'reg_alpha': 0.11349560552116687, 'reg_lambda': 1.2704356380567153e-06}. Best is trial 21 with value: 0.40498487598306115.\n",
      "[I 2024-05-25 04:02:30,367] Trial 26 finished with value: 0.3608513009897562 and parameters: {'max_depth': 3, 'learning_rate': 0.14363756237927908, 'n_estimators': 226, 'min_child_weight': 7, 'gamma': 0.09886690162057286, 'subsample': 0.06649653419107349, 'colsample_bytree': 0.29087157264246716, 'reg_alpha': 0.6299058217547516, 'reg_lambda': 1.444649430741449e-05}. Best is trial 21 with value: 0.40498487598306115.\n",
      "[I 2024-05-25 04:02:52,654] Trial 27 finished with value: 0.3506604506604507 and parameters: {'max_depth': 5, 'learning_rate': 0.41933835629144456, 'n_estimators': 391, 'min_child_weight': 2, 'gamma': 0.0007580411913523823, 'subsample': 0.11719446033349515, 'colsample_bytree': 0.024752596957784284, 'reg_alpha': 0.0009737288696265276, 'reg_lambda': 0.00011653027975216751}. Best is trial 21 with value: 0.40498487598306115.\n",
      "[I 2024-05-25 04:03:02,327] Trial 28 finished with value: 0.39448958220488933 and parameters: {'max_depth': 2, 'learning_rate': 0.2753635168259775, 'n_estimators': 340, 'min_child_weight': 8, 'gamma': 0.004710859835718876, 'subsample': 0.09289986642362559, 'colsample_bytree': 0.5632002137249904, 'reg_alpha': 0.012426966567944965, 'reg_lambda': 4.7384735117982076e-08}. Best is trial 21 with value: 0.40498487598306115.\n",
      "[I 2024-05-25 04:03:21,610] Trial 29 finished with value: 0.3737885845783147 and parameters: {'max_depth': 9, 'learning_rate': 0.23683792418954225, 'n_estimators': 308, 'min_child_weight': 9, 'gamma': 0.009120792047541515, 'subsample': 0.09787677769419305, 'colsample_bytree': 0.6414704735046669, 'reg_alpha': 0.011031905608562395, 'reg_lambda': 2.2878299682913227e-08}. Best is trial 21 with value: 0.40498487598306115.\n",
      "[I 2024-05-25 04:03:28,403] Trial 30 finished with value: 0.3236051912116588 and parameters: {'max_depth': 2, 'learning_rate': 0.0576990945605695, 'n_estimators': 250, 'min_child_weight': 9, 'gamma': 0.08750299801060564, 'subsample': 0.23768293526955972, 'colsample_bytree': 0.4025188029312631, 'reg_alpha': 0.0606990732687409, 'reg_lambda': 6.712151185761199e-08}. Best is trial 21 with value: 0.40498487598306115.\n",
      "[I 2024-05-25 04:03:34,487] Trial 31 finished with value: 0.37509648599451023 and parameters: {'max_depth': 1, 'learning_rate': 0.23346510342039486, 'n_estimators': 338, 'min_child_weight': 8, 'gamma': 0.003011012218505057, 'subsample': 0.05620392425410841, 'colsample_bytree': 0.5795650677858033, 'reg_alpha': 0.12516824463154638, 'reg_lambda': 7.542469608976344e-07}. Best is trial 21 with value: 0.40498487598306115.\n",
      "[I 2024-05-25 04:03:47,877] Trial 32 finished with value: 0.34680308512222074 and parameters: {'max_depth': 3, 'learning_rate': 0.31549126327581145, 'n_estimators': 356, 'min_child_weight': 7, 'gamma': 2.62198521355595e-05, 'subsample': 0.14922488546624824, 'colsample_bytree': 0.20127476000664926, 'reg_alpha': 0.276394968587901, 'reg_lambda': 1.1053320019684793e-07}. Best is trial 21 with value: 0.40498487598306115.\n",
      "[I 2024-05-25 04:04:00,303] Trial 33 finished with value: 0.3876706400447407 and parameters: {'max_depth': 2, 'learning_rate': 0.09782033621547714, 'n_estimators': 422, 'min_child_weight': 10, 'gamma': 0.00023740762316073444, 'subsample': 0.03771664374087286, 'colsample_bytree': 0.6912231074826061, 'reg_alpha': 0.047621779969677314, 'reg_lambda': 9.428587046490963e-05}. Best is trial 21 with value: 0.40498487598306115.\n",
      "[I 2024-05-25 04:04:13,114] Trial 34 finished with value: 0.36193926846100766 and parameters: {'max_depth': 2, 'learning_rate': 0.09719764946113915, 'n_estimators': 435, 'min_child_weight': 10, 'gamma': 0.00025166435854534513, 'subsample': 0.03760884844911105, 'colsample_bytree': 0.716073356652201, 'reg_alpha': 0.042583865034866206, 'reg_lambda': 0.00011526712585061111}. Best is trial 21 with value: 0.40498487598306115.\n",
      "[I 2024-05-25 04:04:26,348] Trial 35 finished with value: 0.33730020996515897 and parameters: {'max_depth': 7, 'learning_rate': 0.06574230130383843, 'n_estimators': 397, 'min_child_weight': 9, 'gamma': 0.05366715705039339, 'subsample': 0.023118909672458398, 'colsample_bytree': 0.5221247877775677, 'reg_alpha': 0.3761023805379567, 'reg_lambda': 6.6622789899991775e-06}. Best is trial 21 with value: 0.40498487598306115.\n",
      "[I 2024-05-25 04:04:34,493] Trial 36 finished with value: 0.2914554348516613 and parameters: {'max_depth': 1, 'learning_rate': 0.03830871719612019, 'n_estimators': 466, 'min_child_weight': 10, 'gamma': 0.0010100926443934411, 'subsample': 0.019258070151507836, 'colsample_bytree': 0.7909361649468675, 'reg_alpha': 0.2642494739273296, 'reg_lambda': 0.0017243885330023502}. Best is trial 21 with value: 0.40498487598306115.\n",
      "[I 2024-05-25 04:04:45,282] Trial 37 finished with value: 0.3739968186320118 and parameters: {'max_depth': 3, 'learning_rate': 0.137304402970404, 'n_estimators': 279, 'min_child_weight': 7, 'gamma': 4.771787957264821e-06, 'subsample': 0.0930046205771756, 'colsample_bytree': 0.3425018395803708, 'reg_alpha': 0.002580144292043175, 'reg_lambda': 5.756419992297346e-05}. Best is trial 21 with value: 0.40498487598306115.\n",
      "[I 2024-05-25 04:04:59,516] Trial 38 finished with value: 0.38478357376585315 and parameters: {'max_depth': 2, 'learning_rate': 0.09858340888359195, 'n_estimators': 474, 'min_child_weight': 8, 'gamma': 0.003845485271959271, 'subsample': 0.07372227783700065, 'colsample_bytree': 0.9230981861249153, 'reg_alpha': 0.007391601664089207, 'reg_lambda': 4.090721683043231e-08}. Best is trial 21 with value: 0.40498487598306115.\n",
      "[I 2024-05-25 04:05:16,699] Trial 39 finished with value: 0.38331271017040813 and parameters: {'max_depth': 4, 'learning_rate': 0.16336926721061995, 'n_estimators': 431, 'min_child_weight': 9, 'gamma': 0.0003827049459845565, 'subsample': 0.04314131811201274, 'colsample_bytree': 0.33405132175400704, 'reg_alpha': 6.073084179078469e-05, 'reg_lambda': 1.1016168299326175e-08}. Best is trial 21 with value: 0.40498487598306115.\n",
      "[I 2024-05-25 04:05:41,035] Trial 40 finished with value: 0.30306651895621983 and parameters: {'max_depth': 5, 'learning_rate': 0.010125851763376614, 'n_estimators': 367, 'min_child_weight': 6, 'gamma': 0.03794486500964735, 'subsample': 0.5144081021726867, 'colsample_bytree': 0.20145786144238842, 'reg_alpha': 0.8294676873219975, 'reg_lambda': 2.8854446146097926e-07}. Best is trial 21 with value: 0.40498487598306115.\n",
      "[I 2024-05-25 04:05:55,545] Trial 41 finished with value: 0.36408542668643334 and parameters: {'max_depth': 2, 'learning_rate': 0.09801859301279106, 'n_estimators': 480, 'min_child_weight': 8, 'gamma': 0.0036544163563586663, 'subsample': 0.07235880889173249, 'colsample_bytree': 0.977694954975874, 'reg_alpha': 0.008821109523608891, 'reg_lambda': 6.183697422884375e-08}. Best is trial 21 with value: 0.40498487598306115.\n",
      "[I 2024-05-25 04:06:04,022] Trial 42 finished with value: 0.3987554577646371 and parameters: {'max_depth': 1, 'learning_rate': 0.20548622717656975, 'n_estimators': 464, 'min_child_weight': 10, 'gamma': 0.007262524185372453, 'subsample': 0.055513959050397334, 'colsample_bytree': 0.770547978760545, 'reg_alpha': 0.06886930920154605, 'reg_lambda': 1.3966363597278401e-06}. Best is trial 21 with value: 0.40498487598306115.\n",
      "[I 2024-05-25 04:06:12,418] Trial 43 finished with value: 0.42456168060801697 and parameters: {'max_depth': 1, 'learning_rate': 0.1630372114999095, 'n_estimators': 462, 'min_child_weight': 10, 'gamma': 0.9282139015361749, 'subsample': 0.05405069793500808, 'colsample_bytree': 0.7069936647123539, 'reg_alpha': 0.12362002443054881, 'reg_lambda': 1.3852945789235005e-06}. Best is trial 43 with value: 0.42456168060801697.\n",
      "[I 2024-05-25 04:06:20,614] Trial 44 finished with value: 0.4022329946014063 and parameters: {'max_depth': 1, 'learning_rate': 0.22004789266873934, 'n_estimators': 455, 'min_child_weight': 10, 'gamma': 0.9574346894055432, 'subsample': 0.05833353738888732, 'colsample_bytree': 0.4883273169555991, 'reg_alpha': 0.16637162348153642, 'reg_lambda': 9.828227748737898e-07}. Best is trial 43 with value: 0.42456168060801697.\n",
      "[I 2024-05-25 04:06:28,744] Trial 45 finished with value: 0.36548050455534425 and parameters: {'max_depth': 1, 'learning_rate': 0.20630597001773066, 'n_estimators': 461, 'min_child_weight': 10, 'gamma': 0.19839329079664905, 'subsample': 0.05381140201989051, 'colsample_bytree': 0.45416185619590843, 'reg_alpha': 0.1447809458649332, 'reg_lambda': 2.056924492168901e-06}. Best is trial 43 with value: 0.42456168060801697.\n",
      "[I 2024-05-25 04:06:37,278] Trial 46 finished with value: 0.34324545297358916 and parameters: {'max_depth': 1, 'learning_rate': 0.1565523510750719, 'n_estimators': 456, 'min_child_weight': 9, 'gamma': 0.8250561237766134, 'subsample': 0.11346027630568485, 'colsample_bytree': 0.7835662602047535, 'reg_alpha': 0.014578010314589706, 'reg_lambda': 7.0486406863817986e-06}. Best is trial 43 with value: 0.42456168060801697.\n",
      "[I 2024-05-25 04:06:45,590] Trial 47 finished with value: 0.3655932597469345 and parameters: {'max_depth': 1, 'learning_rate': 0.3397557769166705, 'n_estimators': 482, 'min_child_weight': 10, 'gamma': 0.2449661103781543, 'subsample': 0.031067403915770623, 'colsample_bytree': 0.6063503865519416, 'reg_alpha': 0.20859363151401555, 'reg_lambda': 1.4532570495098461e-06}. Best is trial 43 with value: 0.42456168060801697.\n",
      "[I 2024-05-25 04:06:53,392] Trial 48 finished with value: 0.3438822920092697 and parameters: {'max_depth': 1, 'learning_rate': 0.4443582562228823, 'n_estimators': 444, 'min_child_weight': 9, 'gamma': 0.4017052717535562, 'subsample': 0.0579768667071063, 'colsample_bytree': 0.37545688687649376, 'reg_alpha': 0.07926103169798958, 'reg_lambda': 0.6777493015338005}. Best is trial 43 with value: 0.42456168060801697.\n",
      "[I 2024-05-25 04:07:00,470] Trial 49 finished with value: 0.40050428201231414 and parameters: {'max_depth': 1, 'learning_rate': 0.19880335551956865, 'n_estimators': 407, 'min_child_weight': 10, 'gamma': 0.008227894414870828, 'subsample': 0.08725276399487135, 'colsample_bytree': 0.27493306200693063, 'reg_alpha': 0.023012087799782838, 'reg_lambda': 8.258500631582647e-07}. Best is trial 43 with value: 0.42456168060801697.\n"
     ]
    },
    {
     "name": "stdout",
     "output_type": "stream",
     "text": [
      "Number of finished trials: 50\n",
      "Best trial:\n",
      "  Value: 0.42456168060801697\n",
      "  Params: \n",
      "    max_depth: 1\n",
      "    learning_rate: 0.1630372114999095\n",
      "    n_estimators: 462\n",
      "    min_child_weight: 10\n",
      "    gamma: 0.9282139015361749\n",
      "    subsample: 0.05405069793500808\n",
      "    colsample_bytree: 0.7069936647123539\n",
      "    reg_alpha: 0.12362002443054881\n",
      "    reg_lambda: 1.3852945789235005e-06\n",
      "Training\n",
      "\n",
      "[[ 127  399   42]\n",
      " [ 135 2804  158]\n",
      " [  41  486  148]]\n",
      "              precision    recall  f1-score   support\n",
      "\n",
      "         0.0       0.42      0.22      0.29       568\n",
      "         1.0       0.76      0.91      0.83      3097\n",
      "         2.0       0.43      0.22      0.29       675\n",
      "\n",
      "    accuracy                           0.71      4340\n",
      "   macro avg       0.53      0.45      0.47      4340\n",
      "weighted avg       0.66      0.71      0.67      4340\n",
      "\n",
      "Testing\n",
      "\n",
      "[[ 13  61   7]\n",
      " [ 28 391  24]\n",
      " [  5  72  19]]\n",
      "              precision    recall  f1-score   support\n",
      "\n",
      "         0.0       0.28      0.16      0.20        81\n",
      "         1.0       0.75      0.88      0.81       443\n",
      "         2.0       0.38      0.20      0.26        96\n",
      "\n",
      "    accuracy                           0.68       620\n",
      "   macro avg       0.47      0.41      0.42       620\n",
      "weighted avg       0.63      0.68      0.64       620\n",
      "\n"
     ]
    }
   ],
   "source": [
    "X_train, X_test, y_train, y_test = pentad_data(2)\n",
    "xgb(X_train, y_train, X_test, y_test)"
   ]
  }
 ],
 "metadata": {
  "kernelspec": {
   "display_name": "tf_clone",
   "language": "python",
   "name": "python3"
  },
  "language_info": {
   "codemirror_mode": {
    "name": "ipython",
    "version": 3
   },
   "file_extension": ".py",
   "mimetype": "text/x-python",
   "name": "python",
   "nbconvert_exporter": "python",
   "pygments_lexer": "ipython3",
   "version": "3.10.13"
  }
 },
 "nbformat": 4,
 "nbformat_minor": 2
}
