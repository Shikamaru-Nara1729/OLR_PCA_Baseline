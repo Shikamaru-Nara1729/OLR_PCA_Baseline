{
 "cells": [
  {
   "cell_type": "markdown",
   "metadata": {},
   "source": [
    "# SVM"
   ]
  },
  {
   "cell_type": "markdown",
   "metadata": {},
   "source": [
    "## Imports and Data Loading"
   ]
  },
  {
   "cell_type": "code",
   "execution_count": 1,
   "metadata": {},
   "outputs": [],
   "source": [
    "import sys\n",
    "sys.path.append('/home/apoorva/Desktop/Work/olr')"
   ]
  },
  {
   "cell_type": "code",
   "execution_count": 1,
   "metadata": {},
   "outputs": [
    {
     "name": "stderr",
     "output_type": "stream",
     "text": [
      "/home/apoorva/anaconda3/envs/tf_clone/lib/python3.10/site-packages/tqdm/auto.py:21: TqdmWarning: IProgress not found. Please update jupyter and ipywidgets. See https://ipywidgets.readthedocs.io/en/stable/user_install.html\n",
      "  from .autonotebook import tqdm as notebook_tqdm\n"
     ]
    }
   ],
   "source": [
    "import numpy as np\n",
    "from sklearn.svm import SVC\n",
    "from sklearn.metrics import confusion_matrix, classification_report\n",
    "from sklearn.model_selection import train_test_split\n",
    "\n",
    "from scripts.utils.load import load_pca_anomaly"
   ]
  },
  {
   "cell_type": "code",
   "execution_count": 2,
   "metadata": {},
   "outputs": [
    {
     "data": {
      "text/plain": [
       "((5960, 5960), (40, 135))"
      ]
     },
     "execution_count": 2,
     "metadata": {},
     "output_type": "execute_result"
    }
   ],
   "source": [
    "pca_x, olr_labels = load_pca_anomaly()\n",
    "pca_x.shape, olr_labels.shape"
   ]
  },
  {
   "cell_type": "code",
   "execution_count": 3,
   "metadata": {},
   "outputs": [
    {
     "data": {
      "text/plain": [
       "(5960, 50)"
      ]
     },
     "execution_count": 3,
     "metadata": {},
     "output_type": "execute_result"
    }
   ],
   "source": [
    "pca_x_50 = pca_x[:, :50]\n",
    "pca_x_50.shape"
   ]
  },
  {
   "cell_type": "code",
   "execution_count": 19,
   "metadata": {},
   "outputs": [],
   "source": [
    "def svm_classifier(X_train, y_train, X_test, y_test, kernel='sigmoid'):\n",
    "    classifier = SVC(random_state=1337, kernel=kernel)\n",
    "    classifier.fit(X_train, y_train)\n",
    "\n",
    "    y_pred = classifier.predict(X_train)\n",
    "    print(\"Training\\n\")\n",
    "    print(confusion_matrix(y_pred=y_pred, y_true=y_train))\n",
    "    print(classification_report(y_pred=y_pred, y_true=y_train))\n",
    "\n",
    "    y_pred = classifier.predict(X_test)\n",
    "    print(\"Testing\\n\")\n",
    "    print(confusion_matrix(y_pred=y_pred, y_true=y_test))\n",
    "    print(classification_report(y_pred=y_pred, y_true=y_test))"
   ]
  },
  {
   "cell_type": "code",
   "execution_count": 5,
   "metadata": {},
   "outputs": [],
   "source": [
    "def pentad_data(count):\n",
    "    '''\n",
    "    count is 0-indexed\n",
    "    count = 0 corresponds to first leading pentad\n",
    "    count = 1 corresponds to second leading pentad\n",
    "    count = 2 corresponds to third leading pentad\n",
    "    '''\n",
    "    global olr_labels, pca_x\n",
    "    assert count == 0 or count == 1 or count == 2\n",
    "    pca_x_50 = pca_x[:, :50]\n",
    "    pca_x_50 = np.array([pca_x_50[i*40+j:i*40+j+15, :] for j in range(134 - (5*count)) for i in range(40)])\n",
    "    labels = np.reshape(np.reshape(olr_labels, (40, 135))[:, 1+(5*count):], (-1))\n",
    "    X_train, X_test, y_train, y_test = train_test_split(pca_x_50, labels, random_state=1337, train_size=0.875, stratify=labels)\n",
    "    X_train = np.reshape(X_train, (X_train.shape[0], -1))\n",
    "    X_test = np.reshape(X_test, (X_test.shape[0], -1))\n",
    "    return X_train, X_test, y_train, y_test"
   ]
  },
  {
   "cell_type": "markdown",
   "metadata": {},
   "source": [
    "## First Pentad"
   ]
  },
  {
   "cell_type": "code",
   "execution_count": 6,
   "metadata": {},
   "outputs": [],
   "source": [
    "X_train, X_test, y_train, y_test = pentad_data(0)"
   ]
  },
  {
   "cell_type": "code",
   "execution_count": 7,
   "metadata": {},
   "outputs": [
    {
     "name": "stdout",
     "output_type": "stream",
     "text": [
      "Training\n",
      "\n",
      "[[   4  592   18]\n",
      " [  44 3267   90]\n",
      " [   9  657    9]]\n",
      "              precision    recall  f1-score   support\n",
      "\n",
      "         0.0       0.07      0.01      0.01       614\n",
      "         1.0       0.72      0.96      0.83      3401\n",
      "         2.0       0.08      0.01      0.02       675\n",
      "\n",
      "    accuracy                           0.70      4690\n",
      "   macro avg       0.29      0.33      0.29      4690\n",
      "weighted avg       0.54      0.70      0.60      4690\n",
      "\n",
      "Testing\n",
      "\n",
      "[[  1  81   6]\n",
      " [  5 472   9]\n",
      " [  1  94   1]]\n",
      "              precision    recall  f1-score   support\n",
      "\n",
      "         0.0       0.14      0.01      0.02        88\n",
      "         1.0       0.73      0.97      0.83       486\n",
      "         2.0       0.06      0.01      0.02        96\n",
      "\n",
      "    accuracy                           0.71       670\n",
      "   macro avg       0.31      0.33      0.29       670\n",
      "weighted avg       0.56      0.71      0.61       670\n",
      "\n"
     ]
    }
   ],
   "source": [
    "svm_classifier(X_train, y_train, X_test, y_test, kernel='sigmoid')"
   ]
  },
  {
   "cell_type": "code",
   "execution_count": 8,
   "metadata": {},
   "outputs": [
    {
     "name": "stdout",
     "output_type": "stream",
     "text": [
      "Training\n",
      "\n",
      "[[  24  586    4]\n",
      " [   3 3398    0]\n",
      " [   5  654   16]]\n",
      "              precision    recall  f1-score   support\n",
      "\n",
      "         0.0       0.75      0.04      0.07       614\n",
      "         1.0       0.73      1.00      0.85      3401\n",
      "         2.0       0.80      0.02      0.05       675\n",
      "\n",
      "    accuracy                           0.73      4690\n",
      "   macro avg       0.76      0.35      0.32      4690\n",
      "weighted avg       0.74      0.73      0.63      4690\n",
      "\n",
      "Testing\n",
      "\n",
      "[[  1  86   1]\n",
      " [  2 483   1]\n",
      " [  1  95   0]]\n",
      "              precision    recall  f1-score   support\n",
      "\n",
      "         0.0       0.25      0.01      0.02        88\n",
      "         1.0       0.73      0.99      0.84       486\n",
      "         2.0       0.00      0.00      0.00        96\n",
      "\n",
      "    accuracy                           0.72       670\n",
      "   macro avg       0.33      0.34      0.29       670\n",
      "weighted avg       0.56      0.72      0.61       670\n",
      "\n"
     ]
    }
   ],
   "source": [
    "svm_classifier(X_train, y_train, X_test, y_test, kernel='rbf')"
   ]
  },
  {
   "cell_type": "code",
   "execution_count": 9,
   "metadata": {},
   "outputs": [
    {
     "name": "stdout",
     "output_type": "stream",
     "text": [
      "Training\n",
      "\n",
      "[[  69  537    8]\n",
      " [  11 3386    4]\n",
      " [  10  610   55]]\n",
      "              precision    recall  f1-score   support\n",
      "\n",
      "         0.0       0.77      0.11      0.20       614\n",
      "         1.0       0.75      1.00      0.85      3401\n",
      "         2.0       0.82      0.08      0.15       675\n",
      "\n",
      "    accuracy                           0.75      4690\n",
      "   macro avg       0.78      0.40      0.40      4690\n",
      "weighted avg       0.76      0.75      0.67      4690\n",
      "\n",
      "Testing\n",
      "\n",
      "[[  4  82   2]\n",
      " [ 14 463   9]\n",
      " [  5  90   1]]\n",
      "              precision    recall  f1-score   support\n",
      "\n",
      "         0.0       0.17      0.05      0.07        88\n",
      "         1.0       0.73      0.95      0.83       486\n",
      "         2.0       0.08      0.01      0.02        96\n",
      "\n",
      "    accuracy                           0.70       670\n",
      "   macro avg       0.33      0.34      0.31       670\n",
      "weighted avg       0.56      0.70      0.61       670\n",
      "\n"
     ]
    }
   ],
   "source": [
    "svm_classifier(X_train, y_train, X_test, y_test, kernel='poly')"
   ]
  },
  {
   "cell_type": "markdown",
   "metadata": {},
   "source": [
    "## Second Pentad"
   ]
  },
  {
   "cell_type": "code",
   "execution_count": 10,
   "metadata": {},
   "outputs": [],
   "source": [
    "X_train, X_test, y_train, y_test = pentad_data(1)"
   ]
  },
  {
   "cell_type": "code",
   "execution_count": 11,
   "metadata": {},
   "outputs": [
    {
     "name": "stdout",
     "output_type": "stream",
     "text": [
      "Training\n",
      "\n",
      "[[  16  566    8]\n",
      " [ 119 3063   68]\n",
      " [  15  654    6]]\n",
      "              precision    recall  f1-score   support\n",
      "\n",
      "         0.0       0.11      0.03      0.04       590\n",
      "         1.0       0.72      0.94      0.81      3250\n",
      "         2.0       0.07      0.01      0.02       675\n",
      "\n",
      "    accuracy                           0.68      4515\n",
      "   macro avg       0.30      0.33      0.29      4515\n",
      "weighted avg       0.54      0.68      0.59      4515\n",
      "\n",
      "Testing\n",
      "\n",
      "[[  5  74   5]\n",
      " [ 21 435   9]\n",
      " [  6  87   3]]\n",
      "              precision    recall  f1-score   support\n",
      "\n",
      "         0.0       0.16      0.06      0.09        84\n",
      "         1.0       0.73      0.94      0.82       465\n",
      "         2.0       0.18      0.03      0.05        96\n",
      "\n",
      "    accuracy                           0.69       645\n",
      "   macro avg       0.35      0.34      0.32       645\n",
      "weighted avg       0.57      0.69      0.61       645\n",
      "\n"
     ]
    }
   ],
   "source": [
    "svm_classifier(X_train, y_train, X_test, y_test, kernel='sigmoid')"
   ]
  },
  {
   "cell_type": "code",
   "execution_count": 12,
   "metadata": {},
   "outputs": [
    {
     "name": "stdout",
     "output_type": "stream",
     "text": [
      "Training\n",
      "\n",
      "[[  22  568    0]\n",
      " [   4 3246    0]\n",
      " [   3  644   28]]\n",
      "              precision    recall  f1-score   support\n",
      "\n",
      "         0.0       0.76      0.04      0.07       590\n",
      "         1.0       0.73      1.00      0.84      3250\n",
      "         2.0       1.00      0.04      0.08       675\n",
      "\n",
      "    accuracy                           0.73      4515\n",
      "   macro avg       0.83      0.36      0.33      4515\n",
      "weighted avg       0.77      0.73      0.63      4515\n",
      "\n",
      "Testing\n",
      "\n",
      "[[  1  83   0]\n",
      " [  2 461   2]\n",
      " [  0  95   1]]\n",
      "              precision    recall  f1-score   support\n",
      "\n",
      "         0.0       0.33      0.01      0.02        84\n",
      "         1.0       0.72      0.99      0.84       465\n",
      "         2.0       0.33      0.01      0.02        96\n",
      "\n",
      "    accuracy                           0.72       645\n",
      "   macro avg       0.46      0.34      0.29       645\n",
      "weighted avg       0.61      0.72      0.61       645\n",
      "\n"
     ]
    }
   ],
   "source": [
    "svm_classifier(X_train, y_train, X_test, y_test, kernel='rbf')"
   ]
  },
  {
   "cell_type": "code",
   "execution_count": 13,
   "metadata": {},
   "outputs": [
    {
     "name": "stdout",
     "output_type": "stream",
     "text": [
      "Training\n",
      "\n",
      "[[  59  527    4]\n",
      " [  15 3229    6]\n",
      " [   6  622   47]]\n",
      "              precision    recall  f1-score   support\n",
      "\n",
      "         0.0       0.74      0.10      0.18       590\n",
      "         1.0       0.74      0.99      0.85      3250\n",
      "         2.0       0.82      0.07      0.13       675\n",
      "\n",
      "    accuracy                           0.74      4515\n",
      "   macro avg       0.77      0.39      0.38      4515\n",
      "weighted avg       0.75      0.74      0.65      4515\n",
      "\n",
      "Testing\n",
      "\n",
      "[[  1  82   1]\n",
      " [  9 450   6]\n",
      " [  1  94   1]]\n",
      "              precision    recall  f1-score   support\n",
      "\n",
      "         0.0       0.09      0.01      0.02        84\n",
      "         1.0       0.72      0.97      0.82       465\n",
      "         2.0       0.12      0.01      0.02        96\n",
      "\n",
      "    accuracy                           0.70       645\n",
      "   macro avg       0.31      0.33      0.29       645\n",
      "weighted avg       0.55      0.70      0.60       645\n",
      "\n"
     ]
    }
   ],
   "source": [
    "svm_classifier(X_train, y_train, X_test, y_test, kernel='poly')"
   ]
  },
  {
   "cell_type": "markdown",
   "metadata": {},
   "source": [
    "## Third Pentad"
   ]
  },
  {
   "cell_type": "code",
   "execution_count": 14,
   "metadata": {},
   "outputs": [],
   "source": [
    "X_train, X_test, y_train, y_test = pentad_data(1)"
   ]
  },
  {
   "cell_type": "code",
   "execution_count": 15,
   "metadata": {},
   "outputs": [
    {
     "name": "stdout",
     "output_type": "stream",
     "text": [
      "Training\n",
      "\n",
      "[[  16  566    8]\n",
      " [ 119 3063   68]\n",
      " [  15  654    6]]\n",
      "              precision    recall  f1-score   support\n",
      "\n",
      "         0.0       0.11      0.03      0.04       590\n",
      "         1.0       0.72      0.94      0.81      3250\n",
      "         2.0       0.07      0.01      0.02       675\n",
      "\n",
      "    accuracy                           0.68      4515\n",
      "   macro avg       0.30      0.33      0.29      4515\n",
      "weighted avg       0.54      0.68      0.59      4515\n",
      "\n",
      "Testing\n",
      "\n",
      "[[  5  74   5]\n",
      " [ 21 435   9]\n",
      " [  6  87   3]]\n",
      "              precision    recall  f1-score   support\n",
      "\n",
      "         0.0       0.16      0.06      0.09        84\n",
      "         1.0       0.73      0.94      0.82       465\n",
      "         2.0       0.18      0.03      0.05        96\n",
      "\n",
      "    accuracy                           0.69       645\n",
      "   macro avg       0.35      0.34      0.32       645\n",
      "weighted avg       0.57      0.69      0.61       645\n",
      "\n"
     ]
    }
   ],
   "source": [
    "svm_classifier(X_train, y_train, X_test, y_test, kernel='sigmoid')"
   ]
  },
  {
   "cell_type": "code",
   "execution_count": 16,
   "metadata": {},
   "outputs": [
    {
     "name": "stdout",
     "output_type": "stream",
     "text": [
      "Training\n",
      "\n",
      "[[  22  568    0]\n",
      " [   4 3246    0]\n",
      " [   3  644   28]]\n",
      "              precision    recall  f1-score   support\n",
      "\n",
      "         0.0       0.76      0.04      0.07       590\n",
      "         1.0       0.73      1.00      0.84      3250\n",
      "         2.0       1.00      0.04      0.08       675\n",
      "\n",
      "    accuracy                           0.73      4515\n",
      "   macro avg       0.83      0.36      0.33      4515\n",
      "weighted avg       0.77      0.73      0.63      4515\n",
      "\n",
      "Testing\n",
      "\n",
      "[[  1  83   0]\n",
      " [  2 461   2]\n",
      " [  0  95   1]]\n",
      "              precision    recall  f1-score   support\n",
      "\n",
      "         0.0       0.33      0.01      0.02        84\n",
      "         1.0       0.72      0.99      0.84       465\n",
      "         2.0       0.33      0.01      0.02        96\n",
      "\n",
      "    accuracy                           0.72       645\n",
      "   macro avg       0.46      0.34      0.29       645\n",
      "weighted avg       0.61      0.72      0.61       645\n",
      "\n"
     ]
    }
   ],
   "source": [
    "svm_classifier(X_train, y_train, X_test, y_test, kernel='rbf')"
   ]
  },
  {
   "cell_type": "code",
   "execution_count": 17,
   "metadata": {},
   "outputs": [
    {
     "name": "stdout",
     "output_type": "stream",
     "text": [
      "Training\n",
      "\n",
      "[[  59  527    4]\n",
      " [  15 3229    6]\n",
      " [   6  622   47]]\n",
      "              precision    recall  f1-score   support\n",
      "\n",
      "         0.0       0.74      0.10      0.18       590\n",
      "         1.0       0.74      0.99      0.85      3250\n",
      "         2.0       0.82      0.07      0.13       675\n",
      "\n",
      "    accuracy                           0.74      4515\n",
      "   macro avg       0.77      0.39      0.38      4515\n",
      "weighted avg       0.75      0.74      0.65      4515\n",
      "\n",
      "Testing\n",
      "\n",
      "[[  1  82   1]\n",
      " [  9 450   6]\n",
      " [  1  94   1]]\n",
      "              precision    recall  f1-score   support\n",
      "\n",
      "         0.0       0.09      0.01      0.02        84\n",
      "         1.0       0.72      0.97      0.82       465\n",
      "         2.0       0.12      0.01      0.02        96\n",
      "\n",
      "    accuracy                           0.70       645\n",
      "   macro avg       0.31      0.33      0.29       645\n",
      "weighted avg       0.55      0.70      0.60       645\n",
      "\n"
     ]
    }
   ],
   "source": [
    "svm_classifier(X_train, y_train, X_test, y_test, kernel='poly')"
   ]
  }
 ],
 "metadata": {
  "kernelspec": {
   "display_name": "tf_clone",
   "language": "python",
   "name": "python3"
  },
  "language_info": {
   "codemirror_mode": {
    "name": "ipython",
    "version": 3
   },
   "file_extension": ".py",
   "mimetype": "text/x-python",
   "name": "python",
   "nbconvert_exporter": "python",
   "pygments_lexer": "ipython3",
   "version": "3.10.13"
  }
 },
 "nbformat": 4,
 "nbformat_minor": 2
}
